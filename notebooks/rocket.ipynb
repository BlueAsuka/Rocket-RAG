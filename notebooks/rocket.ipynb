{
 "cells": [
  {
   "cell_type": "markdown",
   "metadata": {},
   "source": [
    "### ROCKET\n",
    "RandOm Convolutional KErnel Transform functions for univariate and multivariate time series."
   ]
  },
  {
   "cell_type": "markdown",
   "metadata": {},
   "source": [
    "#### 1. Load the data"
   ]
  },
  {
   "cell_type": "code",
   "execution_count": 1,
   "metadata": {},
   "outputs": [],
   "source": [
    "RAW_DATA_DIR = '../data/raw/'\n",
    "INSTANCES_DIR = '../data/instances/'\n",
    "INFERENCE_DIR = '../data/inference/'\n",
    "STATES = ['normal', \n",
    "          'backlash1', 'backlash2',\n",
    "          'lackLubrication1', 'lackLubrication2',\n",
    "          'spalling1', 'spalling2', 'spalling3', 'spalling4',\n",
    "          'spalling5', 'spalling6', 'spalling7', 'spalling8']\n",
    "LOADS= ['20kg', '40kg', '-40kg']\n",
    "SMOOTHING_PE_WINDOW_SIZE = 20\n",
    "SMOOTHING_CUR_WINDOW_SIZE = 15"
   ]
  },
  {
   "cell_type": "code",
   "execution_count": 2,
   "metadata": {},
   "outputs": [],
   "source": [
    "import sys\n",
    "sys.path.append('../')\n",
    "from rocket_rag.utils import *\n",
    "\n",
    "import random"
   ]
  },
  {
   "cell_type": "code",
   "execution_count": 3,
   "metadata": {},
   "outputs": [],
   "source": [
    "load = '20kg'\n",
    "load_state_dict = {load: [os.listdir(os.path.join(INSTANCES_DIR, load, state)) for state in STATES] for load in LOADS}\n",
    "\n",
    "random.seed(42)\n",
    "rand_state = random.sample(STATES, 1)[0]\n",
    "rand_idx = random.randint(0, 10)\n",
    "random_sample = load_state_dict[load][STATES.index(rand_state)][rand_idx]"
   ]
  },
  {
   "cell_type": "code",
   "execution_count": 4,
   "metadata": {},
   "outputs": [
    {
     "data": {
      "text/plain": [
       "'spalling6_20_10_2.csv'"
      ]
     },
     "execution_count": 4,
     "metadata": {},
     "output_type": "execute_result"
    }
   ],
   "source": [
    "random_sample"
   ]
  },
  {
   "cell_type": "code",
   "execution_count": 5,
   "metadata": {},
   "outputs": [
    {
     "name": "stderr",
     "output_type": "stream",
     "text": [
      "\u001b[32m2024-03-15 04:17:16.102\u001b[0m | \u001b[1mINFO    \u001b[0m | \u001b[36mrocket_rag.utils\u001b[0m:\u001b[36mfit\u001b[0m:\u001b[36m123\u001b[0m - \u001b[1mtime series extracted SUCCESSFULLY.\u001b[0m\n"
     ]
    }
   ],
   "source": [
    "ts_filename = os.path.join(INSTANCES_DIR, load, rand_state, random_sample)\n",
    "cur_ts = fit(ts_filename, \n",
    "             field='current', \n",
    "             smooth=True, \n",
    "             smooth_ws=SMOOTHING_CUR_WINDOW_SIZE, \n",
    "             tolist=True, \n",
    "             verbo=True)"
   ]
  },
  {
   "cell_type": "markdown",
   "metadata": {},
   "source": [
    "#### 2. ROCKET implementation"
   ]
  },
  {
   "cell_type": "code",
   "execution_count": 6,
   "metadata": {},
   "outputs": [],
   "source": [
    "import torch\n",
    "import torch.nn as nn"
   ]
  },
  {
   "cell_type": "code",
   "execution_count": 7,
   "metadata": {},
   "outputs": [
    {
     "data": {
      "text/plain": [
       "'cuda'"
      ]
     },
     "execution_count": 7,
     "metadata": {},
     "output_type": "execute_result"
    }
   ],
   "source": [
    "device = 'cuda' if torch.cuda.is_available() else 'cpu'\n",
    "device"
   ]
  },
  {
   "cell_type": "code",
   "execution_count": 8,
   "metadata": {},
   "outputs": [],
   "source": [
    "class ROCKET(nn.Module):\n",
    "    \"\"\"\n",
    "    \"\"\"\n",
    "    \n",
    "    def __init__(self, c_in, seq_len, n_kernels=10_000, kss=[7, 9, 11], device=None, verbose=False):\n",
    "        super().__init__()\n",
    "        kss = [ks for ks in kss if ks < seq_len]\n",
    "        convs = nn.ModuleList()\n",
    "        for i in range(n_kernels):\n",
    "            ks = np.random.choice(kss)\n",
    "            dilation = 2**np.random.uniform(0, np.log2((seq_len - 1) // (ks - 1)))\n",
    "            padding = int((ks - 1) * dilation // 2) if np.random.randint(2) == 1 else 0\n",
    "            weight = torch.randn(1, c_in, ks)\n",
    "            weight -= weight.mean()\n",
    "            bias = 2 * (torch.rand(1) - .5)\n",
    "            layer = nn.Conv1d(c_in, 1, ks, padding=2 * padding, dilation=int(dilation), bias=True)\n",
    "            layer.weight = torch.nn.Parameter(weight, requires_grad=False)\n",
    "            layer.bias = torch.nn.Parameter(bias, requires_grad=False)\n",
    "            convs.append(layer)\n",
    "        self.convs = convs\n",
    "        self.n_kernels = n_kernels\n",
    "        self.kss = kss\n",
    "        self.to(device=device)\n",
    "        self.verbose=verbose\n",
    "    \n",
    "    def forward(self, x):\n",
    "        _output = []\n",
    "        for i in range(self.n_kernels):\n",
    "            out = self.convs[i](x).cpu()\n",
    "            _max = out.max(dim=-1)[0]\n",
    "            _ppv = torch.gt(out, 0).sum(dim=-1).float() / out.shape[-1]\n",
    "            _output.append(_max)\n",
    "            _output.append(_ppv)\n",
    "        return torch.cat(_output, dim=-1)"
   ]
  },
  {
   "cell_type": "code",
   "execution_count": 9,
   "metadata": {},
   "outputs": [],
   "source": [
    "rocket = ROCKET(c_in=1, seq_len=len(cur_ts), device=device)"
   ]
  },
  {
   "cell_type": "code",
   "execution_count": 10,
   "metadata": {},
   "outputs": [
    {
     "data": {
      "text/plain": [
       "tensor([[[0.5581, 0.4940, 0.4547, 0.5040, 0.5723, 0.6208, 0.6423, 0.6525,\n",
       "          0.6490, 0.6350, 0.6273, 0.6236, 0.6150, 0.6080, 0.6017, 0.5999,\n",
       "          0.5935, 0.5929, 0.6051, 0.6016, 0.5819, 0.5626, 0.5506, 0.5486,\n",
       "          0.5501, 0.5553, 0.5604, 0.5685, 0.5792, 0.5903, 0.5978, 0.6070,\n",
       "          0.6240, 0.6450, 0.6563, 0.6659, 0.6796, 0.6960, 0.7125, 0.7200,\n",
       "          0.7259, 0.7352, 0.7433, 0.7454, 0.7506, 0.7503, 0.7499, 0.7494,\n",
       "          0.7456, 0.7433, 0.7388, 0.7321, 0.7288, 0.7222, 0.7152, 0.7056,\n",
       "          0.6990, 0.6949, 0.6914, 0.6901, 0.6852, 0.6855, 0.6915, 0.6940,\n",
       "          0.7034, 0.7062, 0.7104, 0.7145, 0.7162, 0.7177, 0.7149, 0.7194,\n",
       "          0.7194, 0.7231, 0.7228, 0.7278, 0.7295, 0.7320, 0.7276, 0.7244,\n",
       "          0.7161, 0.7108, 0.7039, 0.7030, 0.6988, 0.6993, 0.6958, 0.6934,\n",
       "          0.6921, 0.6936, 0.6938, 0.6861, 0.6835, 0.6806, 0.6815, 0.6843,\n",
       "          0.6863, 0.6852, 0.6858, 0.6855, 0.6884, 0.6835, 0.6848, 0.6833,\n",
       "          0.6913, 0.6916, 0.6929, 0.6946, 0.6972, 0.7013, 0.7077, 0.7094,\n",
       "          0.7074, 0.7093, 0.7120, 0.7085, 0.7107, 0.7089, 0.7124, 0.7130,\n",
       "          0.7138, 0.7163, 0.7162, 0.7187, 0.7256, 0.7289, 0.7312, 0.7384,\n",
       "          0.7462, 0.7357, 0.7202, 0.6977, 0.6667, 0.6559, 0.6556, 0.6597,\n",
       "          0.6500, 0.6323, 0.6158, 0.6023, 0.5954, 0.5941, 0.5869, 0.5669,\n",
       "          0.5465, 0.5398, 0.5353, 0.5472, 0.5632, 0.5706, 0.5610, 0.5442,\n",
       "          0.5272, 0.5074, 0.4977, 0.4982, 0.4869, 0.4690, 0.4423, 0.4232,\n",
       "          0.4129, 0.4138, 0.4124, 0.4091, 0.3980, 0.3788, 0.3567, 0.3472,\n",
       "          0.3532, 0.3621, 0.3690, 0.3528, 0.3432, 0.3361, 0.3554, 0.3735,\n",
       "          0.3829, 0.3712, 0.3706, 0.3693, 0.3752, 0.3782, 0.3810, 0.3827,\n",
       "          0.3755, 0.3772, 0.3657, 0.3671, 0.3737, 0.3712, 0.3576, 0.3383,\n",
       "          0.3233, 0.3278, 0.3330, 0.3436, 0.3523, 0.3572, 0.3563, 0.3582,\n",
       "          0.3652, 0.3636, 0.3845, 0.4103, 0.4459, 0.4915, 0.5275, 0.5698,\n",
       "          0.6152, 0.6531, 0.6783, 0.6954, 0.7136, 0.7417, 0.7814, 0.8083,\n",
       "          0.8304, 0.8582, 0.8720, 0.8809, 0.8653, 0.8469, 0.8449, 0.8410,\n",
       "          0.8289, 0.8219, 0.8241, 0.8252, 0.8255, 0.8241, 0.8264, 0.8349,\n",
       "          0.8396, 0.8484, 0.8525, 0.8512, 0.8589, 0.8631, 0.8602, 0.8608,\n",
       "          0.8681, 0.8754, 0.8788, 0.8812, 0.8826, 0.8840, 0.8870, 0.8833,\n",
       "          0.8873, 0.8846, 0.8904, 0.8939, 0.8914, 0.8949, 0.8998, 0.9012,\n",
       "          0.9016, 0.9041, 0.9039, 0.9002, 0.9006, 0.9098, 0.9116, 0.9092,\n",
       "          0.9079, 0.9073, 0.9074, 0.9065, 0.9084, 0.9055, 0.9097, 0.9118,\n",
       "          0.9156, 0.9112, 0.9088, 0.9123, 0.9168, 0.9198, 0.9170, 0.9199,\n",
       "          0.9163, 0.9206, 0.9227, 0.9271, 0.9249, 0.9273, 0.9216, 0.9226,\n",
       "          0.9200, 0.9169, 0.9160, 0.9183, 0.9219, 0.9148, 0.9140, 0.9122,\n",
       "          0.9169, 0.9172, 0.9138, 0.9102, 0.9112, 0.9095, 0.9111, 0.9149,\n",
       "          0.9145, 0.9152, 0.9197, 0.9215, 0.9228, 0.9218, 0.9191, 0.9191,\n",
       "          0.9220, 0.9245, 0.9226, 0.9211, 0.9239, 0.9279, 0.9295, 0.9243,\n",
       "          0.9261, 0.9315, 0.9311, 0.9298]]])"
      ]
     },
     "execution_count": 10,
     "metadata": {},
     "output_type": "execute_result"
    }
   ],
   "source": [
    "cur_ts_tensor = torch.tensor([cur_ts], dtype=torch.float32)\n",
    "cur_ts_tensor.unsqueeze(1)"
   ]
  },
  {
   "cell_type": "code",
   "execution_count": 79,
   "metadata": {},
   "outputs": [
    {
     "name": "stdout",
     "output_type": "stream",
     "text": [
      "tensor([-0.6733,  0.0000,  0.8113,  ...,  0.0652,  1.3030,  1.0000])\n"
     ]
    }
   ],
   "source": [
    "rocket_trans = rocket(cur_ts_tensor)\n",
    "print(rocket_trans)"
   ]
  },
  {
   "cell_type": "code",
   "execution_count": 81,
   "metadata": {},
   "outputs": [
    {
     "data": {
      "text/plain": [
       "torch.Size([20000])"
      ]
     },
     "execution_count": 81,
     "metadata": {},
     "output_type": "execute_result"
    }
   ],
   "source": [
    "rocket_trans.shape"
   ]
  },
  {
   "cell_type": "code",
   "execution_count": null,
   "metadata": {},
   "outputs": [],
   "source": []
  }
 ],
 "metadata": {
  "kernelspec": {
   "display_name": "agents",
   "language": "python",
   "name": "python3"
  },
  "language_info": {
   "codemirror_mode": {
    "name": "ipython",
    "version": 3
   },
   "file_extension": ".py",
   "mimetype": "text/x-python",
   "name": "python",
   "nbconvert_exporter": "python",
   "pygments_lexer": "ipython3",
   "version": "3.11.5"
  }
 },
 "nbformat": 4,
 "nbformat_minor": 2
}
