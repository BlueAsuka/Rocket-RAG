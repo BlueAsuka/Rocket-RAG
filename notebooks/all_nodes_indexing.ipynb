{
 "cells": [
  {
   "cell_type": "code",
   "execution_count": 1,
   "metadata": {},
   "outputs": [
    {
     "name": "stderr",
     "output_type": "stream",
     "text": [
      "c:\\Users\\HAOXUAN\\miniconda3\\envs\\agent\\Lib\\site-packages\\pydantic\\_internal\\_config.py:341: UserWarning: Valid config keys have changed in V2:\n",
      "* 'allow_population_by_field_name' has been renamed to 'populate_by_name'\n",
      "  warnings.warn(message, UserWarning)\n"
     ]
    }
   ],
   "source": [
    "import os\n",
    "import sys\n",
    "import json\n",
    "sys.path.append('../')\n",
    "\n",
    "from pathlib import Path\n",
    "from rocket_rag.node_indexing import *\n",
    "from llama_index.readers.file import PyMuPDFReader"
   ]
  },
  {
   "cell_type": "code",
   "execution_count": 2,
   "metadata": {},
   "outputs": [],
   "source": [
    "cfg = json.load(open(\"../config/configs.json\"))\n",
    "\n",
    "INSTANCES_DIR = '../data/instances/'\n",
    "INFERENCE_DIR = '../data/inference/'\n",
    "STATES = ['normal', \n",
    "            'backlash1', 'backlash2',\n",
    "            'lackLubrication1', 'lackLubrication2',\n",
    "            'spalling1', 'spalling2', 'spalling3', 'spalling4', 'spalling5', 'spalling6', 'spalling7', 'spalling8']\n",
    "LOADS= ['20kg', '40kg', '-40kg']\n",
    "DOC_DIR = '../docs'"
   ]
  },
  {
   "cell_type": "markdown",
   "metadata": {},
   "source": [
    "### Documentation indexing"
   ]
  },
  {
   "cell_type": "code",
   "execution_count": 3,
   "metadata": {},
   "outputs": [],
   "source": [
    "loader = PyMuPDFReader()\n",
    "documents = loader.load_data(os.path.join(DOC_DIR, 'data_description.pdf'))"
   ]
  },
  {
   "cell_type": "code",
   "execution_count": 14,
   "metadata": {},
   "outputs": [],
   "source": [
    "txt_transform = TextTransform(cfg=cfg)\n",
    "txt_node_indexer = TextNodeIndexer(f'../store/doc_indexing/data_description.pkl')"
   ]
  },
  {
   "cell_type": "code",
   "execution_count": 6,
   "metadata": {},
   "outputs": [
    {
     "data": {
      "application/vnd.jupyter.widget-view+json": {
       "model_id": "e376c78c7d3d42c29f0698741c8da207",
       "version_major": 2,
       "version_minor": 0
      },
      "text/plain": [
       "0it [00:00, ?it/s]"
      ]
     },
     "metadata": {},
     "output_type": "display_data"
    }
   ],
   "source": [
    "text_chunks = []\n",
    "doc_idxs = []\n",
    "for doc_idx, doc in tqdm(enumerate(documents)):\n",
    "    cur_text_chunk = txt_transform.split_text(doc.text)\n",
    "    text_chunks.extend(cur_text_chunk)\n",
    "    doc_idxs.extend([doc_idx] * len(cur_text_chunk))"
   ]
  },
  {
   "cell_type": "code",
   "execution_count": 7,
   "metadata": {},
   "outputs": [
    {
     "data": {
      "text/plain": [
       "['Data set for \"Data-based Detection and Diagnosis of Faults \\nin Linear Actuators\" \\n \\n1. Introduction \\nThe dataset presented here was acquired for the study of degradation in linear \\nactuators, particularly electro-mechanical actuators (EMA). The data was acquired \\nfrom an instrumented rig (described in section 2) where a ball-screw actuator moved \\nleft to right following a defined motion profile with a level of load selected by the user. Nut position and motor current measurements were acquired during the tests. Initially the rig was tested in normal conditions (absence of faults) under different \\nmotion and loading scenarios. Subsequently different mechanical faults, including lack \\nof lubrication, spalling and backlash, were seeded in the system. Position and motor \\ncurrent data were acquired under these conditions to study monitoring methods to \\ndetect faults and degradation in this particular type of systems. This document describes in detail the data files available in the repository.',\n",
       " 'Section 2 \\nshows the experimental set up. Section three describes the different cases studied \\nand finally the data structure is explained in section 4.',\n",
       " '2. Experimental set up \\nA ball-screw mechanism where threaded shaft provides a helical raceway for ball \\nbearings housed inside a nut was selected for this study. This arrangement allows the \\ntransformation of shaft rotation into nut linear displacement with little friction and high \\nprecision. In order to simulate varying loading scenarios that represent realistic \\noperating conditions, a second actuator was used.',\n",
       " 'Both actuators were connected \\nthrough a load cell, and the load measurements provided were fed back to the \\ncontroller of the second actuator. Using this configuration it is possible to send a load \\nset point command to the second actuator and take control of the external load in the \\nactuator being tested. Ball-screws with fitted anti backlash ball-nut model RM1605-C7 with 5 mm lead and \\nNema 34 stepper motors with 4.6 Nm holding torque were selected. The mechanical \\ncomponents were mounted on an aluminium profile structure.',\n",
       " 'The motors of both \\nactuators were controlled from a Labview interface, which was also responsible for the \\ndata collection. The rig was instrumented with a series of sensors for control and monitoring purposes. Position was measured with a Vishay REC 115L linear potentiometer. Current from \\nthe drive is measured by a Honeywell CSLA2CD Hall effect sensor. The load between \\nboth actuators was measured using a Tedea Huntleigh, S beam type model 614 load \\ncell. Load measurements were used only for controlling the load provided by the \\nsecond actuator, but never for monitoring purposes. All the data was acquired at 25 \\nHz.',\n",
       " 'Data set for \"Data-based Detection and Diagnosis of Faults in Linear Actuators\" \\nC. Ruiz-Carcel and A. Starr \\nTrough-Life Engineering Services Institute, Cranfield University \\n \\n2 \\n \\nThis rig design is capable of producing a displacement of 120 mm with a maximum \\nexternal load of 40 kgf in both directions. The approximate dimensions of the complete \\nrig are 75cm long, 35 cm wide and 25 cm high.',\n",
       " 'Fig.',\n",
       " '1 shows a CAD model of the test \\nrig where some parts of the structure have been removed for more clarity. The nut of \\nthe actuator being tested is connected through a machined aluminium block to two \\nlinear bearings mounted on rails to avoid rotation of the nut. Pictures of the assembled \\ntest rig can be seen in Fig.',\n",
       " '2. Fig. 1: 3D model of the test-rig \\n \\n \\nFig. 2: Lateral view of the rig \\n \\n \\n3. Cases studied \\nInitially the rig was run under normal operating conditions (absence of faults) in order \\nto collect a significant amount of data that can represent the behaviour of the system \\nunder different loading conditions and motion profiles. Two motion profiles were \\ntested. The first was a trapezoidal motion profile (constant speed set point) where the \\nTest actuator \\nLoad actuator \\nLinear guides \\nLoad cell \\nLinear potentiometer \\n',\n",
       " 'Data set for \"Data-based Detection and Diagnosis of Faults in Linear Actuators\" \\nC. Ruiz-Carcel and A.',\n",
       " 'Starr \\nTrough-Life Engineering Services Institute, Cranfield University \\n \\n3 \\n \\n120 mm stroke was completed in 5 s with 3 s waiting at both ends of the movement. The second was a sinusoidal motion profile (smooth speed transition) with 120mm \\nstroke completed in 6 s with 2s waiting at both ends.',\n",
       " 'These two motion profiles were \\ntested for normal and faulty conditions under three different loading scenarios: 20 kgf, \\n40 kgf and -40 kgf. The full motion sequence was repeated 5 times in each test, and \\neach test was repeated 10 times in order to generate a dataset with a significant \\namount of observation in each case studied. In every test, before the data collection \\nstarted, the rig was run for about 30 mins until a steady temperature was reached in \\nthe motors and the nut. Additionally, three different mechanical faults were introduced in various parts of the \\nsystem. Tests were run on the faulty system using the same motion profiles and \\nloading conditions used under normal operation. The faults introduced were selected \\nto be representative of critical failure modes of this type of machine. The faults tested \\nwere: \\n\\uf0b7 lack of lubrication: simulated by removing gradually the screw lubricant and \\ntightening the nut seals (Fig. 3); \\n\\uf0b7 spalling: simulated by artificially inducing surface defects of different sizes in \\nthe screw and balls (Fig. 4) \\n\\uf0b7 backlash: simulated by replacing the original balls with balls of smaller \\ndiameter (Fig. 5).',\n",
       " 'Seeded faults were introduced because there was insufficient test time to run the ball \\nscrews naturally to failure. The faults were introduced gradually in order to observe \\nhow the severity of the faults affect the measured signals. In the case of lack of lubrication, in the first stage the lubricant was removed with \\ndegreaser. No dramatic changes were observed in the signals, mainly due to the \\ninherent low friction of the ball-screw architecture. In order to increase the severity of \\nthe fault, the bolts holding the plastic seal at both ends of the nut containing the balls \\nwere tightened, to create more friction (see Fig. 3).',\n",
       " 'Fig. 3: Bolt holding seal in ballnut \\n \\nThe spalling defect was started as a 1 mm diameter surface defect on the rolling \\nsurface of the screw (see Fig. 4)).',\n",
       " 'In the following 2nd, 3rd and 4th stages the size of \\nthe defect was gradually increased to 2, 3 and 4 mm in diameter, affecting not only the \\nbottom of the channel but also one of the sides. In stage 5 the 4 mm defect was \\n \\n',\n",
       " 'Data set for \"Data-based Detection and Diagnosis of Faults in Linear Actuators\" \\nC. Ruiz-Carcel and A.',\n",
       " 'Starr \\nTrough-Life Engineering Services Institute, Cranfield University \\n \\n4 \\n \\nreplicated in a neighbour channel, and in stage 6 the size of both defects was \\nincreased affecting the sidewall between them. In stage 7 another 4 mm defect was \\nseeded on the other neighbour channel of the original defect. Finally in stage 8 part of \\nthe sidewall between two of the defects was partially removed (see (see Fig. 4)).',\n",
       " 'Fig. 4: 8 stages of the spalling defect \\nBacklash or excess of play was simulated replacing the original 3.15 mm diameter \\nballs by 3 mm and 2.5 mm diameter balls (see Fig. 5).',\n",
       " 'Fig. 5: Balls for simulation of backlash \\n \\nFig. 6 shows an example of the data acquired under normal and faulty conditions for \\na trapezoidal motion profile. The top graph a) shows the position set point, b) shows \\nthe position error (difference between position set point and actual position \\nmeasurement) and current measurements are shown in c). a\\n) \\n0\\n2\\n4\\n6\\n8\\n10\\n12\\n14\\n16\\n0\\n50\\n100\\n150\\nTime (s)\\nPosition (mm)\\nØ 3.15mm \\nØ 3mm \\nØ 2.5mm \\n1 \\n2 \\n3 \\n4 \\n5 \\n6 \\n7 \\n8 \\n1 \\n2 \\n3 \\n4 \\n5 \\n6 \\n7 \\n8 \\n',\n",
       " 'Data set for \"Data-based Detection and Diagnosis of Faults in Linear Actuators\" \\nC. Ruiz-Carcel and A.',\n",
       " 'Starr \\nTrough-Life Engineering Services Institute, Cranfield University \\n \\n5 \\n \\n \\nb\\n) \\n \\nc) \\nFig. 6: Example of data acquired, a) position set point, b) position error, c) current \\n \\n4.',\n",
       " 'Data structure \\nThe data acquired was stored using the Matlab .mat file format. In this case study \\nthere are 13 .mat filed corresponding to normal operation and the different degradation \\nstages of the faults tested: \\n \\n \\nNormal. Mat corresponds to the data acquired under normal operation. Backlash1.mat \\nand Backlash2.mat correspond to the first and second stages of backlash tested. Similarly LackLubrication1.mat and LackLubrication2.mat correspond to the first and \\n0\\n2\\n4\\n6\\n8\\n10\\n12\\n14\\n16\\n0\\n0.5\\n1\\n1.5\\nTime (s)\\nCurrent (A)\\n \\n \\nNormal\\nPoint defect\\nLubrication\\nBacklash\\n0\\n2\\n4\\n6\\n8\\n10\\n12\\n14\\n16\\n-10\\n-5\\n0\\n5\\n10\\nTime (s)\\nPosition error (mm)\\n \\n \\nNormal\\nPoint defect\\nLubrication\\nBacklash\\nFig. 7: List of files included \\n',\n",
       " 'Data set for \"Data-based Detection and Diagnosis of Faults in Linear Actuators\" \\nC. Ruiz-Carcel and A.',\n",
       " 'Starr \\nTrough-Life Engineering Services Institute, Cranfield University \\n \\n6 \\n \\nsecond stages of lack of lubrication. The remaining 8 files named as SpallingX.mat \\nrefer to the corresponding stage of spalling tested.',\n",
       " 'Each file contains 60 matrices, corresponding all the possible combinations between \\nthe 2 motion profiles and 3 loading conditions repeated 10 times. The naming system \\nof each matrix provides information about the motion profile, load and test repetition \\nnumber: \\n \\n \\n \\n \\n \\n \\n \\n \\n \\n \\n \\n \\n \\n \\n \\n \\n \\n \\n \\n \\n \\n \\n \\n \\n \\n \\nFinally each matrix contains 3 columns, corresponding to the measurements of \\nposition set point (for reference), the position error achieved by the controller and the \\ncurrent fed to the motor respectively. The rows correspond to the different \\nobservations of these three parameters acquired at 0.04 s intervals. Test ID (lack \\nof lubrication) \\nMotion profile \\ntype \\n(trapezoidal) \\nDegradation \\nstage (first) \\nLoad (20kg) \\nTest repetition \\nnumber (1) \\nTest ID (lack \\nof lubrication) \\nMotion profile \\ntype \\n(sinusoidal) \\nDegradation \\nstage (first) \\nLoad (-40kg) \\nTest repetition \\nnumber (8) \\nFig. 8: Matrix naming \\n']"
      ]
     },
     "execution_count": 7,
     "metadata": {},
     "output_type": "execute_result"
    }
   ],
   "source": [
    "clean_text_chunks = [chunk for chunk in text_chunks if len(chunk) > 0]\n",
    "clean_text_chunks"
   ]
  },
  {
   "cell_type": "code",
   "execution_count": 9,
   "metadata": {},
   "outputs": [],
   "source": [
    "embeds = [txt_transform.get_embedding_from_openai(text_chunk).squeeze().tolist() for text_chunk in clean_text_chunks]"
   ]
  },
  {
   "cell_type": "code",
   "execution_count": 12,
   "metadata": {},
   "outputs": [
    {
     "name": "stderr",
     "output_type": "stream",
     "text": [
      "\u001b[32m2024-09-24 16:44:02.778\u001b[0m | \u001b[34m\u001b[1mDEBUG   \u001b[0m | \u001b[36mrocket_rag.node_indexing\u001b[0m:\u001b[36mindexing\u001b[0m:\u001b[36m130\u001b[0m - \u001b[34m\u001b[1mIndexing txt nodes...\u001b[0m\n",
      "\u001b[32m2024-09-24 16:44:02.779\u001b[0m | \u001b[34m\u001b[1mDEBUG   \u001b[0m | \u001b[36mrocket_rag.node_indexing\u001b[0m:\u001b[36mindexing\u001b[0m:\u001b[36m139\u001b[0m - \u001b[34m\u001b[1mIndexing txt nodes DONE!\u001b[0m\n",
      "\u001b[32m2024-09-24 16:44:02.780\u001b[0m | \u001b[34m\u001b[1mDEBUG   \u001b[0m | \u001b[36mrocket_rag.node_indexing\u001b[0m:\u001b[36msave_nodes\u001b[0m:\u001b[36m71\u001b[0m - \u001b[34m\u001b[1mCreating a new file at ../store/doc_indexing/data_description.pkl...\u001b[0m\n",
      "\u001b[32m2024-09-24 16:44:02.781\u001b[0m | \u001b[34m\u001b[1mDEBUG   \u001b[0m | \u001b[36mrocket_rag.node_indexing\u001b[0m:\u001b[36msave_nodes\u001b[0m:\u001b[36m74\u001b[0m - \u001b[34m\u001b[1mSaving all nodes...\u001b[0m\n",
      "\u001b[32m2024-09-24 16:44:02.803\u001b[0m | \u001b[34m\u001b[1mDEBUG   \u001b[0m | \u001b[36mrocket_rag.node_indexing\u001b[0m:\u001b[36msave_nodes\u001b[0m:\u001b[36m78\u001b[0m - \u001b[34m\u001b[1mAll nodes are stored.\u001b[0m\n"
     ]
    }
   ],
   "source": [
    "txt_nodes = txt_node_indexer.indexing(clean_text_chunks, embeds)\n",
    "txt_node_indexer.save_nodes(txt_nodes, '../store/doc_indexing/data_description.pkl')"
   ]
  },
  {
   "cell_type": "markdown",
   "metadata": {},
   "source": [
    "### Time series indexing"
   ]
  },
  {
   "cell_type": "code",
   "execution_count": 15,
   "metadata": {},
   "outputs": [],
   "source": [
    "ts_transform = TimeSeriesTransform(cfg=cfg)"
   ]
  },
  {
   "cell_type": "code",
   "execution_count": 16,
   "metadata": {},
   "outputs": [
    {
     "name": "stderr",
     "output_type": "stream",
     "text": [
      "\u001b[32m2024-09-24 16:52:07.214\u001b[0m | \u001b[34m\u001b[1mDEBUG   \u001b[0m | \u001b[36m__main__\u001b[0m:\u001b[36m<module>\u001b[0m:\u001b[36m3\u001b[0m - \u001b[34m\u001b[1m20kg time series nodes indexing...\u001b[0m\n",
      "\u001b[32m2024-09-24 16:52:10.141\u001b[0m | \u001b[34m\u001b[1mDEBUG   \u001b[0m | \u001b[36mrocket_rag.node_indexing\u001b[0m:\u001b[36mindexing\u001b[0m:\u001b[36m172\u001b[0m - \u001b[34m\u001b[1mIndexing time series nodes...\u001b[0m\n"
     ]
    },
    {
     "data": {
      "application/vnd.jupyter.widget-view+json": {
       "model_id": "fbd77a392ff74bc3a257f1fc9ba3d64c",
       "version_major": 2,
       "version_minor": 0
      },
      "text/plain": [
       "  0%|          | 0/455 [00:00<?, ?it/s]"
      ]
     },
     "metadata": {},
     "output_type": "display_data"
    },
    {
     "name": "stderr",
     "output_type": "stream",
     "text": [
      "\u001b[32m2024-09-24 16:52:45.474\u001b[0m | \u001b[34m\u001b[1mDEBUG   \u001b[0m | \u001b[36mrocket_rag.node_indexing\u001b[0m:\u001b[36mindexing\u001b[0m:\u001b[36m182\u001b[0m - \u001b[34m\u001b[1mIndexing time series nodes DONE.\u001b[0m\n",
      "\u001b[32m2024-09-24 16:52:45.475\u001b[0m | \u001b[34m\u001b[1mDEBUG   \u001b[0m | \u001b[36mrocket_rag.node_indexing\u001b[0m:\u001b[36msave_nodes\u001b[0m:\u001b[36m74\u001b[0m - \u001b[34m\u001b[1mSaving all nodes...\u001b[0m\n",
      "\u001b[32m2024-09-24 16:52:55.201\u001b[0m | \u001b[34m\u001b[1mDEBUG   \u001b[0m | \u001b[36mrocket_rag.node_indexing\u001b[0m:\u001b[36msave_nodes\u001b[0m:\u001b[36m78\u001b[0m - \u001b[34m\u001b[1mAll nodes are stored.\u001b[0m\n",
      "\u001b[32m2024-09-24 16:52:55.202\u001b[0m | \u001b[34m\u001b[1mDEBUG   \u001b[0m | \u001b[36m__main__\u001b[0m:\u001b[36m<module>\u001b[0m:\u001b[36m3\u001b[0m - \u001b[34m\u001b[1m40kg time series nodes indexing...\u001b[0m\n",
      "\u001b[32m2024-09-24 16:52:58.048\u001b[0m | \u001b[34m\u001b[1mDEBUG   \u001b[0m | \u001b[36mrocket_rag.node_indexing\u001b[0m:\u001b[36mindexing\u001b[0m:\u001b[36m172\u001b[0m - \u001b[34m\u001b[1mIndexing time series nodes...\u001b[0m\n"
     ]
    },
    {
     "data": {
      "application/vnd.jupyter.widget-view+json": {
       "model_id": "84e8c1344c35447187534cf200ffdd90",
       "version_major": 2,
       "version_minor": 0
      },
      "text/plain": [
       "  0%|          | 0/452 [00:00<?, ?it/s]"
      ]
     },
     "metadata": {},
     "output_type": "display_data"
    },
    {
     "name": "stderr",
     "output_type": "stream",
     "text": [
      "\u001b[32m2024-09-24 16:53:33.641\u001b[0m | \u001b[34m\u001b[1mDEBUG   \u001b[0m | \u001b[36mrocket_rag.node_indexing\u001b[0m:\u001b[36mindexing\u001b[0m:\u001b[36m182\u001b[0m - \u001b[34m\u001b[1mIndexing time series nodes DONE.\u001b[0m\n",
      "\u001b[32m2024-09-24 16:53:33.641\u001b[0m | \u001b[34m\u001b[1mDEBUG   \u001b[0m | \u001b[36mrocket_rag.node_indexing\u001b[0m:\u001b[36msave_nodes\u001b[0m:\u001b[36m71\u001b[0m - \u001b[34m\u001b[1mCreating a new file at ../store/ts_indexing/current_nodes_40kg.pkl...\u001b[0m\n",
      "\u001b[32m2024-09-24 16:53:33.642\u001b[0m | \u001b[34m\u001b[1mDEBUG   \u001b[0m | \u001b[36mrocket_rag.node_indexing\u001b[0m:\u001b[36msave_nodes\u001b[0m:\u001b[36m74\u001b[0m - \u001b[34m\u001b[1mSaving all nodes...\u001b[0m\n",
      "\u001b[32m2024-09-24 16:53:43.241\u001b[0m | \u001b[34m\u001b[1mDEBUG   \u001b[0m | \u001b[36mrocket_rag.node_indexing\u001b[0m:\u001b[36msave_nodes\u001b[0m:\u001b[36m78\u001b[0m - \u001b[34m\u001b[1mAll nodes are stored.\u001b[0m\n",
      "\u001b[32m2024-09-24 16:53:43.242\u001b[0m | \u001b[34m\u001b[1mDEBUG   \u001b[0m | \u001b[36m__main__\u001b[0m:\u001b[36m<module>\u001b[0m:\u001b[36m3\u001b[0m - \u001b[34m\u001b[1m-40kg time series nodes indexing...\u001b[0m\n",
      "\u001b[32m2024-09-24 16:53:46.199\u001b[0m | \u001b[34m\u001b[1mDEBUG   \u001b[0m | \u001b[36mrocket_rag.node_indexing\u001b[0m:\u001b[36mindexing\u001b[0m:\u001b[36m172\u001b[0m - \u001b[34m\u001b[1mIndexing time series nodes...\u001b[0m\n"
     ]
    },
    {
     "data": {
      "application/vnd.jupyter.widget-view+json": {
       "model_id": "6fad80910ffd405ba4b7f5671dff757b",
       "version_major": 2,
       "version_minor": 0
      },
      "text/plain": [
       "  0%|          | 0/455 [00:00<?, ?it/s]"
      ]
     },
     "metadata": {},
     "output_type": "display_data"
    },
    {
     "name": "stderr",
     "output_type": "stream",
     "text": [
      "\u001b[32m2024-09-24 16:54:21.722\u001b[0m | \u001b[34m\u001b[1mDEBUG   \u001b[0m | \u001b[36mrocket_rag.node_indexing\u001b[0m:\u001b[36mindexing\u001b[0m:\u001b[36m182\u001b[0m - \u001b[34m\u001b[1mIndexing time series nodes DONE.\u001b[0m\n",
      "\u001b[32m2024-09-24 16:54:21.723\u001b[0m | \u001b[34m\u001b[1mDEBUG   \u001b[0m | \u001b[36mrocket_rag.node_indexing\u001b[0m:\u001b[36msave_nodes\u001b[0m:\u001b[36m71\u001b[0m - \u001b[34m\u001b[1mCreating a new file at ../store/ts_indexing/current_nodes_-40kg.pkl...\u001b[0m\n",
      "\u001b[32m2024-09-24 16:54:21.724\u001b[0m | \u001b[34m\u001b[1mDEBUG   \u001b[0m | \u001b[36mrocket_rag.node_indexing\u001b[0m:\u001b[36msave_nodes\u001b[0m:\u001b[36m74\u001b[0m - \u001b[34m\u001b[1mSaving all nodes...\u001b[0m\n",
      "\u001b[32m2024-09-24 16:54:31.449\u001b[0m | \u001b[34m\u001b[1mDEBUG   \u001b[0m | \u001b[36mrocket_rag.node_indexing\u001b[0m:\u001b[36msave_nodes\u001b[0m:\u001b[36m78\u001b[0m - \u001b[34m\u001b[1mAll nodes are stored.\u001b[0m\n"
     ]
    }
   ],
   "source": [
    "load = '20kg'\n",
    "for load in LOADS:\n",
    "    loguru.logger.debug(f'{load} time series nodes indexing...')\n",
    "\n",
    "    load_num = load[:2]\n",
    "    ids = [os.listdir(os.path.join(INSTANCES_DIR, load, state)) for state in STATES]\n",
    "    ids = [filename for sublist in ids for filename in sublist]\n",
    "    \n",
    "    ts = []\n",
    "    for f in ids:\n",
    "        state = re.match(fr'(.*)_{load_num}', f).group(1)\n",
    "        temp_ts_df = pd.read_csv(os.path.join(INSTANCES_DIR, load, state, f))\n",
    "        ts.append(ts_transform.smoothing(ts_df=temp_ts_df, field='current'))\n",
    "    \n",
    "    ts_node_indexer = TimeSeriesNodeIndexer(ts_transform=ts_transform, nodes_filename=f'../store/ts_indexing/current_nodes_{load}.pkl')\n",
    "    ts_node_indexer.indexing(ts=ts, ids=ids, meta_info={'load': load})"
   ]
  },
  {
   "cell_type": "code",
   "execution_count": null,
   "metadata": {},
   "outputs": [],
   "source": []
  }
 ],
 "metadata": {
  "kernelspec": {
   "display_name": "agent",
   "language": "python",
   "name": "python3"
  },
  "language_info": {
   "codemirror_mode": {
    "name": "ipython",
    "version": 3
   },
   "file_extension": ".py",
   "mimetype": "text/x-python",
   "name": "python",
   "nbconvert_exporter": "python",
   "pygments_lexer": "ipython3",
   "version": "3.11.5"
  }
 },
 "nbformat": 4,
 "nbformat_minor": 2
}
