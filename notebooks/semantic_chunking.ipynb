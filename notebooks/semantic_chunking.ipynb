{
 "cells": [
  {
   "cell_type": "code",
   "execution_count": 23,
   "metadata": {},
   "outputs": [],
   "source": [
    "import os\n",
    "import re\n",
    "import json\n",
    "import loguru\n",
    "import openai\n",
    "import pickle\n",
    "import numpy as np\n",
    "\n",
    "from llama_index.readers.file import PyMuPDFReader \n",
    "from sklearn.metrics.pairwise import cosine_similarity\n",
    "from typing import List\n",
    "from tqdm.auto import tqdm"
   ]
  },
  {
   "cell_type": "code",
   "execution_count": 2,
   "metadata": {},
   "outputs": [],
   "source": [
    "DOC_DIR = '../docs'\n",
    "\n",
    "loader = PyMuPDFReader()\n",
    "documents = [loader.load_data(os.path.join(DOC_DIR, f)) for f in os.listdir(DOC_DIR) if f.endswith('.pdf')]\n",
    "documents = [page for sub_doc in documents for page in sub_doc]"
   ]
  },
  {
   "cell_type": "code",
   "execution_count": 3,
   "metadata": {},
   "outputs": [],
   "source": [
    "documents = documents[:-1]"
   ]
  },
  {
   "cell_type": "code",
   "execution_count": 4,
   "metadata": {},
   "outputs": [
    {
     "data": {
      "text/plain": [
       "[Document(id_='13603cc2-3d4a-444d-a575-165eeddfc01c', embedding=None, metadata={'total_pages': 6, 'file_path': '../docs\\\\data_description.pdf', 'source': '1'}, excluded_embed_metadata_keys=[], excluded_llm_metadata_keys=[], relationships={}, text='Data set for \"Data-based Detection and Diagnosis of Faults \\nin Linear Actuators\" \\n \\n1. Introduction \\nThe dataset presented here was acquired for the study of degradation in linear \\nactuators, particularly electro-mechanical actuators (EMA). The data was acquired \\nfrom an instrumented rig (described in section 2) where a ball-screw actuator moved \\nleft to right following a defined motion profile with a level of load selected by the user. \\nNut position and motor current measurements were acquired during the tests. \\n \\nInitially the rig was tested in normal conditions (absence of faults) under different \\nmotion and loading scenarios. Subsequently different mechanical faults, including lack \\nof lubrication, spalling and backlash, were seeded in the system. Position and motor \\ncurrent data were acquired under these conditions to study monitoring methods to \\ndetect faults and degradation in this particular type of systems. \\n \\nThis document describes in detail the data files available in the repository. Section 2 \\nshows the experimental set up. Section three describes the different cases studied \\nand finally the data structure is explained in section 4. \\n \\n \\n2. Experimental set up \\nA ball-screw mechanism where threaded shaft provides a helical raceway for ball \\nbearings housed inside a nut was selected for this study. This arrangement allows the \\ntransformation of shaft rotation into nut linear displacement with little friction and high \\nprecision. In order to simulate varying loading scenarios that represent realistic \\noperating conditions, a second actuator was used. Both actuators were connected \\nthrough a load cell, and the load measurements provided were fed back to the \\ncontroller of the second actuator. Using this configuration it is possible to send a load \\nset point command to the second actuator and take control of the external load in the \\nactuator being tested.  \\n \\nBall-screws with fitted anti backlash ball-nut model RM1605-C7 with 5 mm lead and \\nNema 34 stepper motors with 4.6 Nm holding torque were selected. The mechanical \\ncomponents were mounted on an aluminium profile structure. The motors of both \\nactuators were controlled from a Labview interface, which was also responsible for the \\ndata collection.   \\n \\nThe rig was instrumented with a series of sensors for control and monitoring purposes. \\nPosition was measured with a Vishay REC 115L linear potentiometer. Current from \\nthe drive is measured by a Honeywell CSLA2CD Hall effect sensor. The load between \\nboth actuators was measured using a Tedea Huntleigh, S beam type model 614 load \\ncell. Load measurements were used only for controlling the load provided by the \\nsecond actuator, but never for monitoring purposes. All the data was acquired at 25 \\nHz. \\n', mimetype='text/plain', start_char_idx=None, end_char_idx=None, text_template='{metadata_str}\\n\\n{content}', metadata_template='{key}: {value}', metadata_seperator='\\n'),\n",
       " Document(id_='14576282-9cb3-498f-be87-2bea0e0af0a6', embedding=None, metadata={'total_pages': 6, 'file_path': '../docs\\\\data_description.pdf', 'source': '2'}, excluded_embed_metadata_keys=[], excluded_llm_metadata_keys=[], relationships={}, text='Data set for \"Data-based Detection and Diagnosis of Faults in Linear Actuators\" \\nC. Ruiz-Carcel and A. Starr \\nTrough-Life Engineering Services Institute, Cranfield University \\n \\n2 \\n \\nThis rig design is capable of producing a displacement of 120 mm with a maximum \\nexternal load of 40 kgf in both directions. The approximate dimensions of the complete \\nrig are 75cm long, 35 cm wide and 25 cm high. Fig. 1 shows a CAD model of the test \\nrig where some parts of the structure have been removed for more clarity. The nut of \\nthe actuator being tested is connected through a machined aluminium block to two \\nlinear bearings mounted on rails to avoid rotation of the nut. Pictures of the assembled \\ntest rig can be seen in Fig. 2. \\n \\n \\nFig. 1: 3D model of the test-rig \\n \\n \\nFig. 2: Lateral view of the rig \\n \\n \\n3. Cases studied \\nInitially the rig was run under normal operating conditions (absence of faults) in order \\nto collect a significant amount of data that can represent the behaviour of the system \\nunder different loading conditions and motion profiles. Two motion profiles were \\ntested. The first was a trapezoidal motion profile (constant speed set point) where the \\nTest actuator \\nLoad actuator \\nLinear guides \\nLoad cell \\nLinear potentiometer \\n', mimetype='text/plain', start_char_idx=None, end_char_idx=None, text_template='{metadata_str}\\n\\n{content}', metadata_template='{key}: {value}', metadata_seperator='\\n'),\n",
       " Document(id_='96b802f4-e559-4aca-94b8-ad3ad4b9d995', embedding=None, metadata={'total_pages': 6, 'file_path': '../docs\\\\data_description.pdf', 'source': '3'}, excluded_embed_metadata_keys=[], excluded_llm_metadata_keys=[], relationships={}, text='Data set for \"Data-based Detection and Diagnosis of Faults in Linear Actuators\" \\nC. Ruiz-Carcel and A. Starr \\nTrough-Life Engineering Services Institute, Cranfield University \\n \\n3 \\n \\n120 mm stroke was completed in 5 s with 3 s waiting at both ends of the movement. \\nThe second was a sinusoidal motion profile (smooth speed transition) with 120mm \\nstroke completed in 6 s with 2s waiting at both ends. These two motion profiles were \\ntested for normal and faulty conditions under three different loading scenarios: 20 kgf, \\n40 kgf and -40 kgf. The full motion sequence was repeated 5 times in each test, and \\neach test was repeated 10 times in order to generate a dataset with a significant \\namount of observation in each case studied. In every test, before the data collection \\nstarted, the rig was run for about 30 mins until a steady temperature was reached in \\nthe motors and the nut. \\n \\nAdditionally, three different mechanical faults were introduced in various parts of the \\nsystem. Tests were run on the faulty system using the same motion profiles and \\nloading conditions used under normal operation. The faults introduced were selected \\nto be representative of critical failure modes of this type of machine. The faults tested \\nwere: \\n\\uf0b7 lack of lubrication: simulated by removing gradually the screw lubricant and \\ntightening the nut seals (Fig. 3); \\n\\uf0b7 spalling: simulated by artificially inducing surface defects of different sizes in \\nthe screw and balls (Fig. 4) \\n\\uf0b7 backlash: simulated by replacing the original balls with balls of smaller \\ndiameter (Fig. 5). \\n \\nSeeded faults were introduced because there was insufficient test time to run the ball \\nscrews naturally to failure. The faults were introduced gradually in order to observe \\nhow the severity of the faults affect the measured signals.  \\n \\nIn the case of lack of lubrication, in the first stage the lubricant was removed with \\ndegreaser. No dramatic changes were observed in the signals, mainly due to the \\ninherent low friction of the ball-screw architecture. In order to increase the severity of \\nthe fault, the bolts holding the plastic seal at both ends of the nut containing the balls \\nwere tightened, to create more friction (see Fig. 3).  \\n \\n \\n \\nFig. 3: Bolt holding seal in ballnut \\n \\nThe spalling defect was started as a 1 mm diameter surface defect on the rolling \\nsurface of the screw (see Fig. 4)). In the following 2nd, 3rd and 4th stages the size of \\nthe defect was gradually increased to 2, 3 and 4 mm in diameter, affecting not only the \\nbottom of the channel but also one of the sides. In stage 5 the 4 mm defect was \\n \\n', mimetype='text/plain', start_char_idx=None, end_char_idx=None, text_template='{metadata_str}\\n\\n{content}', metadata_template='{key}: {value}', metadata_seperator='\\n'),\n",
       " Document(id_='f5edaed8-006c-43a1-83df-bad037afc448', embedding=None, metadata={'total_pages': 6, 'file_path': '../docs\\\\data_description.pdf', 'source': '4'}, excluded_embed_metadata_keys=[], excluded_llm_metadata_keys=[], relationships={}, text='Data set for \"Data-based Detection and Diagnosis of Faults in Linear Actuators\" \\nC. Ruiz-Carcel and A. Starr \\nTrough-Life Engineering Services Institute, Cranfield University \\n \\n4 \\n \\nreplicated in a neighbour channel, and in stage 6 the size of both defects was \\nincreased affecting the sidewall between them.  In stage 7 another 4 mm defect was \\nseeded on the other neighbour channel of the original defect. Finally in stage 8 part of \\nthe sidewall between two of the defects was partially removed (see (see Fig. 4)).  \\n \\n \\nFig. 4: 8 stages of the spalling defect \\nBacklash or excess of play was simulated replacing the original 3.15 mm diameter \\nballs by 3 mm and 2.5 mm diameter balls (see Fig. 5). \\n \\n \\nFig. 5: Balls for simulation of backlash \\n \\nFig. 6 shows an example of the data acquired under normal and faulty conditions for \\na trapezoidal motion profile. The top graph a) shows the position set point, b) shows \\nthe position error (difference between position set point and actual position \\nmeasurement) and current measurements are shown in c).  \\n \\n \\n \\na\\n) \\n0\\n2\\n4\\n6\\n8\\n10\\n12\\n14\\n16\\n0\\n50\\n100\\n150\\nTime (s)\\nPosition (mm)\\nØ 3.15mm \\nØ 3mm \\nØ 2.5mm \\n1 \\n2 \\n3 \\n4 \\n5 \\n6 \\n7 \\n8 \\n1 \\n2 \\n3 \\n4 \\n5 \\n6 \\n7 \\n8 \\n', mimetype='text/plain', start_char_idx=None, end_char_idx=None, text_template='{metadata_str}\\n\\n{content}', metadata_template='{key}: {value}', metadata_seperator='\\n'),\n",
       " Document(id_='06bac768-eb89-40db-9400-5a1e6511e8b2', embedding=None, metadata={'total_pages': 6, 'file_path': '../docs\\\\data_description.pdf', 'source': '5'}, excluded_embed_metadata_keys=[], excluded_llm_metadata_keys=[], relationships={}, text='Data set for \"Data-based Detection and Diagnosis of Faults in Linear Actuators\" \\nC. Ruiz-Carcel and A. Starr \\nTrough-Life Engineering Services Institute, Cranfield University \\n \\n5 \\n \\n \\nb\\n) \\n \\nc) \\nFig. 6: Example of data acquired, a) position set point, b) position error, c) current \\n \\n4. Data structure \\nThe data acquired was stored using the Matlab .mat file format. In this case study \\nthere are 13 .mat filed corresponding to normal operation and the different degradation \\nstages of the faults tested: \\n \\n \\nNormal. Mat corresponds to the data acquired under normal operation. Backlash1.mat \\nand Backlash2.mat correspond to the first and second stages of backlash tested. \\nSimilarly LackLubrication1.mat and LackLubrication2.mat correspond to the first and \\n0\\n2\\n4\\n6\\n8\\n10\\n12\\n14\\n16\\n0\\n0.5\\n1\\n1.5\\nTime (s)\\nCurrent (A)\\n \\n \\nNormal\\nPoint defect\\nLubrication\\nBacklash\\n0\\n2\\n4\\n6\\n8\\n10\\n12\\n14\\n16\\n-10\\n-5\\n0\\n5\\n10\\nTime (s)\\nPosition error (mm)\\n \\n \\nNormal\\nPoint defect\\nLubrication\\nBacklash\\nFig. 7: List of files included \\n', mimetype='text/plain', start_char_idx=None, end_char_idx=None, text_template='{metadata_str}\\n\\n{content}', metadata_template='{key}: {value}', metadata_seperator='\\n'),\n",
       " Document(id_='2a257148-c5de-40bf-916e-7275f8b036fe', embedding=None, metadata={'total_pages': 6, 'file_path': '../docs\\\\data_description.pdf', 'source': '6'}, excluded_embed_metadata_keys=[], excluded_llm_metadata_keys=[], relationships={}, text='Data set for \"Data-based Detection and Diagnosis of Faults in Linear Actuators\" \\nC. Ruiz-Carcel and A. Starr \\nTrough-Life Engineering Services Institute, Cranfield University \\n \\n6 \\n \\nsecond stages of lack of lubrication. The remaining 8 files named as SpallingX.mat \\nrefer to the corresponding stage of spalling tested. \\n \\nEach file contains 60 matrices, corresponding all the possible combinations between \\nthe 2 motion profiles and 3 loading conditions repeated 10 times. The naming system \\nof each matrix provides information about the motion profile, load and test repetition \\nnumber: \\n \\n \\n \\n \\n \\n \\n \\n \\n \\n \\n \\n \\n \\n \\n \\n \\n \\n \\n \\n \\n \\n \\n \\n \\n \\n \\nFinally each matrix contains 3 columns, corresponding to the measurements of \\nposition set point (for reference), the position error achieved by the controller and the \\ncurrent fed to the motor respectively. The rows correspond to the different \\nobservations of these three parameters acquired at 0.04 s intervals. \\nTest ID (lack \\nof lubrication) \\nMotion profile \\ntype \\n(trapezoidal) \\nDegradation \\nstage (first) \\nLoad (20kg) \\nTest repetition \\nnumber (1) \\nTest ID (lack \\nof lubrication) \\nMotion profile \\ntype \\n(sinusoidal) \\nDegradation \\nstage (first) \\nLoad (-40kg) \\nTest repetition \\nnumber (8) \\nFig. 8: Matrix naming \\n', mimetype='text/plain', start_char_idx=None, end_char_idx=None, text_template='{metadata_str}\\n\\n{content}', metadata_template='{key}: {value}', metadata_seperator='\\n'),\n",
       " Document(id_='d2969bda-4966-4415-ab98-ebfc44c9a563', embedding=None, metadata={'total_pages': 13, 'file_path': '../docs\\\\paper.pdf', 'source': '1'}, excluded_embed_metadata_keys=[], excluded_llm_metadata_keys=[], relationships={}, text='IEEE TRANSACTIONS ON INSTRUMENTATION AND MEASUREMENT, VOL. 67, NO. 9, SEPTEMBER 2018\\n2035\\nData-Based Detection and Diagnosis of Faults\\nin Linear Actuators\\nCristobal Ruiz-Carcel\\nand Andrew Starr\\nAbstract—Modern industrial facilities, as well as vehicles and\\nmany other assets, are becoming highly automated and instru-\\nmented. As a consequence, actuators are required to perform a\\nwide variety of tasks, often for linear motion. However, the use\\nof tools to monitor the condition of linear actuators is not widely\\nextended in industrial applications. This paper presents a data-\\nbased method to monitor linear electro-mechanical actuators.\\nThe proposed algorithm makes use of features extracted from\\nelectric current and position measurements, typically available\\nfrom the controller, to detect and diagnose mechanical faults. The\\nfeatures are selected to characterize the system dynamics during\\ntransient and steady-state operation and are then combined\\nto produce a condition indicator. The main advantage of this\\napproach is the independence from a need for a physical\\nmodel or additional sensors. The capabilities of the method\\nare assessed using a novel experimental linear actuator test rig\\nspecially designed to recreate fault scenarios under different\\noperating conditions.\\nIndex\\nTerms—Diagnosis,\\nelectro-mechanical\\nactuators\\n(EMAs), fault detection, linear actuator, multivariate analysis.\\nI. INTRODUCTION\\nL\\nINEAR machines are all around us, covering a wide\\nrange of applications such as aircraft undercarriage and\\ncontrol surfaces, automatic doors, railway track point and level\\ncrossing actuators, robot arms, CNC machine tools, and many\\nmore. A failure in these actuators can be critical for the safety,\\nperformance, and availability of the system in which they are\\nintegrated. In some cases, such as the operation of control\\nsurfaces in aircrafts, a fault in an actuator can also compromise\\nthe safety of passengers and crew. That was the case of the\\nAlaska Airlines 261 ﬂight accident in 2000, where an excess\\nof wear in the jackscrew actuator that controls the horizontal\\nstabilizer of the plane caused the crash of the aircraft, and\\nthe death of 88 people [1]. This clearly demonstrates the\\nimportance of monitoring the health of linear actuators.\\nMany different types of linear actuators are available com-\\nmercially. Historically, mechanical arrangements such as cam-\\nfollower or crank-rod mechanisms have been used to produce\\na repetitive and accurate linear motion proﬁle. Hydraulic\\nand pneumatic actuators have also been extensively used\\nManuscript received August 1, 2017; revised January 9, 2018; accepted\\nFebruary 12, 2018. Date of publication March 27, 2018; date of current version\\nAugust 9, 2018. The Associate Editor coordinating the review process was\\nDr. Massimo Lazzaroni. (Corresponding author: Cristobal Ruiz-Carcel.)\\nThe\\nauthors\\nare\\nwith\\nthe\\nThrough-life\\nEngineering\\nServices\\nInstitute,\\nCranﬁeld\\nUniversity,\\nCranﬁeld\\nMK43\\n0AL,\\nU.K.\\n(e-mail:\\nc.ruizcarcel@cranﬁeld.ac.uk).\\nColor versions of one or more of the ﬁgures in this paper are available\\nonline at http://ieeexplore.ieee.org.\\nDigital Object Identiﬁer 10.1109/TIM.2018.2814067\\nfor applications that require the user to control the motion\\nand/or produce high forces. More recently, electro-mechanical\\nactuators (EMAs) based on the combination of an electric\\nmotor and a screw, belt and pulley, or rack and pinion\\nmechanisms have gained popularity due to their automation\\nand control capabilities, in addition to other beneﬁts such\\nas simplicity or weight reduction. The failure modes and\\ndegradation in this type of devices have not been studied in\\ndepth yet, but a comprehensive list of typical failure modes and\\na criticality analysis for ball-screw mechanisms was provided\\nin [2]. Structural failures such as excess of wear, cracking,\\nbacklash, or spalling; malfunctions such as ball return channel\\njamming or seizure; and lubricant-related faults such as run-\\ndry or contamination are amongst the most severe and common\\nmechanical faults in this type of mechanism.\\nDespite the increasing utilization of linear actuators and the\\ncritical role played in some of their applications, the presence\\nof condition monitoring tools for these devices is quite limited\\nin industrial applications and academic research. This fact can\\nbe attributed to several different causes as follows.\\n1) The use of condition monitoring tools is typically limited\\nto high-value assets.\\n2) There are a large number of different typologies of linear\\nactuators, leading to the need for speciﬁc tools for each\\ntype.\\n3) The different assemblies use components of different\\nnature and often require specialist knowledge about\\nmechanical, electrical, and control interfaces, creating\\nchallenges to assemble the skill set.\\n4) Complex dynamics including nonlinearities, changing\\noperational conditions, dominance of friction phenom-\\nena, and nonstationary operation create a challenging\\nstarting point for the design of monitoring tools.\\nThe presence of sensors in linear actuators is typically\\nlimited to system control purposes, which is also a constraint\\nfor the implementation of condition monitoring strategies.\\nDespite all these difﬁculties, some research work has been\\ndone recently in industry and academia, particularly for linear\\nEMAs. The potential application of EMAs in the more and\\nall electric aircraft for operation of control surfaces and the\\nlanding gear [3], and the monitoring systems required, are\\nprobably the main research topics [4]. For this application,\\nas the actuator is installed in an aircraft, the reliability of\\nany new system needs to be auditable and related to known\\ndata [5], and be at least as good as conventional hydraulic\\nsystems. In particular, the ball-screw actuator is the most\\npopular mechanism studied. It has been tested in several\\n0018-9456 © 2018 IEEE. Personal use is permitted, but republication/redistribution requires IEEE permission.\\nSee http://www.ieee.org/publications_standards/publications/rights/index.html for more information.\\nAuthorized licensed use limited to: Cranfield University. Downloaded on July 10,2024 at 10:39:32 UTC from IEEE Xplore.  Restrictions apply. \\n', mimetype='text/plain', start_char_idx=None, end_char_idx=None, text_template='{metadata_str}\\n\\n{content}', metadata_template='{key}: {value}', metadata_seperator='\\n'),\n",
       " Document(id_='df52d659-9c67-422e-b875-2ebd822030e7', embedding=None, metadata={'total_pages': 13, 'file_path': '../docs\\\\paper.pdf', 'source': '2'}, excluded_embed_metadata_keys=[], excluded_llm_metadata_keys=[], relationships={}, text='2036\\nIEEE TRANSACTIONS ON INSTRUMENTATION AND MEASUREMENT, VOL. 67, NO. 9, SEPTEMBER 2018\\nsimulation and experimental studies, including its installation\\nin a real aircraft for comparison with traditional hydraulic\\nactuators [6]. The monitoring approaches developed in the\\npast normally relied on mathematical models of the actu-\\nator [7]–[15] based on ﬁrst principles. Despite the success\\nof these approaches, the need of unique models limits its\\napplication to a speciﬁc machine and requires a specialist\\nmodeler. Other approaches used the measurements of signals\\nthat normally are not available in industrial applications such\\nas temperature or vibration [16]–[18], requiring the installation\\nof additional sensors and wiring.\\nThis paper presents a monitoring technique that can be\\napplied to different types of EMA, making use of signals avail-\\nable from the controller or the motor drive to detect mechanical\\nfaults. Electric fault in motors is a widely studied subject [19]\\nand it is not covered here. This research explores a monitoring\\nmethod based on the automated extraction and the analysis\\nof signal features such as steady value, overshoot, settling\\ntime, or presence of unexpected peaks. These features char-\\nacterize the dynamic behavior of the system. Consequently,\\nany signiﬁcant change in the condition of the system will\\nhave an effect over these signal features. Principal component\\nanalysis (PCA) is used to reduce the dimensionality of the\\nextracted feature set and detect any deviations from normal\\nbehavior. The independence from a need for a physical model,\\nthe low computation time, and the use of current and position\\nmeasurements exclusively are the main advantages of this\\napproach.\\nThe capabilities of the proposed method are tested and\\nassessed using experimental data. A special ball-screw test\\nrig was designed to recreate fault scenarios under different\\noperating conditions, such as different motion proﬁles, varying\\nspeeds, or different loadings. This rig is also capable of a\\nrack and pinion arrangement, not further considered here.\\nDuring the experiments, different motion proﬁles and loading\\nconditions were tested to evaluate the performance of the\\nmonitoring algorithm under various operating conditions. The\\nraw data used in this investigation is available to download\\nat [20].\\nII. METHODOLOGY\\nMechanical faults such as those mentioned in Section I\\nmay affect the operation of the mechanism and degrade its\\nperformance. If this degradation is considerable, it may have\\nan impact on the actuator behavior which potentially can be\\nobserved in variables measured such as the current being\\nfed to the motor or the motion proﬁle. Nevertheless, for this\\nparticular application the mechanism motion is not stationary,\\nas it accelerates and decelerates in every movement repetition\\nfrom one position to another. Additionally, different motion\\nproﬁles and different loading conditions may produce different\\nmeasured values even in the absence of faults, which compli-\\ncates the monitoring task. However, there are certain features\\nin those signals that are deﬁned by the dynamic behavior of the\\nsystem and the controller, such as steady values during steady-\\nstate operation, overshoots and subsequent oscillations after a\\nchange in the position set point, and so on. A change in these\\nFig. 1.\\nPosition measurements.\\nfeatures may be indicative of changes in the system behavior,\\nwhich can be related to faults or malfunctions. An initial\\nstudy of the main features observed in current and position\\nmeasurements measured in EMA based on computational\\nsimulations was presented in [21].\\nThe monitoring approach presented in this paper is based on\\nthe analysis of the correlation between different characteristic\\nfeatures extracted from current and position measurements\\nusing PCA. The objective of that analysis is to deﬁne the\\nnormal dynamic behavior of the system by analyzing key\\nsignal features under different operating conditions in the\\nabsence of faults, and then look for deviations from that\\nnormal behavior in order to detect and diagnose faults. The\\napplication of this approach consists of two major steps: ﬁrst,\\nthe extraction of key features from the signals that deﬁne the\\ndynamic behavior of the system, and second, the correlation\\nanalysis using PCA.\\nA. Feature Extraction\\nFig. 1 shows an example of ideal (noise free) position\\nmeasurements for a “trapezoidal motion proﬁle” moving at\\na constant speed to a stroke of 50 mm, before returning\\nto its starting point. The set point illustrated is very close\\nto the actual position. A zoomed-in version of the position\\nerror, calculated as the difference between the actual position\\nmeasurement and the desired set point, is represented in\\ngreen. This ﬁgure shows that the actuator is able to follow\\naccurately the desired motion proﬁle. However, the zoomed-\\nin position error signal reveals some interesting features in\\neach of the motion sections. A steady value (feature a) close\\nto zero is achieved during the major part of the movement.\\nThis movement starts with an overshoot (feature b) and some\\noscillations in the signal during the settling time (feature c)\\nbefore the steady value is reached. In addition, unexpected\\npeaks (feature d) may also be visible in the steady region due\\nto noise, external disturbances, or malfunctions in the system.\\nFinally, the standard deviation (Std) during the steady region\\n(feature e) can also be extracted. These features have been\\nhighlighted in Fig. 1 only for the second stage of the movement\\n(retraction), but the same features were also extracted also for\\nthe ﬁrst movement (extension).\\nThe characteristics of the current signal (Fig. 2) are very\\nsimilar to the position error, and the same features can be\\nAuthorized licensed use limited to: Cranfield University. Downloaded on July 10,2024 at 10:39:32 UTC from IEEE Xplore.  Restrictions apply. \\n', mimetype='text/plain', start_char_idx=None, end_char_idx=None, text_template='{metadata_str}\\n\\n{content}', metadata_template='{key}: {value}', metadata_seperator='\\n'),\n",
       " Document(id_='18ec80a5-20d3-4b92-b521-e8d1e7d6a5b6', embedding=None, metadata={'total_pages': 13, 'file_path': '../docs\\\\paper.pdf', 'source': '3'}, excluded_embed_metadata_keys=[], excluded_llm_metadata_keys=[], relationships={}, text='RUIZ-CARCEL AND STARR: DATA-BASED DETECTION AND DIAGNOSIS OF FAULTS IN LINEAR ACTUATORS\\n2037\\nFig. 2.\\nCurrent measurements.\\nextracted from the extension and retraction movement sections.\\nFeatures a, b, and c are characteristics of any underdamped\\nsecond-order system and are easy to them for each movement\\n(extension and retraction) and use extract to monitor the\\ncondition of the system. The amplitude of unexpected peaks in\\nthe steady region (feature d) may also be indicative of faults\\nlocated at a particular point in one of the contact surfaces.\\nThese features have been carefully selected to capture the\\ndynamic behavior of the system as well as to increase the\\nsensitivity of the algorithm to certain types of faults. In this\\ninvestigation, the ﬁve features described will be extracted\\nseparately for the extension and retraction movements in the\\ntwo signals analyzed, position error and current.\\nB. Principal Component Analysis of Selected Features\\nPCA can characterize the state of a process by projecting\\nthe acquired data into a lower-dimensional space. This method\\nhas been used in many previous research works to decrease\\ndata redundancy [22] and select the most relevant features [23].\\nThis dimensionality reduction technique preserves the correla-\\ntion between the measurements capturing the data variability\\nin an optimal way [24]. Given an n × m data set matrix X\\ncontaining n observations and m variables, it is possible to\\nobtain a set of loading vectors V by solving the eigenvalue\\ndecomposition of the covariance matrix S\\nS =\\n1\\nn −1 XT X = V \\x02V T\\n(1)\\nwhere the loading vectors V are ordered by the amount of\\nvariance expressed by the corresponding eigenvalue in the\\ndiagonal matrix \\x02. The loading vectors attached to the a\\nlargest singular values are retained in the loading matrix\\nR ∈Rm×a. This set of vectors generates a lower dimensional\\nrepresentation of the extracted features. The projection of the\\ndata into this reduced space captures systematic trends of the\\ndata, reducing the amount of random noise [24] by minimizing\\nthe negative effects of measurement inaccuracies. The score\\nmatrix W contains the projection of the observed data into\\nthe lower dimensional space, while the residual matrix E\\nrepresents the difference between the observations and the\\nprojection of W back into the m-dimensional space\\nW = X R\\n(2)\\nE = X −W RT .\\n(3)\\nThe indicators most commonly used for the detection of\\nfaults are the Hotelling T 2 indicator (which represents major\\nvariations in the retained space) and the squared prediction\\nerror Q (representing variations in the residual space) [24].\\nThese indicators can be computed for each observation x as\\nfollows:\\nT 2 = yT y\\n(4)\\nQ = xT (I −RRT )x\\n(5)\\nwhere I is the identity matrix and the principal components\\n(PCs) y = \\x02a 1/2W T x have been rescaled to have unit\\nvariance [24].\\nThe upper control limits (UCL) for T 2 and Q can be\\ncalculated for a given signiﬁcance level α such that P(T 2 <\\nT 2\\nUCL(α)) = α and P(Q < QUCL(α)) = α, respectively.\\nThese control limits are estimated during the training phase\\nusing data acquired in the absence of faults. Later, in the\\nmonitoring phase, the values of T 2 and Q obtained are\\ncompared with these UCL to differentiate between normal and\\nfaulty behaviors. Usually, these control limits are calculated\\nassuming that the measurements are normally distributed.\\nHowever, this is not the case for nonlinear systems, which\\nmakes this assumption invalid. Odiowei and Cao [25] devel-\\noped a methodology to solve this issue by estimating the actual\\nprobability density function of the statistical indicators using\\nkernel density estimations (KDEs). The effectiveness of this\\napproach has also been tested using experimental data [26].The\\nprobability of a random variable x [with a probability density\\nfunction p(x)] to be smaller than a certain value s is deﬁned\\nas\\nP(x < s) =\\n\\x02 s\\n−∞\\np(x)dx\\n(6)\\nwhere p(x) can be calculated through the kernel function K\\nwith argument g\\np(x) = 1\\nnh\\nn\\n\\x03\\nk=1\\nK\\n\\x04x −xk\\nh\\n\\x05\\n(7)\\nK(g) = e\\n−g2\\n2\\n\\x06 √\\n2π\\n(8)\\nwhere h is the selected bandwidth [25] and xk is the kth sample\\nof x. By replacing xk with T 2\\nk and Qk obtained from (4)\\nand (5), respectively, it is possible to estimate the probability\\ndensity function of T 2 and Q. The respective control limits\\nfor these statistics correspond to s in (6), obtained by solving\\nP(x < s) = α. The value of the parameter α is critical for the\\ndiagnosis performance, and it is chosen by the user to balance\\nthe detection sensitivity and false alarm rate.\\nIII. EXPERIMENTAL SETUP\\nA. Description of the Rig\\nAn instrumented test rig was designed and built to evaluate\\nthe performance of the proposed algorithm. A ball-screw\\nmechanism where threaded shaft provides a helical raceway\\nfor ball bearings housed inside a nut was selected. This\\narrangement allows the transformation of shaft rotation into\\nAuthorized licensed use limited to: Cranfield University. Downloaded on July 10,2024 at 10:39:32 UTC from IEEE Xplore.  Restrictions apply. \\n', mimetype='text/plain', start_char_idx=None, end_char_idx=None, text_template='{metadata_str}\\n\\n{content}', metadata_template='{key}: {value}', metadata_seperator='\\n'),\n",
       " Document(id_='eefaee7f-20f0-4f6c-bb86-77251cd55410', embedding=None, metadata={'total_pages': 13, 'file_path': '../docs\\\\paper.pdf', 'source': '4'}, excluded_embed_metadata_keys=[], excluded_llm_metadata_keys=[], relationships={}, text='2038\\nIEEE TRANSACTIONS ON INSTRUMENTATION AND MEASUREMENT, VOL. 67, NO. 9, SEPTEMBER 2018\\nnut linear displacement with less friction and high preci-\\nsion. Different typical faults were seeded in this rig under\\ndifferent loading conditions in order to study how these\\nfaults affect the measurements acquired from the system and\\nhow these signals can be processed for fault detection and\\ndiagnosis.\\nIn order to simulate varying loading scenarios that represent\\nrealistic operating conditions, a second actuator was used.\\nBoth actuators were connected through a load cell, and the\\nload measurements provided were fed back to the controller\\nof the second actuator. Using this conﬁguration, it is possible\\nto send a load set point command to the second actuator and\\ntake control of the external load in the actuator being tested.\\nHowever, loading measurements were not used for monitoring,\\nas in real applications they are rarely available. The proposed\\nmonitoring system must be able to cope with varying loads\\nwithout using load measurements.\\nThe test rig was designed using components available in the\\nmarket for the construction of small CNC machines such as\\nball-screw arrangements, linear guides and bearings, stepper\\nmotors, drives, and so on. Ball-screws with ﬁtted antibacklash\\nball-nut model RM1605-C7 with 5-mm lead and Nema 34\\nstepper motors with 4.6-Nm holding torque were selected. The\\nmechanical components were mounted on an aluminum proﬁle\\nstructure. The motors of both actuators were controlled from\\na LabView interface, which was also responsible for the data\\ncollection.\\nThe rig was instrumented with a series of sensors for\\ncontrol and monitoring purposes. For the fault detection to\\nbe effective, the sensors used need to be accurate enough in\\nterms of resolution, bandwidth, and repeatability to capture\\nthe features introduced in Section II-A adequately. Position\\nwas measured with a Vishay REC 115L linear potentiome-\\nter, which has a linearity error of ±0.025% and repeata-\\nbility of ±0.01%. Current from the drive is measured by\\na Honeywell CSLA2CD Hall effect sensor with a nominal\\nsensitivity of 32.7 mV per cable turn (10 turns). In addi-\\ntion, for further research, nut and motor temperatures were\\nmeasured using K-type thermocouples, and vibration in the\\nnut was measured by a Dytran 3055D2 accelerometer. The\\nload between both actuators was measured using a Tedea\\nHuntleigh, S beam-type model 614 load cell (total error\\n0.02%). Load measurements were used only for controlling\\nthe load provided by the second actuator, but never for\\nmonitoring purposes. All the data were acquired at 25 Hz,\\nexcept for vibration measurements acquired at 50 kHz. The\\nsampling rate selection was based upon a preliminary analysis\\nof the signals acquired at a much higher frequency (500 Hz),\\nwhere it was observed that the dynamic features described in\\nSection II-A are relatively slow and can be captured accurately\\nat 25 Hz.\\nThis rig design is capable of producing a displacement\\nof 120 mm with a maximum external load of 392.3 N in both\\ndirections. The approximate dimensions of the complete rig\\nare 0.75 m long, 0.35 m wide, and 0.25 m high. Fig. 3 shows\\na CAD model of the test rig where some parts of the structure\\nhave been removed for more clarity. The nut of the actuator\\nbeing tested is connected through a machined aluminum block\\nFig. 3.\\n3-D model of the test-rig.\\nFig. 4.\\nLateral view of the rig.\\n \\nFig. 5.\\nBolt holding seal in ballnut.\\nto two linear bearings mounted on rails to avoid rotation of the\\nnut. Pictures of the assembled test rig can be seen in Fig. 4.\\nB. Cases Studied\\nInitially, the rig was run under normal operating conditions\\n(absence of faults) in order to collect a signiﬁcant amount\\nof data that can represent the behavior of the system under\\ndifferent loading conditions and motion proﬁles. Then different\\nfaults were introduced in different parts of the system, and the\\nsignals collected were used to assess the monitoring technique\\nand study the degradation of the actuator. The faults introduced\\nare selected to be representative of critical failure modes of\\nthis type of machine [2]. The faults tested were:\\n1) lack of lubrication, simulated by removing gradually the\\nscrew lubricant and tightening the nut seals (Fig. 5);\\nAuthorized licensed use limited to: Cranfield University. Downloaded on July 10,2024 at 10:39:32 UTC from IEEE Xplore.  Restrictions apply. \\n', mimetype='text/plain', start_char_idx=None, end_char_idx=None, text_template='{metadata_str}\\n\\n{content}', metadata_template='{key}: {value}', metadata_seperator='\\n'),\n",
       " Document(id_='687b4531-6053-4266-8377-540f4543e98a', embedding=None, metadata={'total_pages': 13, 'file_path': '../docs\\\\paper.pdf', 'source': '5'}, excluded_embed_metadata_keys=[], excluded_llm_metadata_keys=[], relationships={}, text='RUIZ-CARCEL AND STARR: DATA-BASED DETECTION AND DIAGNOSIS OF FAULTS IN LINEAR ACTUATORS\\n2039\\nFig. 6.\\nEight stages of the spalling defect.\\nFig. 7.\\nBalls for simulation of backlash.\\n2) spalling, simulated by artiﬁcially\\ninducing surface\\ndefects of different sizes in the screw and balls (Fig. 6);\\n3) backlash, simulated by replacing the original balls with\\nballs of smaller diameter (Fig. 7).\\nSeeded faults were introduced because there was insufﬁcient\\ntest time to run the ball screws naturally to failure. The faults\\nwere introduced gradually in order to observe how the severity\\nof the faults affects the features extracted from the signals\\nand assess the detection capabilities of the algorithm. In the\\ncase of lack of lubrication, in the ﬁrst stage the lubricant was\\nremoved with degreaser. No dramatic changes were observed\\nin the signals, mainly due to the inherent low friction of the\\nball-screw architecture. In order to increase the severity of\\nthe fault, the bolts holding the plastic seal at both ends of\\nthe nut containing the balls were tightened, to create more\\nfriction (see Fig. 5). The spalling defect was started as a\\n1-mm diameter surface defect on the rolling surface of the\\nscrew (see Fig. 6). In the following second, third, and fourth\\nstages, the size of the defect was gradually increased to 2, 3,\\nand 4 mm in diameter, affecting not only the bottom of the\\nchannel but also one of the sides. In stage 5, the 4-mm\\ndefect was replicated in a neighbor channel, and in stage 6,\\nthe size of both defects was increased affecting the sidewall\\nbetween them. In stage 7, another 4-mm defect was seeded\\non the other neighbor channel of the original defect. Finally,\\nin stage 8 part of the sidewall between two of the defects was\\npartially removed (see Fig. 6). Backlash or excess of play was\\nsimulated replacing the original 3.15-mm diameter balls by\\n3- and 2.5-mm diameter balls (see Fig. 7).\\nThe tests were performed for different motion proﬁles and\\nloading conditions in order to assess the capabilities of the\\nalgorithm under different scenarios. Two motion proﬁles were\\ntested. The ﬁrst was a trapezoidal motion proﬁle (constant\\nspeed set point) where the 120-mm stroke was completed in\\n5 s with 3 s waiting at both ends of the movement. The second\\nwas a sinusoidal motion proﬁle (smooth speed transition) with\\n120-mm stroke completed in 6 s with 2 s waiting at both ends.\\nThese two motion proﬁles were tested for normal and faulty\\nconditions under three different loading scenarios: 196.13,\\n392.3, and −392.3 N. The full motion sequence was repeated\\nﬁve times in each test, and each test was repeated 10 times\\nin order to generate a data set with a signiﬁcant amount of\\nobservation in each case studied. In every test, before the data\\ncollection started, the rig was run for about 30 min until a\\nsteady temperature was reached in the motors and the nut.\\nIV. RESULTS AND DISCUSSION\\nA. Feature Extraction\\nAs mentioned in Section II-A, the extraction of features\\nfrom the signal is critical for the performance of the\\nmonitoring algorithm. For that reason, the features set were\\nchosen for likely sensitivity to degradation, and then tested\\nfor effectiveness. The correlation between these features was\\nstudied using PCA in order to establish a baseline that deﬁnes\\nthe normal behavior of the system in the absence of faults\\nunder different loading scenarios. As an additional beneﬁt, this\\nprocedure signiﬁcantly reduces the amount of data analyzed.\\nDuring the training phase, using data acquired in the absence\\nof faults, these features were combined to capture the system\\ndynamics under different operating scenarios. In subsequent\\ntests, any deviations found in these features were examined\\nfor indication of the presence of faults in the system.\\nDue to the differences in the signals acquired for trapezoidal\\nand sinusoidal motion proﬁles, the sets of features extracted\\nand the extraction method in each case are slightly different.\\nThese features were extracted from position error and current\\nsignals independently for the extension and retraction move-\\nment in each complete motion, and each motion type was\\nAuthorized licensed use limited to: Cranfield University. Downloaded on July 10,2024 at 10:39:32 UTC from IEEE Xplore.  Restrictions apply. \\n', mimetype='text/plain', start_char_idx=None, end_char_idx=None, text_template='{metadata_str}\\n\\n{content}', metadata_template='{key}: {value}', metadata_seperator='\\n'),\n",
       " Document(id_='a898d1d1-f8c7-44cb-836b-7d988f51e56e', embedding=None, metadata={'total_pages': 13, 'file_path': '../docs\\\\paper.pdf', 'source': '6'}, excluded_embed_metadata_keys=[], excluded_llm_metadata_keys=[], relationships={}, text='2040\\nIEEE TRANSACTIONS ON INSTRUMENTATION AND MEASUREMENT, VOL. 67, NO. 9, SEPTEMBER 2018\\nFig. 8.\\nFeature extraction procedure for trapezoidal and sinusoidal motion\\nproﬁles.\\nanalyzed separately. Fig. 8 summarizes the automated feature\\nextraction procedure used in each case.\\nFor the trapezoidal proﬁle, the last 80 samples (correspond-\\ning to 3.2 s of measurements) from position error and current\\nmeasurements of each movement were used to calculate the\\nmean steady value. Both signals were ﬁltered using a moving\\naverage with a window length of 20 and 15 data points,\\nrespectively. This ﬁltering process produces a smoothed signal\\neliminating random noise that allows for a more accurate\\nestimation of the settling time (see Fig. 9). The settling time\\nwas established as the last data point in the ﬁltered signal\\nwith an absolute value lower than 0.5 mm for position error\\nand lower than 10% of the mean steady current for the\\ncurrent signal. These threshold values were set empirically\\nTABLE I\\nFEATURES STRUCTURE FOR TRAPEZOIDAL PROFILE\\n(FEATURES FROM SECTION II-A)\\nafter analyzing the behavior of the signals under different\\noperating conditions. Finally, the amplitude of the maximum\\ndeviation with respect to the mean steady value and the\\nstandard deviation between the settling time and the end of\\nthe movement was computed for both signals. An example\\nof features captured can be seen in Fig. 9(a). Table I shows\\nthe ﬁnal list of features extracted from both signals for the\\ntrapezoidal case and the ID number assigned to each of these\\nfeatures, which will be referred to in Section IV.\\nIn the case of the sinusoidal proﬁle, due to the constant\\nchange in the speed set point, none of the signals ever reached\\na real “steady value.” In the case of the position error, only\\nthe overshoot value was captured. For current measurements,\\nin addition to the overshoot, a region around the maximum\\nspeed point with a speed variation lower than 10% was further\\nanalyzed. The current signal was considered almost steady in\\nthis region, and the mean value, the amplitude of the maximum\\ndeviation from the mean, and the standard deviation were\\nextracted from this signal section. Table II shows the list of\\nfeatures extracted from both signals for the sinusoidal case.\\nB. Analysis of Extracted Features\\n1) Normal Operation: In order to train the algorithm and\\nestablish a set of baseline values for the features extracted,\\nthe ﬁrst data set was acquired in normal conditions (absence\\nof faults) for the trapezoidal and sinusoidal motion proﬁles\\nunder the three loading scenarios considered. Fig. 10 shows\\nan example of some features (measurements 1, 2, 5, 11, 12,\\nand 15 in Table I) extracted from trapezoidal type extension\\nmovements for different loading conditions. These graphs\\nAuthorized licensed use limited to: Cranfield University. Downloaded on July 10,2024 at 10:39:32 UTC from IEEE Xplore.  Restrictions apply. \\n', mimetype='text/plain', start_char_idx=None, end_char_idx=None, text_template='{metadata_str}\\n\\n{content}', metadata_template='{key}: {value}', metadata_seperator='\\n'),\n",
       " Document(id_='8065d19e-9c79-4838-89df-238c39f1de63', embedding=None, metadata={'total_pages': 13, 'file_path': '../docs\\\\paper.pdf', 'source': '7'}, excluded_embed_metadata_keys=[], excluded_llm_metadata_keys=[], relationships={}, text='RUIZ-CARCEL AND STARR: DATA-BASED DETECTION AND DIAGNOSIS OF FAULTS IN LINEAR ACTUATORS\\n2041\\nFig. 9.\\nExample of features extracted for (a) trapezoidal and (b) sinusoidal motion.\\nTABLE II\\nFEATURES STRUCTURE FOR SINUSOIDAL PROFILE\\n(FEATURES FROM SECTION II-A)\\nshow the variation in the features extracted due to noise,\\nmeasurement error and variations in the operating conditions.\\nSome of the features, especially those related to position\\nmeasurements, show almost no variation for the different\\nloading scenarios, as expected under closed loop control.\\nHowever, current measurements are hugely affected by the\\noperating conditions. That is why, it is necessary to produce\\na condition indicator that can characterize the health of the\\nsystem under varying operating conditions for this application.\\nThe training data set was composed of 150 observations\\n(50 for each loading condition tested) and 20 measure-\\nments were analyzed following the procedure described in\\nSection II-B. The number of PCs to retain a was chosen so that\\nat least 80% of the variability in the data is retained. According\\nto the analysis of the singular values, the number of retained\\nPCs was set to 2. The probability density function of the T 2\\nand Q indicators was estimated using KDE. The thresholds\\nwere calculated for a conﬁdence bound of 90%, obtaining\\nvalues of 17.88 and 18.89 for T 2 and Q, respectively.\\nFig. 11(a) shows the values of both indicators against their\\nrespective thresholds for the three loading scenarios in the\\nabsence of faults. This result shows the ability of PCA to\\nprovide information about the system condition for different\\noperating conditions. Fig. 11(b) shows the scores for the two\\nmain PCs, which is a measurement of the weight of each\\nfeature measured in each dimension of the PC space.\\nThe same analysis was undertaken for the sinusoidal proﬁle\\ndata set. In this case also, two PCs were retained and the\\nthreshold values were set to 13.75 and 5.85 for the T 2 and\\nQ indicators, respectively. Fig. 12 summarizes the results\\nobtained in this case.\\n2) Lack of Lubrication: This case was studied in two stages\\nwith increasing severity. Fig. 13(a) shows the condition indi-\\ncators for this case for the trapezoidal proﬁle, where the ﬁrst\\n150 samples correspond to the ﬁrst stage and the remaining\\n150 observations correspond to the second stage. The detection\\nrate for the T 2 indicator was 48.6% and 64.7% for the ﬁrst\\nand second stages of the test, respectively. The Q indicator\\nshowed a better performance with 88% and 100% detection\\nrate for the ﬁrst and second stages. Different values of number\\nof PCs retained a were tried to improve the performance of\\nthe T 2 indicator, obtaining poorer results. As a consequence,\\nthis parameter was kept to 2. The lack of detection of the T 2\\nindicator is attributed to the fact that this particular fault tends\\nto produce features located away from the retained PCs rather\\nthan changing the values of the features within the retained\\nspace.\\nFig. 13(b) shows an example the contribution of each mea-\\nsurement to each indicator at sample number 15 (ﬁrst stage,\\n196.13 N. The measurements with higher contributions in both\\nindicators are 12 and 17, which correspond with the current\\novershoot during the extension and retraction movements,\\nAuthorized licensed use limited to: Cranfield University. Downloaded on July 10,2024 at 10:39:32 UTC from IEEE Xplore.  Restrictions apply. \\n', mimetype='text/plain', start_char_idx=None, end_char_idx=None, text_template='{metadata_str}\\n\\n{content}', metadata_template='{key}: {value}', metadata_seperator='\\n'),\n",
       " Document(id_='01c8af2c-bcb3-4c15-be52-7783ad1ede22', embedding=None, metadata={'total_pages': 13, 'file_path': '../docs\\\\paper.pdf', 'source': '8'}, excluded_embed_metadata_keys=[], excluded_llm_metadata_keys=[], relationships={}, text='2042\\nIEEE TRANSACTIONS ON INSTRUMENTATION AND MEASUREMENT, VOL. 67, NO. 9, SEPTEMBER 2018\\nFig. 10.\\nExample of features from trapezoidal extension movement.\\nFig. 11.\\n(a) Condition indicators and (b) PC scores for the trapezoidal training data set.\\nrespectively. Measurements 11 and 16 (steady value) have also\\na high contribution. This is attributed to the excess of current\\nthat is needed to overcome the increment in friction and the\\nchange produced in the dynamic properties of the system.\\nThe same analysis was performed for the sinusoidal proﬁle,\\nobtaining the results shown in Fig. 14. In this case, the detec-\\ntion rate for the T 2 indicator was 29.3% and 22.7% for the\\nﬁrst and second degradation stages, respectively, while for the\\nQ indicator it was 90% and 99.3%. The main measurements\\ncontributing to the T 2 indicator at sample 79 (ﬁrst stage,\\n392.3 N) were three and seven, corresponding again to the\\ncurrent steady value in each movement direction. For the Q\\nindicator, measurement seven was especially relevant at this\\nparticular sample.\\n3) Spalling: As explained in Section III-B, spalling was\\nintroduced gradually in eight stages. Despite the apparent\\nseverity of the fault, the system proved to be quite robust\\nand continued working almost ﬂawlessly even with defects of\\nconsiderable size. Even in the last stages tested, the momentary\\nball nut jamming did not occur in every single movement\\nrepetition, it only happened momentarily in some of the\\nmovements arbitrarily. During the tests, it was observed that\\nfor the sinusoidal proﬁle (where the maximum speed is higher\\nthan for the trapezoidal case) momentary jamming was quite\\nfrequent during the seventh degradation stage. Figs. 15 and 16\\nshow the results obtained for these tests. Detection rate results\\nare presented in Table III.\\nThe detection rate results summarized in Table III reveal\\nthat for the trapezoidal proﬁle tests the number of threshold\\ncrossings was obviously high only in the eighth stage, and\\nmoderate in the sixth and seventh stages. For the ﬁrst ﬁve\\nstages the results are quite similar to the training data set,\\nAuthorized licensed use limited to: Cranfield University. Downloaded on July 10,2024 at 10:39:32 UTC from IEEE Xplore.  Restrictions apply. \\n', mimetype='text/plain', start_char_idx=None, end_char_idx=None, text_template='{metadata_str}\\n\\n{content}', metadata_template='{key}: {value}', metadata_seperator='\\n'),\n",
       " Document(id_='8705f780-5d49-40a0-842a-bf1c853e26bf', embedding=None, metadata={'total_pages': 13, 'file_path': '../docs\\\\paper.pdf', 'source': '9'}, excluded_embed_metadata_keys=[], excluded_llm_metadata_keys=[], relationships={}, text='RUIZ-CARCEL AND STARR: DATA-BASED DETECTION AND DIAGNOSIS OF FAULTS IN LINEAR ACTUATORS\\n2043\\nFig. 12.\\n(a) Condition indicators and (b) PC scores for the sinusoidal training data set.\\nFig. 13.\\n(a) Condition indicators and (b) contributions at sample 15 for lack of lubrication (trapezoidal).\\nFig. 14.\\n(a) Condition indicators and (b) contributions at sample 79 for lack of lubrication (sinusoidal).\\nshowing that the algorithm was not able to detect the fault\\nat these early stages. According to Fig. 15(b), the measure-\\nments that contribute more to both indicators at sample 1155\\n(eighth stage under −392.3 N) are 9, 10, 19, and 20, which are\\nrelated with the maximum deviations found during the steady\\nmovement region and the overall standard deviation in that\\nsame region of the two signals analyzed, particularly for the\\nretraction movement.\\nAuthorized licensed use limited to: Cranfield University. Downloaded on July 10,2024 at 10:39:32 UTC from IEEE Xplore.  Restrictions apply. \\n', mimetype='text/plain', start_char_idx=None, end_char_idx=None, text_template='{metadata_str}\\n\\n{content}', metadata_template='{key}: {value}', metadata_seperator='\\n'),\n",
       " Document(id_='28bcb7db-30ad-406f-99f4-5f415b3b2794', embedding=None, metadata={'total_pages': 13, 'file_path': '../docs\\\\paper.pdf', 'source': '10'}, excluded_embed_metadata_keys=[], excluded_llm_metadata_keys=[], relationships={}, text='2044\\nIEEE TRANSACTIONS ON INSTRUMENTATION AND MEASUREMENT, VOL. 67, NO. 9, SEPTEMBER 2018\\nFig. 15.\\n(a) Condition indicators and (b) contributions at sample 1155 for spalling (trapezoidal).\\nFig. 16.\\n(a) Condition indicators and (b) contributions at sample 1002 for spalling (sinusoidal).\\nFig. 17.\\n(a) Condition indicators and (b) contributions at sample 284 for backlash (trapezoidal).\\nFor the sinusoidal proﬁle, the indicators only gave a rela-\\ntively high number of threshold crossings in the seventh stage.\\nThese results are in line with the observations during the tests,\\nwhere the actuator was operating in a normal way for the\\nsmaller defects tested. Ball nut jamming was only frequent\\nfor the sinusoidal proﬁle during the seventh stage. This is\\nAuthorized licensed use limited to: Cranfield University. Downloaded on July 10,2024 at 10:39:32 UTC from IEEE Xplore.  Restrictions apply. \\n', mimetype='text/plain', start_char_idx=None, end_char_idx=None, text_template='{metadata_str}\\n\\n{content}', metadata_template='{key}: {value}', metadata_seperator='\\n'),\n",
       " Document(id_='aa1024bb-0961-4625-a15d-dd459ec30806', embedding=None, metadata={'total_pages': 13, 'file_path': '../docs\\\\paper.pdf', 'source': '11'}, excluded_embed_metadata_keys=[], excluded_llm_metadata_keys=[], relationships={}, text='RUIZ-CARCEL AND STARR: DATA-BASED DETECTION AND DIAGNOSIS OF FAULTS IN LINEAR ACTUATORS\\n2045\\nFig. 18.\\n(a) Condition indicators and (b) contributions at sample 210 for backlash (sinusoidal).\\nTABLE III\\nDETECTION RATES FOR SPALLING TESTS IN %\\nattributed to a combination of the high speed achieved during\\nthe sinusoidal movement and the sharpness of the defect edges\\nin that particular stage. For the eighth stage, the defect size\\nwas bigger, but the edges of the defect were smoother. The\\nthree independent rows of balls make the system quite robust\\nto this type of fault as the load is shared amongst many balls at\\ndifferent locations. According to Fig. 16(b), the measurements\\nthat contribute more to both indicators at sample 1022 (seventh\\nstage under −392.3 N) are 5, 6, 9, and 10, which again are\\nrelated with the maximum amplitude found during the steady\\nmovement region and the standard deviation in that same\\nregion of the current signal.\\n4) Backlash:\\nBacklash was introduced in two stages.\\nFig. 17 shows the results obtained for the trapezoidal motion\\nproﬁle. In this case, the performance of the T 2 indicator was\\nrelatively poor, giving a detection rate of 40.7% and 16% for\\nstages 1 and 2, respectively, compared with the 88% and 100%\\ndetection rate given by the Q indicator in the same conditions.\\nAt sample 284 (second stage under −392.3 N), there are\\nseveral variables contributing to the T 2, which is an indication\\nof its poor performance. The main contributions of the Q\\nindicator at this data point are variables 5, 10, 15, and 20,\\nwhich are related with the standard deviation during the steady\\nmotion regions. This may be an indication of increment in the\\nvariability of the signals due to the effect of backlash.\\nFig. 18 shows the results obtained for the sinusoidal motion\\nproﬁle. In this case, the detection rates for the T 2 indicator are\\n29.3% and 76% for the ﬁrst and second degradation stages.\\nAgain, the contribution of the T 2 indicator at sample 210\\n(second stage under 392.3 N) is shared amongst many vari-\\nables, which hinders the diagnosis. The Q indicator, however,\\nshows much better detection rates 90% in the ﬁrst stage\\nand 100% in the second. Additionally, the measurements\\ncontributing more to this indicator at sample 210 are 6 and\\n10, measuring the standard deviation in the steady region of\\nthe current signals in both directions.\\nV. CONCLUSION\\nThis paper presents a novel method for linear actuator\\nmonitoring based on extraction of key features from cur-\\nrent and position measurements. These features are carefully\\nselected in order to obtain a good representation of the system\\ndynamics during transient and steady operation with a reduced\\ndata set. These features are combined using PCA to produce\\ncondition indicators that can be used for fault detection, as\\nthey are able to indicate changes in the system dynamics even\\nunder different operating conditions such as different loading\\nscenarios. In addition, the capabilities of PCA to eliminate\\nrandom variations in the data and capture systematic trends\\nhelped to reduce background noise in the signals.\\nThe proposed approach was tested using experimental data\\nacquired from a rig designed to operate under different\\nloading conditions and allowing faults to be seeded. Data\\nwere acquired from position and current measurements under\\nnormal conditions, with lack of lubrication, spalling, and with\\nworn balls to simulate backlash. The sensors characteristics\\nwere selected to provide accurate and reliable measurements\\nable to represent the characteristics of the system dynam-\\nics. Although the level of noise observed in the signals\\nwas relatively high, the PCA-based feature combination and\\ndimensionality reduction provided consistent health indicators\\neven under different loads.\\nThe rig operation proved to be quite robust for these\\nparticular fault scenarios. It continued operating even when\\nthe faults introduced were visually quite severe. The results\\nobtained show that the algorithm was able to detect the faults\\nintroduced, although the detection of these faults in the very\\nAuthorized licensed use limited to: Cranfield University. Downloaded on July 10,2024 at 10:39:32 UTC from IEEE Xplore.  Restrictions apply. \\n', mimetype='text/plain', start_char_idx=None, end_char_idx=None, text_template='{metadata_str}\\n\\n{content}', metadata_template='{key}: {value}', metadata_seperator='\\n'),\n",
       " Document(id_='97e7e446-8288-475f-8cdc-f85159d16c4a', embedding=None, metadata={'total_pages': 13, 'file_path': '../docs\\\\paper.pdf', 'source': '12'}, excluded_embed_metadata_keys=[], excluded_llm_metadata_keys=[], relationships={}, text='2046\\nIEEE TRANSACTIONS ON INSTRUMENTATION AND MEASUREMENT, VOL. 67, NO. 9, SEPTEMBER 2018\\nearly stages of degradation was not always possible due to the\\nmentioned robustness of the system.\\nThe results obtained showed that the proposed feature\\nextraction and analysis approach was able to effectively detect\\nthe lack of lubrication and backlash under different motion and\\nloading conditions. In particular, the Q indicator showed a\\nlow false alarm rate, and the Q contribution plots provided\\nvaluable information for fault diagnosis. The T 2 indicator,\\non the other hand, typically showed low detection rates, despite\\nthe efforts made in tuning the algorithm parameters to improve\\nits performance. Both indicators failed to detect spalling in\\nthe ﬁrst stages of degradation, but during the tests it was\\nobserved that the mechanism performance and behavior was\\nnot very different from what was observed in the absence of\\nfaults. When the defect introduced was big enough to affect\\nthe behavior of the mechanism considerably, the algorithm\\nwas able to detect the fault and provide information about its\\norigin. The use of multivariate analysis was crucial to simplify\\nthe fault detection and diagnosis problem involving several\\nvariables and changing operation.\\nThe superior performance of the Q indicator over T 2 has\\nalso been observed in other investigations. Generally, it is\\nattributed to the fact that most faults tend to produce features\\nlocated away from the retained PCs rather than changing the\\nvalues of the features within the retained space. Although\\ndifferent tests were carried out retaining a higher number of\\nprincipal components, the best overall detection performance\\nwas found setting this parameter to 2.\\nThe analysis of the contribution of each measurement to\\nthe indicators’ value provided very useful information about\\nthe origin of the source of the threshold crossing. Some\\nof the selected features produced signiﬁcantly high scores\\nduring the training phase, as they contain most of the data\\nvariability in such conditions. However, some of the features\\nwith lower scores were determinant in the detection of some\\nfaults, proving the need to include such features to provide\\naccurate diagnosis information. This information could be used\\nnot only to detect the fault automatically but also to guide\\nsubsequent inspection to conﬁrm the origin and extent of the\\nfault, which some industries may require before commission-\\ning replacement or repair. In order to improve the perfor-\\nmance of the proposed approach in the future investigations,\\nthe exploration of indicator combination and the comparison\\nof measurements with historic data and previous operations\\nfor building conﬁdence in diagnosis is suggested.\\nACKNOWLEDGMENT\\nThe authors would like to thank the Engineering and Phys-\\nical Sciences Research Council Centre for Through-life Engi-\\nneering Services, Rolls-Royce, BAE Systems, Bombardier\\nTransportation, Babcock, and the Ministry of Defence.\\nREFERENCES\\n[1] The\\nNational\\nTransportation\\nSafety\\nBoard.\\nAviation\\nAccident\\nReport—Loss of Control and Impact with Paciﬁc Ocean, Alaska\\nAirlines\\nFlight\\n261,\\nMcDonnell\\nDouglas\\nMD-83,\\nN963AS,\\nAbout 2.7 Miles North of Anacapa Island, California. Accessed:\\nNov. 15, 2016. [Online]. Available: http://www.ntsb.gov/investigations/\\naccidentreports/pages/AAR0201.aspx\\n[2] E. Balaban, A. Saxena, P. Bansal, K. F. Goebel, P. Stoelting, and\\nS. Curran, “A diagnostic approach for electro-mechanical actuators in\\naerospace systems,” in Proc. IEEE Aerosp. Conf., Mar. 2009, pp. 1–13.\\n[3] P. Phillips, D. Diston, and A. Starr, “Perspectives on the commercial\\ndevelopment of landing gear health monitoring systems,” Transp. Res. C,\\nEmerg. Technol., vol. 19, no. 6, pp. 1339–1352, 2011.\\n[4] P. Jänker et al., “New actuators for aircraft and space applications,” in\\nProc. 11th Int. Conf. New Actuators, 2008, pp. 346–354.\\n[5] P. Phillips and D. Diston, “A knowledge driven approach to aerospace\\ncondition monitoring,” Knowl.-Based Syst., vol. 24, no. 6, pp. 915–927,\\nAug. 2011.\\n[6] S. C. Jensen, G. D. Jenney, and D. Dawson, “Flight test experience with\\nan electromechanical actuator on the F-18 systems research aircraft,” in\\nProc. 19th DASC. 19th Digit. Avion. Syst. Conf., vol. 1. Oct. 2000,\\npp. 1–11.\\n[7] G. Swerdon et al., “A systems engineering approach to electro-\\nmechanical actuator diagnostic and prognostic development,” in Proc.\\nConf. Soc. Mach. Failure Prevention Technol. Failure Prevention,\\nImplement., Success Stories Lessons Learn., 2009, pp. 1–15.\\n[8] C. S. Byington, M. Watson, D. Edwards, and P. Stoelting, “A model-\\nbased approach to prognostics and health management for ﬂight con-\\ntrol actuators,” in Proc. IEEE Aerosp. Conf., vol. 6. Mar. 2004,\\npp. 3551–3562.\\n[9] L. U. Gökdere, S. L. Chiu, K. J. Keller, and J. Vian, “Lifetime control of\\nelectromechanical actuators,” in Proc. IEEE Aerosp. Conf., Mar. 2005,\\npp. 3523–3531.\\n[10] M. J. Smith et al., “Experimental and analytical development of health\\nmanagement for electro-mechanical actuators,” in Proc. IEEE Aerosp.\\nConf., Mar. 2009, pp. 1–14.\\n[11] E. Balaban et al., “Experimental data collection and modeling for\\nnominal and fault conditions on electro-mechanical actuators,” in Proc.\\nAnnu. Conf. Prognostics Health Manage. Soc., 2009, pp. 1–15.\\n[12] R. Dixon, N. Gifford, C. Sewell, and M. C. Spalton, “REACTS:\\nReliable electrical actuation systems,” in Proc. IEE Colloq. Elect. Mach.\\nSyst. More Electric Aircraft, London, U.K., 1999, pp. 5-1–5-16, doi:\\n10.1049/ic:19990834.\\n[13] R. Dixon and A. W. Pike, “Application of condition monitoring to an\\nelectromechanical actuator: A parameter estimation based approach,”\\nComput. Control Eng. J., vol. 13, no. 2, pp. 71–81, 2002.\\n[14] R. Dixon and A. W. Pike, “Improving the control and reliability\\nof an electromechanical actuator,” IFAC Proc. Vols., vol. 38, no. 1,\\npp. 329–334, 2005.\\n[15] R. Dixon, “Observer-based FDIA: Application to an electromechanical\\npositioning system,” Control Eng. Pract., vol. 12, no. 9, pp. 1113–1125,\\nSep. 2004.\\n[16] A. J. Chirico, III, J. R. Kolodziej, and L. Hall, “A data driven frequency\\nbased feature extraction and classiﬁcation method for EMA fault detec-\\ntion and isolation,” in Proc. ASME 5th Annu. Dyn. Syst. Control Conf.\\nJoint JSME 11th Motion Vibrat. Conf. (DSCC) MOVIC, vol. 2. 2012,\\npp. 751–760.\\n[17] A. J. Chirico, III, and J. R. Kolodziej, “A data-driven methodology\\nfor fault detection in electromechanical actuators,” J. Dyn. Syst. Meas.\\nControl. Trans. ASME, vol. 136, no. 4, p. 041025, 2014.\\n[18] A. Chirico and J. Kolodziej, “Fault detection and isolation for electro-\\nmechanical actuators using a data-driven Bayesian classiﬁcation,” SAE\\nInt. J. Aerosp., vol. 5, no. 2, pp. 494–502, 2012. [Online]. Available:\\nhttps://doi.org/10.4271/2012-01-2215\\n[19] S. Nandi, H. A. Toliyat, and X. Li, “Condition monitoring and fault\\ndiagnosis of electrical motors—A review,” IEEE Trans. Energy Convers.,\\nvol. 20, no. 4, pp. 719–729, Apr. 2005.\\n[20] C. Ruiz-Carcel and A. Starr. Data set for ‘Data-Based Detection and\\nDiagnosis of Faults in Linear Actuators. Accessed: Feb. 28, 2018.\\n[Online]. Available: https://ﬁgshare.com/s/dac98f9c1bc46b7a2800\\n[21] C. Ruiz-Carcel and A. Starr, “Development of a novel condition monitor-\\ning tool for linear actuators,” in Proc. 12th Int. Conf. Condition Monitor.\\nMach. Failure Prevention Technol., 2015, pp. 1–12.\\n[22] L. Xu et al., “Identiﬁcation of oil-water ﬂow patterns in a vertical well\\nusing a dual-ring conductance probe array,” IEEE Trans. Instrum. Meas.,\\nvol. 65, no. 5, pp. 1249–1258, May 2016.\\n[23] A. Malhi and R. X. Gao, “PCA-based feature selection scheme for\\nmachine defect classiﬁcation,” IEEE Trans. Instrum. Meas., vol. 53,\\nno. 6, pp. 1517–1525, Dec. 2004.\\n[24] E. L. Russell, L. H. Chiang, and R. D. Braatz, Fault Detection\\nand Diagnosis in Industrial Systems, vol. 1. London, U.K.: Springer,\\n2000.\\nAuthorized licensed use limited to: Cranfield University. Downloaded on July 10,2024 at 10:39:32 UTC from IEEE Xplore.  Restrictions apply. \\n', mimetype='text/plain', start_char_idx=None, end_char_idx=None, text_template='{metadata_str}\\n\\n{content}', metadata_template='{key}: {value}', metadata_seperator='\\n')]"
      ]
     },
     "execution_count": 4,
     "metadata": {},
     "output_type": "execute_result"
    }
   ],
   "source": [
    "documents"
   ]
  },
  {
   "cell_type": "code",
   "execution_count": 5,
   "metadata": {},
   "outputs": [],
   "source": [
    "def chunk_text(text):\n",
    "    # Split the input text into individual sentences.\n",
    "    single_sentences_list = split_sentences(text)\n",
    "    \n",
    "    # Combine adjacent sentences to form a context window around each sentence.\n",
    "    combined_sentences = combine_sentences(single_sentences_list)\n",
    "    \n",
    "    # Convert the combined sentences into vector representations using a neural network model.\n",
    "    embeddings = convert_to_vector(combined_sentences)\n",
    "    \n",
    "    # Calculate the cosine distances between consecutive combined sentence embeddings to measure similarity.\n",
    "    distances = calculate_cosine_distances(embeddings)\n",
    "    \n",
    "    # Determine the threshold distance for identifying breakpoints based on the 80th percentile of all distances.\n",
    "    breakpoint_percentile_threshold = 80\n",
    "    breakpoint_distance_threshold = np.percentile(distances, breakpoint_percentile_threshold)\n",
    "    \n",
    "    # Find all indices where the distance exceeds the calculated threshold, indicating a potential chunk breakpoint.\n",
    "    indices_above_thresh = [i for i, distance in enumerate(distances) if distance > breakpoint_distance_threshold]\n",
    "    \n",
    "    # Initialize the list of chunks and a variable to track the start of the next chunk.\n",
    "    chunks = []\n",
    "    start_index = 0\n",
    "    # Loop through the identified breakpoints and create chunks accordingly.\n",
    "    for index in indices_above_thresh:\n",
    "        chunk = ' '.join(single_sentences_list[start_index:index+1])\n",
    "        chunks.append(chunk)\n",
    "        start_index = index + 1\n",
    "    \n",
    "    # If there are any sentences left after the last breakpoint, add them as the final chunk.\n",
    "    if start_index < len(single_sentences_list):\n",
    "        chunk = ' '.join(single_sentences_list[start_index:])\n",
    "        chunks.append(chunk)\n",
    "    \n",
    "    # Return the list of text chunks.\n",
    "    return chunks\n",
    "\n",
    "def split_sentences(text):\n",
    "    # Use regular expressions to split the text into sentences based on punctuation followed by whitespace.\n",
    "    sentences = re.split(r'(?<=[.?!])\\s+', text)\n",
    "    return sentences\n",
    "\n",
    "def combine_sentences(sentences):\n",
    "    # Create a buffer by combining each sentence with its previous and next sentence to provide a wider context.\n",
    "    combined_sentences = []\n",
    "    for i in range(len(sentences)):\n",
    "        combined_sentence = sentences[i]\n",
    "        if i > 0:\n",
    "            combined_sentence = sentences[i-1] + ' ' + combined_sentence\n",
    "        if i < len(sentences) - 1:\n",
    "            combined_sentence += ' ' + sentences[i+1]\n",
    "        combined_sentences.append(combined_sentence)\n",
    "    return combined_sentences\n",
    "\n",
    "def convert_to_vector(texts):\n",
    "\n",
    "    # Try to generate embeddings for a list of texts using a pre-trained model and handle any exceptions.\n",
    "    try:\n",
    "        response = openai.embeddings.create(\n",
    "            input=texts,\n",
    "            model=\"text-embedding-3-small\"\n",
    "        )\n",
    "        embeddings = np.array([item.embedding for item in response.data])\n",
    "        return embeddings\n",
    "    except Exception as e:\n",
    "        print(\"An error occurred:\", e)\n",
    "        return np.array([])  # Return an empty array in case of an error\n",
    "\n",
    "def calculate_cosine_distances(embeddings):\n",
    "    # Calculate the cosine distance (1 - cosine similarity) between consecutive embeddings.\n",
    "    distances = []\n",
    "    for i in range(len(embeddings) - 1):\n",
    "        similarity = cosine_similarity([embeddings[i]], [embeddings[i + 1]])[0][0]\n",
    "        distance = 1 - similarity\n",
    "        distances.append(distance)\n",
    "    return distances"
   ]
  },
  {
   "cell_type": "code",
   "execution_count": 6,
   "metadata": {},
   "outputs": [
    {
     "data": {
      "text/plain": [
       "['Data set for \"Data-based Detection and Diagnosis of Faults \\nin Linear Actuators\" \\n \\n1.',\n",
       " 'Introduction \\nThe dataset presented here was acquired for the study of degradation in linear \\nactuators, particularly electro-mechanical actuators (EMA).',\n",
       " 'The data was acquired \\nfrom an instrumented rig (described in section 2) where a ball-screw actuator moved \\nleft to right following a defined motion profile with a level of load selected by the user.',\n",
       " 'Nut position and motor current measurements were acquired during the tests.',\n",
       " 'Initially the rig was tested in normal conditions (absence of faults) under different \\nmotion and loading scenarios.',\n",
       " 'Subsequently different mechanical faults, including lack \\nof lubrication, spalling and backlash, were seeded in the system.',\n",
       " 'Position and motor \\ncurrent data were acquired under these conditions to study monitoring methods to \\ndetect faults and degradation in this particular type of systems.',\n",
       " 'This document describes in detail the data files available in the repository.',\n",
       " 'Section 2 \\nshows the experimental set up.',\n",
       " 'Section three describes the different cases studied \\nand finally the data structure is explained in section 4.',\n",
       " '2.',\n",
       " 'Experimental set up \\nA ball-screw mechanism where threaded shaft provides a helical raceway for ball \\nbearings housed inside a nut was selected for this study.',\n",
       " 'This arrangement allows the \\ntransformation of shaft rotation into nut linear displacement with little friction and high \\nprecision.',\n",
       " 'In order to simulate varying loading scenarios that represent realistic \\noperating conditions, a second actuator was used.',\n",
       " 'Both actuators were connected \\nthrough a load cell, and the load measurements provided were fed back to the \\ncontroller of the second actuator.',\n",
       " 'Using this configuration it is possible to send a load \\nset point command to the second actuator and take control of the external load in the \\nactuator being tested.',\n",
       " 'Ball-screws with fitted anti backlash ball-nut model RM1605-C7 with 5 mm lead and \\nNema 34 stepper motors with 4.6 Nm holding torque were selected.',\n",
       " 'The mechanical \\ncomponents were mounted on an aluminium profile structure.',\n",
       " 'The motors of both \\nactuators were controlled from a Labview interface, which was also responsible for the \\ndata collection.',\n",
       " 'The rig was instrumented with a series of sensors for control and monitoring purposes.',\n",
       " 'Position was measured with a Vishay REC 115L linear potentiometer.',\n",
       " 'Current from \\nthe drive is measured by a Honeywell CSLA2CD Hall effect sensor.',\n",
       " 'The load between \\nboth actuators was measured using a Tedea Huntleigh, S beam type model 614 load \\ncell.',\n",
       " 'Load measurements were used only for controlling the load provided by the \\nsecond actuator, but never for monitoring purposes.',\n",
       " 'All the data was acquired at 25 \\nHz.',\n",
       " '']"
      ]
     },
     "execution_count": 6,
     "metadata": {},
     "output_type": "execute_result"
    }
   ],
   "source": [
    "split_sents = split_sentences(documents[0].text)\n",
    "split_sents"
   ]
  },
  {
   "cell_type": "code",
   "execution_count": 7,
   "metadata": {},
   "outputs": [
    {
     "data": {
      "text/plain": [
       "['Data set for \"Data-based Detection and Diagnosis of Faults \\nin Linear Actuators\" \\n \\n1. Introduction \\nThe dataset presented here was acquired for the study of degradation in linear \\nactuators, particularly electro-mechanical actuators (EMA).',\n",
       " 'Data set for \"Data-based Detection and Diagnosis of Faults \\nin Linear Actuators\" \\n \\n1. Introduction \\nThe dataset presented here was acquired for the study of degradation in linear \\nactuators, particularly electro-mechanical actuators (EMA). The data was acquired \\nfrom an instrumented rig (described in section 2) where a ball-screw actuator moved \\nleft to right following a defined motion profile with a level of load selected by the user.',\n",
       " 'Introduction \\nThe dataset presented here was acquired for the study of degradation in linear \\nactuators, particularly electro-mechanical actuators (EMA). The data was acquired \\nfrom an instrumented rig (described in section 2) where a ball-screw actuator moved \\nleft to right following a defined motion profile with a level of load selected by the user. Nut position and motor current measurements were acquired during the tests.',\n",
       " 'The data was acquired \\nfrom an instrumented rig (described in section 2) where a ball-screw actuator moved \\nleft to right following a defined motion profile with a level of load selected by the user. Nut position and motor current measurements were acquired during the tests. Initially the rig was tested in normal conditions (absence of faults) under different \\nmotion and loading scenarios.',\n",
       " 'Nut position and motor current measurements were acquired during the tests. Initially the rig was tested in normal conditions (absence of faults) under different \\nmotion and loading scenarios. Subsequently different mechanical faults, including lack \\nof lubrication, spalling and backlash, were seeded in the system.',\n",
       " 'Initially the rig was tested in normal conditions (absence of faults) under different \\nmotion and loading scenarios. Subsequently different mechanical faults, including lack \\nof lubrication, spalling and backlash, were seeded in the system. Position and motor \\ncurrent data were acquired under these conditions to study monitoring methods to \\ndetect faults and degradation in this particular type of systems.',\n",
       " 'Subsequently different mechanical faults, including lack \\nof lubrication, spalling and backlash, were seeded in the system. Position and motor \\ncurrent data were acquired under these conditions to study monitoring methods to \\ndetect faults and degradation in this particular type of systems. This document describes in detail the data files available in the repository.',\n",
       " 'Position and motor \\ncurrent data were acquired under these conditions to study monitoring methods to \\ndetect faults and degradation in this particular type of systems. This document describes in detail the data files available in the repository. Section 2 \\nshows the experimental set up.',\n",
       " 'This document describes in detail the data files available in the repository. Section 2 \\nshows the experimental set up. Section three describes the different cases studied \\nand finally the data structure is explained in section 4.',\n",
       " 'Section 2 \\nshows the experimental set up. Section three describes the different cases studied \\nand finally the data structure is explained in section 4. 2.',\n",
       " 'Section three describes the different cases studied \\nand finally the data structure is explained in section 4. 2. Experimental set up \\nA ball-screw mechanism where threaded shaft provides a helical raceway for ball \\nbearings housed inside a nut was selected for this study.',\n",
       " '2. Experimental set up \\nA ball-screw mechanism where threaded shaft provides a helical raceway for ball \\nbearings housed inside a nut was selected for this study. This arrangement allows the \\ntransformation of shaft rotation into nut linear displacement with little friction and high \\nprecision.',\n",
       " 'Experimental set up \\nA ball-screw mechanism where threaded shaft provides a helical raceway for ball \\nbearings housed inside a nut was selected for this study. This arrangement allows the \\ntransformation of shaft rotation into nut linear displacement with little friction and high \\nprecision. In order to simulate varying loading scenarios that represent realistic \\noperating conditions, a second actuator was used.',\n",
       " 'This arrangement allows the \\ntransformation of shaft rotation into nut linear displacement with little friction and high \\nprecision. In order to simulate varying loading scenarios that represent realistic \\noperating conditions, a second actuator was used. Both actuators were connected \\nthrough a load cell, and the load measurements provided were fed back to the \\ncontroller of the second actuator.',\n",
       " 'In order to simulate varying loading scenarios that represent realistic \\noperating conditions, a second actuator was used. Both actuators were connected \\nthrough a load cell, and the load measurements provided were fed back to the \\ncontroller of the second actuator. Using this configuration it is possible to send a load \\nset point command to the second actuator and take control of the external load in the \\nactuator being tested.',\n",
       " 'Both actuators were connected \\nthrough a load cell, and the load measurements provided were fed back to the \\ncontroller of the second actuator. Using this configuration it is possible to send a load \\nset point command to the second actuator and take control of the external load in the \\nactuator being tested. Ball-screws with fitted anti backlash ball-nut model RM1605-C7 with 5 mm lead and \\nNema 34 stepper motors with 4.6 Nm holding torque were selected.',\n",
       " 'Using this configuration it is possible to send a load \\nset point command to the second actuator and take control of the external load in the \\nactuator being tested. Ball-screws with fitted anti backlash ball-nut model RM1605-C7 with 5 mm lead and \\nNema 34 stepper motors with 4.6 Nm holding torque were selected. The mechanical \\ncomponents were mounted on an aluminium profile structure.',\n",
       " 'Ball-screws with fitted anti backlash ball-nut model RM1605-C7 with 5 mm lead and \\nNema 34 stepper motors with 4.6 Nm holding torque were selected. The mechanical \\ncomponents were mounted on an aluminium profile structure. The motors of both \\nactuators were controlled from a Labview interface, which was also responsible for the \\ndata collection.',\n",
       " 'The mechanical \\ncomponents were mounted on an aluminium profile structure. The motors of both \\nactuators were controlled from a Labview interface, which was also responsible for the \\ndata collection. The rig was instrumented with a series of sensors for control and monitoring purposes.',\n",
       " 'The motors of both \\nactuators were controlled from a Labview interface, which was also responsible for the \\ndata collection. The rig was instrumented with a series of sensors for control and monitoring purposes. Position was measured with a Vishay REC 115L linear potentiometer.',\n",
       " 'The rig was instrumented with a series of sensors for control and monitoring purposes. Position was measured with a Vishay REC 115L linear potentiometer. Current from \\nthe drive is measured by a Honeywell CSLA2CD Hall effect sensor.',\n",
       " 'Position was measured with a Vishay REC 115L linear potentiometer. Current from \\nthe drive is measured by a Honeywell CSLA2CD Hall effect sensor. The load between \\nboth actuators was measured using a Tedea Huntleigh, S beam type model 614 load \\ncell.',\n",
       " 'Current from \\nthe drive is measured by a Honeywell CSLA2CD Hall effect sensor. The load between \\nboth actuators was measured using a Tedea Huntleigh, S beam type model 614 load \\ncell. Load measurements were used only for controlling the load provided by the \\nsecond actuator, but never for monitoring purposes.',\n",
       " 'The load between \\nboth actuators was measured using a Tedea Huntleigh, S beam type model 614 load \\ncell. Load measurements were used only for controlling the load provided by the \\nsecond actuator, but never for monitoring purposes. All the data was acquired at 25 \\nHz.',\n",
       " 'Load measurements were used only for controlling the load provided by the \\nsecond actuator, but never for monitoring purposes. All the data was acquired at 25 \\nHz. ',\n",
       " 'All the data was acquired at 25 \\nHz. ']"
      ]
     },
     "execution_count": 7,
     "metadata": {},
     "output_type": "execute_result"
    }
   ],
   "source": [
    "combin_sents = combine_sentences(split_sents)\n",
    "combin_sents"
   ]
  },
  {
   "cell_type": "code",
   "execution_count": 8,
   "metadata": {},
   "outputs": [],
   "source": [
    "sents_embeds = convert_to_vector(combin_sents)"
   ]
  },
  {
   "cell_type": "code",
   "execution_count": 9,
   "metadata": {},
   "outputs": [
    {
     "data": {
      "text/plain": [
       "array([[-0.00309117,  0.03502347, -0.00536451, ...,  0.0165641 ,\n",
       "        -0.00991769,  0.01144299],\n",
       "       [-0.00811765,  0.04285707, -0.00185588, ...,  0.01412715,\n",
       "        -0.00429985,  0.00906246],\n",
       "       [ 0.0176975 ,  0.05201214, -0.00449511, ...,  0.00461408,\n",
       "        -0.00711244,  0.01050789],\n",
       "       ...,\n",
       "       [ 0.00738776, -0.00441051, -0.01096438, ..., -0.01751174,\n",
       "         0.00287953,  0.01560942],\n",
       "       [ 0.00117725,  0.02584947, -0.02130744, ..., -0.04793172,\n",
       "         0.0143341 ,  0.00660931],\n",
       "       [-0.01273966,  0.01180369, -0.01088071, ..., -0.03689302,\n",
       "         0.02549232, -0.00630808]])"
      ]
     },
     "execution_count": 9,
     "metadata": {},
     "output_type": "execute_result"
    }
   ],
   "source": [
    "sents_embeds"
   ]
  },
  {
   "cell_type": "code",
   "execution_count": 10,
   "metadata": {},
   "outputs": [
    {
     "data": {
      "text/plain": [
       "[0.026716864892927905,\n",
       " 0.14821629423397853,\n",
       " 0.18089307165578417,\n",
       " 0.19051266927449184,\n",
       " 0.1253529485052447,\n",
       " 0.15652605524224739,\n",
       " 0.20573903629722923,\n",
       " 0.471104384471112,\n",
       " 0.20877006405146425,\n",
       " 0.3071947479063193,\n",
       " 0.21521621789448964,\n",
       " 0.0708581480183541,\n",
       " 0.20921441055286127,\n",
       " 0.23790664996055266,\n",
       " 0.1519230554874753,\n",
       " 0.08784977234786084,\n",
       " 0.18593279831802711,\n",
       " 0.26912269041108416,\n",
       " 0.13437874095530322,\n",
       " 0.23500181042796664,\n",
       " 0.1346148752007006,\n",
       " 0.13670941870560327,\n",
       " 0.19755957825105508,\n",
       " 0.16825601062916873,\n",
       " 0.36442172128142036]"
      ]
     },
     "execution_count": 10,
     "metadata": {},
     "output_type": "execute_result"
    }
   ],
   "source": [
    "sents_dists = calculate_cosine_distances(sents_embeds)\n",
    "sents_dists"
   ]
  },
  {
   "cell_type": "code",
   "execution_count": 11,
   "metadata": {},
   "outputs": [
    {
     "data": {
      "text/plain": [
       "0.23558277833448385"
      ]
     },
     "execution_count": 11,
     "metadata": {},
     "output_type": "execute_result"
    }
   ],
   "source": [
    "breakpoint_percentile_threshold = 80\n",
    "breakpoint_distance_threshold = np.percentile(sents_dists, breakpoint_percentile_threshold)\n",
    "breakpoint_distance_threshold"
   ]
  },
  {
   "cell_type": "code",
   "execution_count": 12,
   "metadata": {},
   "outputs": [
    {
     "data": {
      "text/plain": [
       "[7, 9, 13, 17, 24]"
      ]
     },
     "execution_count": 12,
     "metadata": {},
     "output_type": "execute_result"
    }
   ],
   "source": [
    "indices_above_thresh = [i for i, distance in enumerate(sents_dists) if distance > breakpoint_distance_threshold]\n",
    "indices_above_thresh"
   ]
  },
  {
   "cell_type": "code",
   "execution_count": 13,
   "metadata": {},
   "outputs": [
    {
     "data": {
      "text/plain": [
       "['Data set for \"Data-based Detection and Diagnosis of Faults \\nin Linear Actuators\" \\n \\n1. Introduction \\nThe dataset presented here was acquired for the study of degradation in linear \\nactuators, particularly electro-mechanical actuators (EMA). The data was acquired \\nfrom an instrumented rig (described in section 2) where a ball-screw actuator moved \\nleft to right following a defined motion profile with a level of load selected by the user. Nut position and motor current measurements were acquired during the tests. Initially the rig was tested in normal conditions (absence of faults) under different \\nmotion and loading scenarios. Subsequently different mechanical faults, including lack \\nof lubrication, spalling and backlash, were seeded in the system. Position and motor \\ncurrent data were acquired under these conditions to study monitoring methods to \\ndetect faults and degradation in this particular type of systems. This document describes in detail the data files available in the repository.',\n",
       " 'Section 2 \\nshows the experimental set up. Section three describes the different cases studied \\nand finally the data structure is explained in section 4.',\n",
       " '2. Experimental set up \\nA ball-screw mechanism where threaded shaft provides a helical raceway for ball \\nbearings housed inside a nut was selected for this study. This arrangement allows the \\ntransformation of shaft rotation into nut linear displacement with little friction and high \\nprecision. In order to simulate varying loading scenarios that represent realistic \\noperating conditions, a second actuator was used.',\n",
       " 'Both actuators were connected \\nthrough a load cell, and the load measurements provided were fed back to the \\ncontroller of the second actuator. Using this configuration it is possible to send a load \\nset point command to the second actuator and take control of the external load in the \\nactuator being tested. Ball-screws with fitted anti backlash ball-nut model RM1605-C7 with 5 mm lead and \\nNema 34 stepper motors with 4.6 Nm holding torque were selected. The mechanical \\ncomponents were mounted on an aluminium profile structure.',\n",
       " 'The motors of both \\nactuators were controlled from a Labview interface, which was also responsible for the \\ndata collection. The rig was instrumented with a series of sensors for control and monitoring purposes. Position was measured with a Vishay REC 115L linear potentiometer. Current from \\nthe drive is measured by a Honeywell CSLA2CD Hall effect sensor. The load between \\nboth actuators was measured using a Tedea Huntleigh, S beam type model 614 load \\ncell. Load measurements were used only for controlling the load provided by the \\nsecond actuator, but never for monitoring purposes. All the data was acquired at 25 \\nHz.',\n",
       " '']"
      ]
     },
     "execution_count": 13,
     "metadata": {},
     "output_type": "execute_result"
    }
   ],
   "source": [
    "chunks = []\n",
    "start_index = 0\n",
    "# Loop through the identified breakpoints and create chunks accordingly.\n",
    "for index in indices_above_thresh:\n",
    "    chunk = ' '.join(split_sents[start_index:index+1])\n",
    "    chunks.append(chunk)\n",
    "    start_index = index + 1\n",
    "\n",
    "# If there are any sentences left after the last breakpoint, add them as the final chunk.\n",
    "if start_index < len(split_sents):\n",
    "    chunk = ' '.join(split_sents[start_index:])\n",
    "    chunks.append(chunk)\n",
    "\n",
    "chunks"
   ]
  },
  {
   "cell_type": "code",
   "execution_count": 14,
   "metadata": {},
   "outputs": [],
   "source": [
    "CONFIG_DIR = '../config'\n",
    "cfg = json.load(open(os.path.join(CONFIG_DIR,\"configs.json\")))"
   ]
  },
  {
   "cell_type": "code",
   "execution_count": 15,
   "metadata": {},
   "outputs": [],
   "source": [
    "def get_embedding(texts):\n",
    "\n",
    "    # Try to generate embeddings for a list of texts using a pre-trained model and handle any exceptions.\n",
    "    try:\n",
    "        response = openai.embeddings.create(\n",
    "            input=texts,\n",
    "            model=cfg['embedding_model']\n",
    "        )\n",
    "        embeddings = np.array([item.embedding for item in response.data])\n",
    "        return embeddings\n",
    "    except Exception as e:\n",
    "        print(\"An error occurred:\", e)\n",
    "        return np.array([])  # Return an empty array in case of an error"
   ]
  },
  {
   "cell_type": "code",
   "execution_count": 16,
   "metadata": {},
   "outputs": [],
   "source": [
    "class SemanticChunker:\n",
    "    \"\"\"Build the semantic chunker for text splitting \"\"\"\n",
    "        \n",
    "    def split_text(self, text: str) -> List[str]:\n",
    "        \"\"\"Split the given text based on the semantic structure of the text\n",
    "        \n",
    "        Args:\n",
    "            text (str): The text to be split\n",
    "\n",
    "        Returns:\n",
    "            list[str]: The list of chunks\n",
    "        \"\"\"\n",
    "        \n",
    "        split_sents = self._split_sentences(text)\n",
    "        combin_sents = self._combine_sentences(split_sents)\n",
    "        sents_embeds = get_embedding(combin_sents)\n",
    "        sents_dists = self._calculate_cosine_similarity(sents_embeds)\n",
    "        \n",
    "        breakpoint_percentile_threshold = 80\n",
    "        breakpoint_distance_threshold = np.percentile(sents_dists, breakpoint_percentile_threshold)\n",
    "        \n",
    "        indices_above_thresh = [i for i, distance in enumerate(sents_dists) if distance > breakpoint_distance_threshold]\n",
    "        \n",
    "        chunks = []\n",
    "        start_index = 0\n",
    "        for index in indices_above_thresh:\n",
    "            chunk = ' '.join(split_sents[start_index:index+1])\n",
    "            chunks.append(chunk)\n",
    "            start_index = index + 1\n",
    "        \n",
    "        if start_index < len(split_sents):\n",
    "            chunk = ' '.join(split_sents[start_index:])\n",
    "            chunks.append(chunk)\n",
    "        \n",
    "        return chunks\n",
    "\n",
    "    def _split_sentences(self, text: str) -> List[str]:\n",
    "        \"\"\"Split the given text into sentences based on punctuation followed by whitespace.\n",
    "        \n",
    "        Args:\n",
    "            text (str): The text to be split into sentences\n",
    "\n",
    "        Returns:\n",
    "            list[str]: The list of sentences\n",
    "        \"\"\"\n",
    "        \n",
    "        return  re.split(r'(?<=[.?!])\\s+', text)\n",
    "\n",
    "    def _combine_sentences(self, sentences: List[str]) -> List[str]:\n",
    "        \"\"\" Create a buffer by combining each sentence with its previous and next sentence to provide a wider context. \n",
    "        For example, combine sentences 1,2,3 and 2,3,4 before computing the cosine simiality.\n",
    "        \n",
    "        Args:\n",
    "            sentences (list[str]): The list of sentences to be combined\n",
    "            \n",
    "        Returns:\n",
    "            list[str]: The list of combined sentences\n",
    "        \"\"\"\n",
    "        \n",
    "        combined_sentences = []\n",
    "        for i in range(len(sentences)):\n",
    "            combined_sentence = sentences[i]\n",
    "            if i > 0:\n",
    "                combined_sentence = sentences[i-1] + ' ' + combined_sentence\n",
    "            if i < len(sentences) - 1:\n",
    "                combined_sentence += ' ' + sentences[i+1]\n",
    "            combined_sentences.append(combined_sentence)\n",
    "        return combined_sentences\n",
    "\n",
    "    def _calculate_cosine_similarity(self, embeddings: np.ndarray) -> List[float]:\n",
    "        \"\"\" Calculate the cosine distance (1 - cosine similarity) between consecutive embeddings.\n",
    "        \n",
    "        Args:\n",
    "            embeddings (np.ndarray): The embeddings to be compared\n",
    "            \n",
    "        Returns:\n",
    "            list[float]: The list of cosine distances\n",
    "        \"\"\"\n",
    "        \n",
    "        distances = []\n",
    "        for i in range(len(embeddings) - 1):\n",
    "            similarity = cosine_similarity([embeddings[i]], [embeddings[i + 1]])[0][0]\n",
    "            distance = 1 - similarity\n",
    "            distances.append(distance)\n",
    "        return distances"
   ]
  },
  {
   "cell_type": "code",
   "execution_count": 17,
   "metadata": {},
   "outputs": [],
   "source": [
    "semantic_chunker = SemanticChunker()"
   ]
  },
  {
   "cell_type": "code",
   "execution_count": 18,
   "metadata": {},
   "outputs": [
    {
     "data": {
      "application/vnd.jupyter.widget-view+json": {
       "model_id": "d92ee98fd1524abd9f770ee01fe4f834",
       "version_major": 2,
       "version_minor": 0
      },
      "text/plain": [
       "0it [00:00, ?it/s]"
      ]
     },
     "metadata": {},
     "output_type": "display_data"
    }
   ],
   "source": [
    "text_chunks = []\n",
    "doc_idxs = []\n",
    "for doc_idx, doc in tqdm(enumerate(documents)):\n",
    "    cur_text_chunk = semantic_chunker.split_text(doc.text)\n",
    "    text_chunks.extend(cur_text_chunk)\n",
    "    doc_idxs.extend([doc_idx] * len(cur_text_chunk))"
   ]
  },
  {
   "cell_type": "code",
   "execution_count": 19,
   "metadata": {},
   "outputs": [
    {
     "data": {
      "text/plain": [
       "['Data set for \"Data-based Detection and Diagnosis of Faults \\nin Linear Actuators\" \\n \\n1. Introduction \\nThe dataset presented here was acquired for the study of degradation in linear \\nactuators, particularly electro-mechanical actuators (EMA). The data was acquired \\nfrom an instrumented rig (described in section 2) where a ball-screw actuator moved \\nleft to right following a defined motion profile with a level of load selected by the user. Nut position and motor current measurements were acquired during the tests. Initially the rig was tested in normal conditions (absence of faults) under different \\nmotion and loading scenarios. Subsequently different mechanical faults, including lack \\nof lubrication, spalling and backlash, were seeded in the system. Position and motor \\ncurrent data were acquired under these conditions to study monitoring methods to \\ndetect faults and degradation in this particular type of systems. This document describes in detail the data files available in the repository.',\n",
       " 'Section 2 \\nshows the experimental set up. Section three describes the different cases studied \\nand finally the data structure is explained in section 4.',\n",
       " '2. Experimental set up \\nA ball-screw mechanism where threaded shaft provides a helical raceway for ball \\nbearings housed inside a nut was selected for this study. This arrangement allows the \\ntransformation of shaft rotation into nut linear displacement with little friction and high \\nprecision. In order to simulate varying loading scenarios that represent realistic \\noperating conditions, a second actuator was used.',\n",
       " 'Both actuators were connected \\nthrough a load cell, and the load measurements provided were fed back to the \\ncontroller of the second actuator. Using this configuration it is possible to send a load \\nset point command to the second actuator and take control of the external load in the \\nactuator being tested. Ball-screws with fitted anti backlash ball-nut model RM1605-C7 with 5 mm lead and \\nNema 34 stepper motors with 4.6 Nm holding torque were selected. The mechanical \\ncomponents were mounted on an aluminium profile structure.',\n",
       " 'The motors of both \\nactuators were controlled from a Labview interface, which was also responsible for the \\ndata collection. The rig was instrumented with a series of sensors for control and monitoring purposes. Position was measured with a Vishay REC 115L linear potentiometer. Current from \\nthe drive is measured by a Honeywell CSLA2CD Hall effect sensor. The load between \\nboth actuators was measured using a Tedea Huntleigh, S beam type model 614 load \\ncell. Load measurements were used only for controlling the load provided by the \\nsecond actuator, but never for monitoring purposes. All the data was acquired at 25 \\nHz.',\n",
       " 'Data set for \"Data-based Detection and Diagnosis of Faults in Linear Actuators\" \\nC. Ruiz-Carcel and A. Starr \\nTrough-Life Engineering Services Institute, Cranfield University \\n \\n2 \\n \\nThis rig design is capable of producing a displacement of 120 mm with a maximum \\nexternal load of 40 kgf in both directions. The approximate dimensions of the complete \\nrig are 75cm long, 35 cm wide and 25 cm high.',\n",
       " 'Fig.',\n",
       " '1 shows a CAD model of the test \\nrig where some parts of the structure have been removed for more clarity. The nut of \\nthe actuator being tested is connected through a machined aluminium block to two \\nlinear bearings mounted on rails to avoid rotation of the nut. Pictures of the assembled \\ntest rig can be seen in Fig.',\n",
       " '2. Fig. 1: 3D model of the test-rig \\n \\n \\nFig. 2: Lateral view of the rig \\n \\n \\n3. Cases studied \\nInitially the rig was run under normal operating conditions (absence of faults) in order \\nto collect a significant amount of data that can represent the behaviour of the system \\nunder different loading conditions and motion profiles. Two motion profiles were \\ntested. The first was a trapezoidal motion profile (constant speed set point) where the \\nTest actuator \\nLoad actuator \\nLinear guides \\nLoad cell \\nLinear potentiometer \\n',\n",
       " 'Data set for \"Data-based Detection and Diagnosis of Faults in Linear Actuators\" \\nC. Ruiz-Carcel and A.',\n",
       " 'Starr \\nTrough-Life Engineering Services Institute, Cranfield University \\n \\n3 \\n \\n120 mm stroke was completed in 5 s with 3 s waiting at both ends of the movement. The second was a sinusoidal motion profile (smooth speed transition) with 120mm \\nstroke completed in 6 s with 2s waiting at both ends.',\n",
       " 'These two motion profiles were \\ntested for normal and faulty conditions under three different loading scenarios: 20 kgf, \\n40 kgf and -40 kgf. The full motion sequence was repeated 5 times in each test, and \\neach test was repeated 10 times in order to generate a dataset with a significant \\namount of observation in each case studied. In every test, before the data collection \\nstarted, the rig was run for about 30 mins until a steady temperature was reached in \\nthe motors and the nut. Additionally, three different mechanical faults were introduced in various parts of the \\nsystem. Tests were run on the faulty system using the same motion profiles and \\nloading conditions used under normal operation. The faults introduced were selected \\nto be representative of critical failure modes of this type of machine. The faults tested \\nwere: \\n\\uf0b7 lack of lubrication: simulated by removing gradually the screw lubricant and \\ntightening the nut seals (Fig. 3); \\n\\uf0b7 spalling: simulated by artificially inducing surface defects of different sizes in \\nthe screw and balls (Fig. 4) \\n\\uf0b7 backlash: simulated by replacing the original balls with balls of smaller \\ndiameter (Fig. 5).',\n",
       " 'Seeded faults were introduced because there was insufficient test time to run the ball \\nscrews naturally to failure. The faults were introduced gradually in order to observe \\nhow the severity of the faults affect the measured signals. In the case of lack of lubrication, in the first stage the lubricant was removed with \\ndegreaser. No dramatic changes were observed in the signals, mainly due to the \\ninherent low friction of the ball-screw architecture. In order to increase the severity of \\nthe fault, the bolts holding the plastic seal at both ends of the nut containing the balls \\nwere tightened, to create more friction (see Fig. 3).',\n",
       " 'Fig. 3: Bolt holding seal in ballnut \\n \\nThe spalling defect was started as a 1 mm diameter surface defect on the rolling \\nsurface of the screw (see Fig. 4)).',\n",
       " 'In the following 2nd, 3rd and 4th stages the size of \\nthe defect was gradually increased to 2, 3 and 4 mm in diameter, affecting not only the \\nbottom of the channel but also one of the sides. In stage 5 the 4 mm defect was \\n \\n',\n",
       " 'Data set for \"Data-based Detection and Diagnosis of Faults in Linear Actuators\" \\nC. Ruiz-Carcel and A.',\n",
       " 'Starr \\nTrough-Life Engineering Services Institute, Cranfield University \\n \\n4 \\n \\nreplicated in a neighbour channel, and in stage 6 the size of both defects was \\nincreased affecting the sidewall between them. In stage 7 another 4 mm defect was \\nseeded on the other neighbour channel of the original defect. Finally in stage 8 part of \\nthe sidewall between two of the defects was partially removed (see (see Fig. 4)).',\n",
       " 'Fig. 4: 8 stages of the spalling defect \\nBacklash or excess of play was simulated replacing the original 3.15 mm diameter \\nballs by 3 mm and 2.5 mm diameter balls (see Fig. 5).',\n",
       " 'Fig. 5: Balls for simulation of backlash \\n \\nFig. 6 shows an example of the data acquired under normal and faulty conditions for \\na trapezoidal motion profile. The top graph a) shows the position set point, b) shows \\nthe position error (difference between position set point and actual position \\nmeasurement) and current measurements are shown in c). a\\n) \\n0\\n2\\n4\\n6\\n8\\n10\\n12\\n14\\n16\\n0\\n50\\n100\\n150\\nTime (s)\\nPosition (mm)\\nØ 3.15mm \\nØ 3mm \\nØ 2.5mm \\n1 \\n2 \\n3 \\n4 \\n5 \\n6 \\n7 \\n8 \\n1 \\n2 \\n3 \\n4 \\n5 \\n6 \\n7 \\n8 \\n',\n",
       " 'Data set for \"Data-based Detection and Diagnosis of Faults in Linear Actuators\" \\nC. Ruiz-Carcel and A.',\n",
       " 'Starr \\nTrough-Life Engineering Services Institute, Cranfield University \\n \\n5 \\n \\n \\nb\\n) \\n \\nc) \\nFig. 6: Example of data acquired, a) position set point, b) position error, c) current \\n \\n4.',\n",
       " 'Data structure \\nThe data acquired was stored using the Matlab .mat file format. In this case study \\nthere are 13 .mat filed corresponding to normal operation and the different degradation \\nstages of the faults tested: \\n \\n \\nNormal. Mat corresponds to the data acquired under normal operation. Backlash1.mat \\nand Backlash2.mat correspond to the first and second stages of backlash tested. Similarly LackLubrication1.mat and LackLubrication2.mat correspond to the first and \\n0\\n2\\n4\\n6\\n8\\n10\\n12\\n14\\n16\\n0\\n0.5\\n1\\n1.5\\nTime (s)\\nCurrent (A)\\n \\n \\nNormal\\nPoint defect\\nLubrication\\nBacklash\\n0\\n2\\n4\\n6\\n8\\n10\\n12\\n14\\n16\\n-10\\n-5\\n0\\n5\\n10\\nTime (s)\\nPosition error (mm)\\n \\n \\nNormal\\nPoint defect\\nLubrication\\nBacklash\\nFig. 7: List of files included \\n',\n",
       " 'Data set for \"Data-based Detection and Diagnosis of Faults in Linear Actuators\" \\nC. Ruiz-Carcel and A.',\n",
       " 'Starr \\nTrough-Life Engineering Services Institute, Cranfield University \\n \\n6 \\n \\nsecond stages of lack of lubrication. The remaining 8 files named as SpallingX.mat \\nrefer to the corresponding stage of spalling tested.',\n",
       " 'Each file contains 60 matrices, corresponding all the possible combinations between \\nthe 2 motion profiles and 3 loading conditions repeated 10 times. The naming system \\nof each matrix provides information about the motion profile, load and test repetition \\nnumber: \\n \\n \\n \\n \\n \\n \\n \\n \\n \\n \\n \\n \\n \\n \\n \\n \\n \\n \\n \\n \\n \\n \\n \\n \\n \\n \\nFinally each matrix contains 3 columns, corresponding to the measurements of \\nposition set point (for reference), the position error achieved by the controller and the \\ncurrent fed to the motor respectively. The rows correspond to the different \\nobservations of these three parameters acquired at 0.04 s intervals. Test ID (lack \\nof lubrication) \\nMotion profile \\ntype \\n(trapezoidal) \\nDegradation \\nstage (first) \\nLoad (20kg) \\nTest repetition \\nnumber (1) \\nTest ID (lack \\nof lubrication) \\nMotion profile \\ntype \\n(sinusoidal) \\nDegradation \\nstage (first) \\nLoad (-40kg) \\nTest repetition \\nnumber (8) \\nFig. 8: Matrix naming \\n',\n",
       " 'IEEE TRANSACTIONS ON INSTRUMENTATION AND MEASUREMENT, VOL.',\n",
       " '67, NO. 9, SEPTEMBER 2018\\n2035\\nData-Based Detection and Diagnosis of Faults\\nin Linear Actuators\\nCristobal Ruiz-Carcel\\nand Andrew Starr\\nAbstract—Modern industrial facilities, as well as vehicles and\\nmany other assets, are becoming highly automated and instru-\\nmented. As a consequence, actuators are required to perform a\\nwide variety of tasks, often for linear motion. However, the use\\nof tools to monitor the condition of linear actuators is not widely\\nextended in industrial applications. This paper presents a data-\\nbased method to monitor linear electro-mechanical actuators. The proposed algorithm makes use of features extracted from\\nelectric current and position measurements, typically available\\nfrom the controller, to detect and diagnose mechanical faults. The\\nfeatures are selected to characterize the system dynamics during\\ntransient and steady-state operation and are then combined\\nto produce a condition indicator. The main advantage of this\\napproach is the independence from a need for a physical\\nmodel or additional sensors. The capabilities of the method\\nare assessed using a novel experimental linear actuator test rig\\nspecially designed to recreate fault scenarios under different\\noperating conditions. Index\\nTerms—Diagnosis,\\nelectro-mechanical\\nactuators\\n(EMAs), fault detection, linear actuator, multivariate analysis. I. INTRODUCTION\\nL\\nINEAR machines are all around us, covering a wide\\nrange of applications such as aircraft undercarriage and\\ncontrol surfaces, automatic doors, railway track point and level\\ncrossing actuators, robot arms, CNC machine tools, and many\\nmore. A failure in these actuators can be critical for the safety,\\nperformance, and availability of the system in which they are\\nintegrated.',\n",
       " 'In some cases, such as the operation of control\\nsurfaces in aircrafts, a fault in an actuator can also compromise\\nthe safety of passengers and crew. That was the case of the\\nAlaska Airlines 261 ﬂight accident in 2000, where an excess\\nof wear in the jackscrew actuator that controls the horizontal\\nstabilizer of the plane caused the crash of the aircraft, and\\nthe death of 88 people [1]. This clearly demonstrates the\\nimportance of monitoring the health of linear actuators.',\n",
       " 'Many different types of linear actuators are available com-\\nmercially. Historically, mechanical arrangements such as cam-\\nfollower or crank-rod mechanisms have been used to produce\\na repetitive and accurate linear motion proﬁle. Hydraulic\\nand pneumatic actuators have also been extensively used\\nManuscript received August 1, 2017; revised January 9, 2018; accepted\\nFebruary 12, 2018. Date of publication March 27, 2018; date of current version\\nAugust 9, 2018.',\n",
       " 'The Associate Editor coordinating the review process was\\nDr.',\n",
       " 'Massimo Lazzaroni. (Corresponding author: Cristobal Ruiz-Carcel.)\\nThe\\nauthors\\nare\\nwith\\nthe\\nThrough-life\\nEngineering\\nServices\\nInstitute,\\nCranﬁeld\\nUniversity,\\nCranﬁeld\\nMK43\\n0AL,\\nU.K. (e-mail:\\nc.ruizcarcel@cranﬁeld.ac.uk).',\n",
       " 'Color versions of one or more of the ﬁgures in this paper are available\\nonline at http://ieeexplore.ieee.org. Digital Object Identiﬁer 10.1109/TIM.2018.2814067\\nfor applications that require the user to control the motion\\nand/or produce high forces. More recently, electro-mechanical\\nactuators (EMAs) based on the combination of an electric\\nmotor and a screw, belt and pulley, or rack and pinion\\nmechanisms have gained popularity due to their automation\\nand control capabilities, in addition to other beneﬁts such\\nas simplicity or weight reduction. The failure modes and\\ndegradation in this type of devices have not been studied in\\ndepth yet, but a comprehensive list of typical failure modes and\\na criticality analysis for ball-screw mechanisms was provided\\nin [2]. Structural failures such as excess of wear, cracking,\\nbacklash, or spalling; malfunctions such as ball return channel\\njamming or seizure; and lubricant-related faults such as run-\\ndry or contamination are amongst the most severe and common\\nmechanical faults in this type of mechanism. Despite the increasing utilization of linear actuators and the\\ncritical role played in some of their applications, the presence\\nof condition monitoring tools for these devices is quite limited\\nin industrial applications and academic research. This fact can\\nbe attributed to several different causes as follows. 1) The use of condition monitoring tools is typically limited\\nto high-value assets. 2) There are a large number of different typologies of linear\\nactuators, leading to the need for speciﬁc tools for each\\ntype. 3) The different assemblies use components of different\\nnature and often require specialist knowledge about\\nmechanical, electrical, and control interfaces, creating\\nchallenges to assemble the skill set. 4) Complex dynamics including nonlinearities, changing\\noperational conditions, dominance of friction phenom-\\nena, and nonstationary operation create a challenging\\nstarting point for the design of monitoring tools. The presence of sensors in linear actuators is typically\\nlimited to system control purposes, which is also a constraint\\nfor the implementation of condition monitoring strategies. Despite all these difﬁculties, some research work has been\\ndone recently in industry and academia, particularly for linear\\nEMAs. The potential application of EMAs in the more and\\nall electric aircraft for operation of control surfaces and the\\nlanding gear [3], and the monitoring systems required, are\\nprobably the main research topics [4]. For this application,\\nas the actuator is installed in an aircraft, the reliability of\\nany new system needs to be auditable and related to known\\ndata [5], and be at least as good as conventional hydraulic\\nsystems. In particular, the ball-screw actuator is the most\\npopular mechanism studied. It has been tested in several\\n0018-9456 © 2018 IEEE.',\n",
       " 'Personal use is permitted, but republication/redistribution requires IEEE permission.',\n",
       " 'See http://www.ieee.org/publications_standards/publications/rights/index.html for more information. Authorized licensed use limited to: Cranfield University. Downloaded on July 10,2024 at 10:39:32 UTC from IEEE Xplore.',\n",
       " 'Restrictions apply.',\n",
       " '2036\\nIEEE TRANSACTIONS ON INSTRUMENTATION AND MEASUREMENT, VOL.',\n",
       " '67, NO. 9, SEPTEMBER 2018\\nsimulation and experimental studies, including its installation\\nin a real aircraft for comparison with traditional hydraulic\\nactuators [6]. The monitoring approaches developed in the\\npast normally relied on mathematical models of the actu-\\nator [7]–[15] based on ﬁrst principles. Despite the success\\nof these approaches, the need of unique models limits its\\napplication to a speciﬁc machine and requires a specialist\\nmodeler. Other approaches used the measurements of signals\\nthat normally are not available in industrial applications such\\nas temperature or vibration [16]–[18], requiring the installation\\nof additional sensors and wiring. This paper presents a monitoring technique that can be\\napplied to different types of EMA, making use of signals avail-\\nable from the controller or the motor drive to detect mechanical\\nfaults. Electric fault in motors is a widely studied subject [19]\\nand it is not covered here. This research explores a monitoring\\nmethod based on the automated extraction and the analysis\\nof signal features such as steady value, overshoot, settling\\ntime, or presence of unexpected peaks.',\n",
       " 'These features char-\\nacterize the dynamic behavior of the system.',\n",
       " 'Consequently,\\nany signiﬁcant change in the condition of the system will\\nhave an effect over these signal features. Principal component\\nanalysis (PCA) is used to reduce the dimensionality of the\\nextracted feature set and detect any deviations from normal\\nbehavior. The independence from a need for a physical model,\\nthe low computation time, and the use of current and position\\nmeasurements exclusively are the main advantages of this\\napproach.',\n",
       " 'The capabilities of the proposed method are tested and\\nassessed using experimental data. A special ball-screw test\\nrig was designed to recreate fault scenarios under different\\noperating conditions, such as different motion proﬁles, varying\\nspeeds, or different loadings. This rig is also capable of a\\nrack and pinion arrangement, not further considered here. During the experiments, different motion proﬁles and loading\\nconditions were tested to evaluate the performance of the\\nmonitoring algorithm under various operating conditions. The\\nraw data used in this investigation is available to download\\nat [20].',\n",
       " 'II. METHODOLOGY\\nMechanical faults such as those mentioned in Section I\\nmay affect the operation of the mechanism and degrade its\\nperformance. If this degradation is considerable, it may have\\nan impact on the actuator behavior which potentially can be\\nobserved in variables measured such as the current being\\nfed to the motor or the motion proﬁle. Nevertheless, for this\\nparticular application the mechanism motion is not stationary,\\nas it accelerates and decelerates in every movement repetition\\nfrom one position to another. Additionally, different motion\\nproﬁles and different loading conditions may produce different\\nmeasured values even in the absence of faults, which compli-\\ncates the monitoring task. However, there are certain features\\nin those signals that are deﬁned by the dynamic behavior of the\\nsystem and the controller, such as steady values during steady-\\nstate operation, overshoots and subsequent oscillations after a\\nchange in the position set point, and so on. A change in these\\nFig.',\n",
       " '1.',\n",
       " 'Position measurements. features may be indicative of changes in the system behavior,\\nwhich can be related to faults or malfunctions. An initial\\nstudy of the main features observed in current and position\\nmeasurements measured in EMA based on computational\\nsimulations was presented in [21]. The monitoring approach presented in this paper is based on\\nthe analysis of the correlation between different characteristic\\nfeatures extracted from current and position measurements\\nusing PCA. The objective of that analysis is to deﬁne the\\nnormal dynamic behavior of the system by analyzing key\\nsignal features under different operating conditions in the\\nabsence of faults, and then look for deviations from that\\nnormal behavior in order to detect and diagnose faults. The\\napplication of this approach consists of two major steps: ﬁrst,\\nthe extraction of key features from the signals that deﬁne the\\ndynamic behavior of the system, and second, the correlation\\nanalysis using PCA. A.',\n",
       " 'Feature Extraction\\nFig. 1 shows an example of ideal (noise free) position\\nmeasurements for a “trapezoidal motion proﬁle” moving at\\na constant speed to a stroke of 50 mm, before returning\\nto its starting point. The set point illustrated is very close\\nto the actual position. A zoomed-in version of the position\\nerror, calculated as the difference between the actual position\\nmeasurement and the desired set point, is represented in\\ngreen. This ﬁgure shows that the actuator is able to follow\\naccurately the desired motion proﬁle. However, the zoomed-\\nin position error signal reveals some interesting features in\\neach of the motion sections. A steady value (feature a) close\\nto zero is achieved during the major part of the movement. This movement starts with an overshoot (feature b) and some\\noscillations in the signal during the settling time (feature c)\\nbefore the steady value is reached. In addition, unexpected\\npeaks (feature d) may also be visible in the steady region due\\nto noise, external disturbances, or malfunctions in the system. Finally, the standard deviation (Std) during the steady region\\n(feature e) can also be extracted. These features have been\\nhighlighted in Fig. 1 only for the second stage of the movement\\n(retraction), but the same features were also extracted also for\\nthe ﬁrst movement (extension). The characteristics of the current signal (Fig. 2) are very\\nsimilar to the position error, and the same features can be\\nAuthorized licensed use limited to: Cranfield University. Downloaded on July 10,2024 at 10:39:32 UTC from IEEE Xplore.',\n",
       " 'Restrictions apply.',\n",
       " 'RUIZ-CARCEL AND STARR: DATA-BASED DETECTION AND DIAGNOSIS OF FAULTS IN LINEAR ACTUATORS\\n2037\\nFig. 2.',\n",
       " 'Current measurements. extracted from the extension and retraction movement sections. Features a, b, and c are characteristics of any underdamped\\nsecond-order system and are easy to them for each movement\\n(extension and retraction) and use extract to monitor the\\ncondition of the system. The amplitude of unexpected peaks in\\nthe steady region (feature d) may also be indicative of faults\\nlocated at a particular point in one of the contact surfaces. These features have been carefully selected to capture the\\ndynamic behavior of the system as well as to increase the\\nsensitivity of the algorithm to certain types of faults. In this\\ninvestigation, the ﬁve features described will be extracted\\nseparately for the extension and retraction movements in the\\ntwo signals analyzed, position error and current. B. Principal Component Analysis of Selected Features\\nPCA can characterize the state of a process by projecting\\nthe acquired data into a lower-dimensional space. This method\\nhas been used in many previous research works to decrease\\ndata redundancy [22] and select the most relevant features [23].',\n",
       " 'This dimensionality reduction technique preserves the correla-\\ntion between the measurements capturing the data variability\\nin an optimal way [24]. Given an n × m data set matrix X\\ncontaining n observations and m variables, it is possible to\\nobtain a set of loading vectors V by solving the eigenvalue\\ndecomposition of the covariance matrix S\\nS =\\n1\\nn −1 XT X = V \\x02V T\\n(1)\\nwhere the loading vectors V are ordered by the amount of\\nvariance expressed by the corresponding eigenvalue in the\\ndiagonal matrix \\x02. The loading vectors attached to the a\\nlargest singular values are retained in the loading matrix\\nR ∈Rm×a. This set of vectors generates a lower dimensional\\nrepresentation of the extracted features. The projection of the\\ndata into this reduced space captures systematic trends of the\\ndata, reducing the amount of random noise [24] by minimizing\\nthe negative effects of measurement inaccuracies. The score\\nmatrix W contains the projection of the observed data into\\nthe lower dimensional space, while the residual matrix E\\nrepresents the difference between the observations and the\\nprojection of W back into the m-dimensional space\\nW = X R\\n(2)\\nE = X −W RT . (3)\\nThe indicators most commonly used for the detection of\\nfaults are the Hotelling T 2 indicator (which represents major\\nvariations in the retained space) and the squared prediction\\nerror Q (representing variations in the residual space) [24]. These indicators can be computed for each observation x as\\nfollows:\\nT 2 = yT y\\n(4)\\nQ = xT (I −RRT )x\\n(5)\\nwhere I is the identity matrix and the principal components\\n(PCs) y = \\x02a 1/2W T x have been rescaled to have unit\\nvariance [24]. The upper control limits (UCL) for T 2 and Q can be\\ncalculated for a given signiﬁcance level α such that P(T 2 <\\nT 2\\nUCL(α)) = α and P(Q < QUCL(α)) = α, respectively. These control limits are estimated during the training phase\\nusing data acquired in the absence of faults. Later, in the\\nmonitoring phase, the values of T 2 and Q obtained are\\ncompared with these UCL to differentiate between normal and\\nfaulty behaviors. Usually, these control limits are calculated\\nassuming that the measurements are normally distributed.',\n",
       " 'However, this is not the case for nonlinear systems, which\\nmakes this assumption invalid. Odiowei and Cao [25] devel-\\noped a methodology to solve this issue by estimating the actual\\nprobability density function of the statistical indicators using\\nkernel density estimations (KDEs). The effectiveness of this\\napproach has also been tested using experimental data [26].The\\nprobability of a random variable x [with a probability density\\nfunction p(x)] to be smaller than a certain value s is deﬁned\\nas\\nP(x < s) =\\n\\x02 s\\n−∞\\np(x)dx\\n(6)\\nwhere p(x) can be calculated through the kernel function K\\nwith argument g\\np(x) = 1\\nnh\\nn\\n\\x03\\nk=1\\nK\\n\\x04x −xk\\nh\\n\\x05\\n(7)\\nK(g) = e\\n−g2\\n2\\n\\x06 √\\n2π\\n(8)\\nwhere h is the selected bandwidth [25] and xk is the kth sample\\nof x. By replacing xk with T 2\\nk and Qk obtained from (4)\\nand (5), respectively, it is possible to estimate the probability\\ndensity function of T 2 and Q. The respective control limits\\nfor these statistics correspond to s in (6), obtained by solving\\nP(x < s) = α. The value of the parameter α is critical for the\\ndiagnosis performance, and it is chosen by the user to balance\\nthe detection sensitivity and false alarm rate. III.',\n",
       " 'EXPERIMENTAL SETUP\\nA. Description of the Rig\\nAn instrumented test rig was designed and built to evaluate\\nthe performance of the proposed algorithm. A ball-screw\\nmechanism where threaded shaft provides a helical raceway\\nfor ball bearings housed inside a nut was selected. This\\narrangement allows the transformation of shaft rotation into\\nAuthorized licensed use limited to: Cranfield University.',\n",
       " 'Downloaded on July 10,2024 at 10:39:32 UTC from IEEE Xplore.',\n",
       " 'Restrictions apply.',\n",
       " '2038\\nIEEE TRANSACTIONS ON INSTRUMENTATION AND MEASUREMENT, VOL. 67, NO. 9, SEPTEMBER 2018\\nnut linear displacement with less friction and high preci-\\nsion. Different typical faults were seeded in this rig under\\ndifferent loading conditions in order to study how these\\nfaults affect the measurements acquired from the system and\\nhow these signals can be processed for fault detection and\\ndiagnosis. In order to simulate varying loading scenarios that represent\\nrealistic operating conditions, a second actuator was used. Both actuators were connected through a load cell, and the\\nload measurements provided were fed back to the controller\\nof the second actuator. Using this conﬁguration, it is possible\\nto send a load set point command to the second actuator and\\ntake control of the external load in the actuator being tested. However, loading measurements were not used for monitoring,\\nas in real applications they are rarely available. The proposed\\nmonitoring system must be able to cope with varying loads\\nwithout using load measurements. The test rig was designed using components available in the\\nmarket for the construction of small CNC machines such as\\nball-screw arrangements, linear guides and bearings, stepper\\nmotors, drives, and so on. Ball-screws with ﬁtted antibacklash\\nball-nut model RM1605-C7 with 5-mm lead and Nema 34\\nstepper motors with 4.6-Nm holding torque were selected. The\\nmechanical components were mounted on an aluminum proﬁle\\nstructure. The motors of both actuators were controlled from\\na LabView interface, which was also responsible for the data\\ncollection. The rig was instrumented with a series of sensors for\\ncontrol and monitoring purposes. For the fault detection to\\nbe effective, the sensors used need to be accurate enough in\\nterms of resolution, bandwidth, and repeatability to capture\\nthe features introduced in Section II-A adequately. Position\\nwas measured with a Vishay REC 115L linear potentiome-\\nter, which has a linearity error of ±0.025% and repeata-\\nbility of ±0.01%. Current from the drive is measured by\\na Honeywell CSLA2CD Hall effect sensor with a nominal\\nsensitivity of 32.7 mV per cable turn (10 turns). In addi-\\ntion, for further research, nut and motor temperatures were\\nmeasured using K-type thermocouples, and vibration in the\\nnut was measured by a Dytran 3055D2 accelerometer. The\\nload between both actuators was measured using a Tedea\\nHuntleigh, S beam-type model 614 load cell (total error\\n0.02%). Load measurements were used only for controlling\\nthe load provided by the second actuator, but never for\\nmonitoring purposes. All the data were acquired at 25 Hz,\\nexcept for vibration measurements acquired at 50 kHz. The\\nsampling rate selection was based upon a preliminary analysis\\nof the signals acquired at a much higher frequency (500 Hz),\\nwhere it was observed that the dynamic features described in\\nSection II-A are relatively slow and can be captured accurately\\nat 25 Hz. This rig design is capable of producing a displacement\\nof 120 mm with a maximum external load of 392.3 N in both\\ndirections. The approximate dimensions of the complete rig\\nare 0.75 m long, 0.35 m wide, and 0.25 m high.',\n",
       " 'Fig.',\n",
       " '3 shows\\na CAD model of the test rig where some parts of the structure\\nhave been removed for more clarity. The nut of the actuator\\nbeing tested is connected through a machined aluminum block\\nFig. 3.',\n",
       " '3-D model of the test-rig. Fig. 4. Lateral view of the rig. Fig.',\n",
       " '5. Bolt holding seal in ballnut. to two linear bearings mounted on rails to avoid rotation of the\\nnut. Pictures of the assembled test rig can be seen in Fig.',\n",
       " '4.',\n",
       " 'B. Cases Studied\\nInitially, the rig was run under normal operating conditions\\n(absence of faults) in order to collect a signiﬁcant amount\\nof data that can represent the behavior of the system under\\ndifferent loading conditions and motion proﬁles. Then different\\nfaults were introduced in different parts of the system, and the\\nsignals collected were used to assess the monitoring technique\\nand study the degradation of the actuator. The faults introduced\\nare selected to be representative of critical failure modes of\\nthis type of machine [2]. The faults tested were:\\n1) lack of lubrication, simulated by removing gradually the\\nscrew lubricant and tightening the nut seals (Fig. 5);\\nAuthorized licensed use limited to: Cranfield University.',\n",
       " 'Downloaded on July 10,2024 at 10:39:32 UTC from IEEE Xplore.',\n",
       " 'Restrictions apply.',\n",
       " 'RUIZ-CARCEL AND STARR: DATA-BASED DETECTION AND DIAGNOSIS OF FAULTS IN LINEAR ACTUATORS\\n2039\\nFig. 6.',\n",
       " 'Eight stages of the spalling defect. Fig.',\n",
       " '7. Balls for simulation of backlash. 2) spalling, simulated by artiﬁcially\\ninducing surface\\ndefects of different sizes in the screw and balls (Fig. 6);\\n3) backlash, simulated by replacing the original balls with\\nballs of smaller diameter (Fig. 7).',\n",
       " 'Seeded faults were introduced because there was insufﬁcient\\ntest time to run the ball screws naturally to failure. The faults\\nwere introduced gradually in order to observe how the severity\\nof the faults affects the features extracted from the signals\\nand assess the detection capabilities of the algorithm. In the\\ncase of lack of lubrication, in the ﬁrst stage the lubricant was\\nremoved with degreaser. No dramatic changes were observed\\nin the signals, mainly due to the inherent low friction of the\\nball-screw architecture. In order to increase the severity of\\nthe fault, the bolts holding the plastic seal at both ends of\\nthe nut containing the balls were tightened, to create more\\nfriction (see Fig.',\n",
       " '5). The spalling defect was started as a\\n1-mm diameter surface defect on the rolling surface of the\\nscrew (see Fig. 6). In the following second, third, and fourth\\nstages, the size of the defect was gradually increased to 2, 3,\\nand 4 mm in diameter, affecting not only the bottom of the\\nchannel but also one of the sides. In stage 5, the 4-mm\\ndefect was replicated in a neighbor channel, and in stage 6,\\nthe size of both defects was increased affecting the sidewall\\nbetween them. In stage 7, another 4-mm defect was seeded\\non the other neighbor channel of the original defect. Finally,\\nin stage 8 part of the sidewall between two of the defects was\\npartially removed (see Fig. 6).',\n",
       " 'Backlash or excess of play was\\nsimulated replacing the original 3.15-mm diameter balls by\\n3- and 2.5-mm diameter balls (see Fig. 7).',\n",
       " 'The tests were performed for different motion proﬁles and\\nloading conditions in order to assess the capabilities of the\\nalgorithm under different scenarios. Two motion proﬁles were\\ntested. The ﬁrst was a trapezoidal motion proﬁle (constant\\nspeed set point) where the 120-mm stroke was completed in\\n5 s with 3 s waiting at both ends of the movement. The second\\nwas a sinusoidal motion proﬁle (smooth speed transition) with\\n120-mm stroke completed in 6 s with 2 s waiting at both ends. These two motion proﬁles were tested for normal and faulty\\nconditions under three different loading scenarios: 196.13,\\n392.3, and −392.3 N. The full motion sequence was repeated\\nﬁve times in each test, and each test was repeated 10 times\\nin order to generate a data set with a signiﬁcant amount of\\nobservation in each case studied. In every test, before the data\\ncollection started, the rig was run for about 30 min until a\\nsteady temperature was reached in the motors and the nut. IV.',\n",
       " 'RESULTS AND DISCUSSION\\nA. Feature Extraction\\nAs mentioned in Section II-A, the extraction of features\\nfrom the signal is critical for the performance of the\\nmonitoring algorithm. For that reason, the features set were\\nchosen for likely sensitivity to degradation, and then tested\\nfor effectiveness. The correlation between these features was\\nstudied using PCA in order to establish a baseline that deﬁnes\\nthe normal behavior of the system in the absence of faults\\nunder different loading scenarios. As an additional beneﬁt, this\\nprocedure signiﬁcantly reduces the amount of data analyzed. During the training phase, using data acquired in the absence\\nof faults, these features were combined to capture the system\\ndynamics under different operating scenarios. In subsequent\\ntests, any deviations found in these features were examined\\nfor indication of the presence of faults in the system. Due to the differences in the signals acquired for trapezoidal\\nand sinusoidal motion proﬁles, the sets of features extracted\\nand the extraction method in each case are slightly different. These features were extracted from position error and current\\nsignals independently for the extension and retraction move-\\nment in each complete motion, and each motion type was\\nAuthorized licensed use limited to: Cranfield University. Downloaded on July 10,2024 at 10:39:32 UTC from IEEE Xplore.',\n",
       " 'Restrictions apply.',\n",
       " '2040\\nIEEE TRANSACTIONS ON INSTRUMENTATION AND MEASUREMENT, VOL. 67, NO.',\n",
       " '9, SEPTEMBER 2018\\nFig.',\n",
       " '8. Feature extraction procedure for trapezoidal and sinusoidal motion\\nproﬁles. analyzed separately.',\n",
       " 'Fig. 8 summarizes the automated feature\\nextraction procedure used in each case. For the trapezoidal proﬁle, the last 80 samples (correspond-\\ning to 3.2 s of measurements) from position error and current\\nmeasurements of each movement were used to calculate the\\nmean steady value. Both signals were ﬁltered using a moving\\naverage with a window length of 20 and 15 data points,\\nrespectively. This ﬁltering process produces a smoothed signal\\neliminating random noise that allows for a more accurate\\nestimation of the settling time (see Fig. 9). The settling time\\nwas established as the last data point in the ﬁltered signal\\nwith an absolute value lower than 0.5 mm for position error\\nand lower than 10% of the mean steady current for the\\ncurrent signal. These threshold values were set empirically\\nTABLE I\\nFEATURES STRUCTURE FOR TRAPEZOIDAL PROFILE\\n(FEATURES FROM SECTION II-A)\\nafter analyzing the behavior of the signals under different\\noperating conditions. Finally, the amplitude of the maximum\\ndeviation with respect to the mean steady value and the\\nstandard deviation between the settling time and the end of\\nthe movement was computed for both signals. An example\\nof features captured can be seen in Fig.',\n",
       " '9(a). Table I shows\\nthe ﬁnal list of features extracted from both signals for the\\ntrapezoidal case and the ID number assigned to each of these\\nfeatures, which will be referred to in Section IV. In the case of the sinusoidal proﬁle, due to the constant\\nchange in the speed set point, none of the signals ever reached\\na real “steady value.” In the case of the position error, only\\nthe overshoot value was captured. For current measurements,\\nin addition to the overshoot, a region around the maximum\\nspeed point with a speed variation lower than 10% was further\\nanalyzed. The current signal was considered almost steady in\\nthis region, and the mean value, the amplitude of the maximum\\ndeviation from the mean, and the standard deviation were\\nextracted from this signal section. Table II shows the list of\\nfeatures extracted from both signals for the sinusoidal case. B. Analysis of Extracted Features\\n1) Normal Operation: In order to train the algorithm and\\nestablish a set of baseline values for the features extracted,\\nthe ﬁrst data set was acquired in normal conditions (absence\\nof faults) for the trapezoidal and sinusoidal motion proﬁles\\nunder the three loading scenarios considered. Fig. 10 shows\\nan example of some features (measurements 1, 2, 5, 11, 12,\\nand 15 in Table I) extracted from trapezoidal type extension\\nmovements for different loading conditions. These graphs\\nAuthorized licensed use limited to: Cranfield University. Downloaded on July 10,2024 at 10:39:32 UTC from IEEE Xplore.',\n",
       " 'Restrictions apply.',\n",
       " 'RUIZ-CARCEL AND STARR: DATA-BASED DETECTION AND DIAGNOSIS OF FAULTS IN LINEAR ACTUATORS\\n2041\\nFig. 9.',\n",
       " 'Example of features extracted for (a) trapezoidal and (b) sinusoidal motion. TABLE II\\nFEATURES STRUCTURE FOR SINUSOIDAL PROFILE\\n(FEATURES FROM SECTION II-A)\\nshow the variation in the features extracted due to noise,\\nmeasurement error and variations in the operating conditions. Some of the features, especially those related to position\\nmeasurements, show almost no variation for the different\\nloading scenarios, as expected under closed loop control. However, current measurements are hugely affected by the\\noperating conditions. That is why, it is necessary to produce\\na condition indicator that can characterize the health of the\\nsystem under varying operating conditions for this application. The training data set was composed of 150 observations\\n(50 for each loading condition tested) and 20 measure-\\nments were analyzed following the procedure described in\\nSection II-B. The number of PCs to retain a was chosen so that\\nat least 80% of the variability in the data is retained. According\\nto the analysis of the singular values, the number of retained\\nPCs was set to 2. The probability density function of the T 2\\nand Q indicators was estimated using KDE. The thresholds\\nwere calculated for a conﬁdence bound of 90%, obtaining\\nvalues of 17.88 and 18.89 for T 2 and Q, respectively. Fig.',\n",
       " '11(a) shows the values of both indicators against their\\nrespective thresholds for the three loading scenarios in the\\nabsence of faults. This result shows the ability of PCA to\\nprovide information about the system condition for different\\noperating conditions. Fig. 11(b) shows the scores for the two\\nmain PCs, which is a measurement of the weight of each\\nfeature measured in each dimension of the PC space. The same analysis was undertaken for the sinusoidal proﬁle\\ndata set. In this case also, two PCs were retained and the\\nthreshold values were set to 13.75 and 5.85 for the T 2 and\\nQ indicators, respectively. Fig.',\n",
       " '12 summarizes the results\\nobtained in this case. 2) Lack of Lubrication: This case was studied in two stages\\nwith increasing severity. Fig.',\n",
       " '13(a) shows the condition indi-\\ncators for this case for the trapezoidal proﬁle, where the ﬁrst\\n150 samples correspond to the ﬁrst stage and the remaining\\n150 observations correspond to the second stage. The detection\\nrate for the T 2 indicator was 48.6% and 64.7% for the ﬁrst\\nand second stages of the test, respectively. The Q indicator\\nshowed a better performance with 88% and 100% detection\\nrate for the ﬁrst and second stages. Different values of number\\nof PCs retained a were tried to improve the performance of\\nthe T 2 indicator, obtaining poorer results. As a consequence,\\nthis parameter was kept to 2. The lack of detection of the T 2\\nindicator is attributed to the fact that this particular fault tends\\nto produce features located away from the retained PCs rather\\nthan changing the values of the features within the retained\\nspace. Fig.',\n",
       " '13(b) shows an example the contribution of each mea-\\nsurement to each indicator at sample number 15 (ﬁrst stage,\\n196.13 N. The measurements with higher contributions in both\\nindicators are 12 and 17, which correspond with the current\\novershoot during the extension and retraction movements,\\nAuthorized licensed use limited to: Cranfield University. Downloaded on July 10,2024 at 10:39:32 UTC from IEEE Xplore.',\n",
       " 'Restrictions apply.',\n",
       " '2042\\nIEEE TRANSACTIONS ON INSTRUMENTATION AND MEASUREMENT, VOL. 67, NO.',\n",
       " '9, SEPTEMBER 2018\\nFig.',\n",
       " '10. Example of features from trapezoidal extension movement. Fig. 11. (a) Condition indicators and (b) PC scores for the trapezoidal training data set. respectively. Measurements 11 and 16 (steady value) have also\\na high contribution. This is attributed to the excess of current\\nthat is needed to overcome the increment in friction and the\\nchange produced in the dynamic properties of the system. The same analysis was performed for the sinusoidal proﬁle,\\nobtaining the results shown in Fig.',\n",
       " '14. In this case, the detec-\\ntion rate for the T 2 indicator was 29.3% and 22.7% for the\\nﬁrst and second degradation stages, respectively, while for the\\nQ indicator it was 90% and 99.3%. The main measurements\\ncontributing to the T 2 indicator at sample 79 (ﬁrst stage,\\n392.3 N) were three and seven, corresponding again to the\\ncurrent steady value in each movement direction. For the Q\\nindicator, measurement seven was especially relevant at this\\nparticular sample. 3) Spalling: As explained in Section III-B, spalling was\\nintroduced gradually in eight stages. Despite the apparent\\nseverity of the fault, the system proved to be quite robust\\nand continued working almost ﬂawlessly even with defects of\\nconsiderable size. Even in the last stages tested, the momentary\\nball nut jamming did not occur in every single movement\\nrepetition, it only happened momentarily in some of the\\nmovements arbitrarily. During the tests, it was observed that\\nfor the sinusoidal proﬁle (where the maximum speed is higher\\nthan for the trapezoidal case) momentary jamming was quite\\nfrequent during the seventh degradation stage. Figs.',\n",
       " '15 and 16\\nshow the results obtained for these tests. Detection rate results\\nare presented in Table III. The detection rate results summarized in Table III reveal\\nthat for the trapezoidal proﬁle tests the number of threshold\\ncrossings was obviously high only in the eighth stage, and\\nmoderate in the sixth and seventh stages. For the ﬁrst ﬁve\\nstages the results are quite similar to the training data set,\\nAuthorized licensed use limited to: Cranfield University. Downloaded on July 10,2024 at 10:39:32 UTC from IEEE Xplore.',\n",
       " 'Restrictions apply.',\n",
       " 'RUIZ-CARCEL AND STARR: DATA-BASED DETECTION AND DIAGNOSIS OF FAULTS IN LINEAR ACTUATORS\\n2043\\nFig. 12. (a) Condition indicators and (b) PC scores for the sinusoidal training data set. Fig.',\n",
       " '13. (a) Condition indicators and (b) contributions at sample 15 for lack of lubrication (trapezoidal). Fig. 14. (a) Condition indicators and (b) contributions at sample 79 for lack of lubrication (sinusoidal). showing that the algorithm was not able to detect the fault\\nat these early stages. According to Fig. 15(b), the measure-\\nments that contribute more to both indicators at sample 1155\\n(eighth stage under −392.3 N) are 9, 10, 19, and 20, which are\\nrelated with the maximum deviations found during the steady\\nmovement region and the overall standard deviation in that\\nsame region of the two signals analyzed, particularly for the\\nretraction movement. Authorized licensed use limited to: Cranfield University.',\n",
       " 'Downloaded on July 10,2024 at 10:39:32 UTC from IEEE Xplore. Restrictions apply.',\n",
       " '2044\\nIEEE TRANSACTIONS ON INSTRUMENTATION AND MEASUREMENT, VOL. 67, NO.',\n",
       " '9, SEPTEMBER 2018\\nFig.',\n",
       " '15. (a) Condition indicators and (b) contributions at sample 1155 for spalling (trapezoidal). Fig. 16. (a) Condition indicators and (b) contributions at sample 1002 for spalling (sinusoidal). Fig. 17. (a) Condition indicators and (b) contributions at sample 284 for backlash (trapezoidal). For the sinusoidal proﬁle, the indicators only gave a rela-\\ntively high number of threshold crossings in the seventh stage. These results are in line with the observations during the tests,\\nwhere the actuator was operating in a normal way for the\\nsmaller defects tested. Ball nut jamming was only frequent\\nfor the sinusoidal proﬁle during the seventh stage. This is\\nAuthorized licensed use limited to: Cranfield University.',\n",
       " 'Downloaded on July 10,2024 at 10:39:32 UTC from IEEE Xplore. Restrictions apply.',\n",
       " 'RUIZ-CARCEL AND STARR: DATA-BASED DETECTION AND DIAGNOSIS OF FAULTS IN LINEAR ACTUATORS\\n2045\\nFig. 18.',\n",
       " '(a) Condition indicators and (b) contributions at sample 210 for backlash (sinusoidal). TABLE III\\nDETECTION RATES FOR SPALLING TESTS IN %\\nattributed to a combination of the high speed achieved during\\nthe sinusoidal movement and the sharpness of the defect edges\\nin that particular stage. For the eighth stage, the defect size\\nwas bigger, but the edges of the defect were smoother. The\\nthree independent rows of balls make the system quite robust\\nto this type of fault as the load is shared amongst many balls at\\ndifferent locations. According to Fig. 16(b), the measurements\\nthat contribute more to both indicators at sample 1022 (seventh\\nstage under −392.3 N) are 5, 6, 9, and 10, which again are\\nrelated with the maximum amplitude found during the steady\\nmovement region and the standard deviation in that same\\nregion of the current signal. 4) Backlash:\\nBacklash was introduced in two stages.',\n",
       " 'Fig.',\n",
       " '17 shows the results obtained for the trapezoidal motion\\nproﬁle. In this case, the performance of the T 2 indicator was\\nrelatively poor, giving a detection rate of 40.7% and 16% for\\nstages 1 and 2, respectively, compared with the 88% and 100%\\ndetection rate given by the Q indicator in the same conditions. At sample 284 (second stage under −392.3 N), there are\\nseveral variables contributing to the T 2, which is an indication\\nof its poor performance. The main contributions of the Q\\nindicator at this data point are variables 5, 10, 15, and 20,\\nwhich are related with the standard deviation during the steady\\nmotion regions. This may be an indication of increment in the\\nvariability of the signals due to the effect of backlash.',\n",
       " 'Fig. 18 shows the results obtained for the sinusoidal motion\\nproﬁle. In this case, the detection rates for the T 2 indicator are\\n29.3% and 76% for the ﬁrst and second degradation stages. Again, the contribution of the T 2 indicator at sample 210\\n(second stage under 392.3 N) is shared amongst many vari-\\nables, which hinders the diagnosis. The Q indicator, however,\\nshows much better detection rates 90% in the ﬁrst stage\\nand 100% in the second. Additionally, the measurements\\ncontributing more to this indicator at sample 210 are 6 and\\n10, measuring the standard deviation in the steady region of\\nthe current signals in both directions.',\n",
       " 'V. CONCLUSION\\nThis paper presents a novel method for linear actuator\\nmonitoring based on extraction of key features from cur-\\nrent and position measurements. These features are carefully\\nselected in order to obtain a good representation of the system\\ndynamics during transient and steady operation with a reduced\\ndata set. These features are combined using PCA to produce\\ncondition indicators that can be used for fault detection, as\\nthey are able to indicate changes in the system dynamics even\\nunder different operating conditions such as different loading\\nscenarios. In addition, the capabilities of PCA to eliminate\\nrandom variations in the data and capture systematic trends\\nhelped to reduce background noise in the signals. The proposed approach was tested using experimental data\\nacquired from a rig designed to operate under different\\nloading conditions and allowing faults to be seeded. Data\\nwere acquired from position and current measurements under\\nnormal conditions, with lack of lubrication, spalling, and with\\nworn balls to simulate backlash. The sensors characteristics\\nwere selected to provide accurate and reliable measurements\\nable to represent the characteristics of the system dynam-\\nics. Although the level of noise observed in the signals\\nwas relatively high, the PCA-based feature combination and\\ndimensionality reduction provided consistent health indicators\\neven under different loads. The rig operation proved to be quite robust for these\\nparticular fault scenarios. It continued operating even when\\nthe faults introduced were visually quite severe. The results\\nobtained show that the algorithm was able to detect the faults\\nintroduced, although the detection of these faults in the very\\nAuthorized licensed use limited to: Cranfield University. Downloaded on July 10,2024 at 10:39:32 UTC from IEEE Xplore.',\n",
       " 'Restrictions apply.',\n",
       " '2046\\nIEEE TRANSACTIONS ON INSTRUMENTATION AND MEASUREMENT, VOL. 67, NO. 9, SEPTEMBER 2018\\nearly stages of degradation was not always possible due to the\\nmentioned robustness of the system. The results obtained showed that the proposed feature\\nextraction and analysis approach was able to effectively detect\\nthe lack of lubrication and backlash under different motion and\\nloading conditions. In particular, the Q indicator showed a\\nlow false alarm rate, and the Q contribution plots provided\\nvaluable information for fault diagnosis. The T 2 indicator,\\non the other hand, typically showed low detection rates, despite\\nthe efforts made in tuning the algorithm parameters to improve\\nits performance. Both indicators failed to detect spalling in\\nthe ﬁrst stages of degradation, but during the tests it was\\nobserved that the mechanism performance and behavior was\\nnot very different from what was observed in the absence of\\nfaults. When the defect introduced was big enough to affect\\nthe behavior of the mechanism considerably, the algorithm\\nwas able to detect the fault and provide information about its\\norigin. The use of multivariate analysis was crucial to simplify\\nthe fault detection and diagnosis problem involving several\\nvariables and changing operation. The superior performance of the Q indicator over T 2 has\\nalso been observed in other investigations. Generally, it is\\nattributed to the fact that most faults tend to produce features\\nlocated away from the retained PCs rather than changing the\\nvalues of the features within the retained space. Although\\ndifferent tests were carried out retaining a higher number of\\nprincipal components, the best overall detection performance\\nwas found setting this parameter to 2. The analysis of the contribution of each measurement to\\nthe indicators’ value provided very useful information about\\nthe origin of the source of the threshold crossing. Some\\nof the selected features produced signiﬁcantly high scores\\nduring the training phase, as they contain most of the data\\nvariability in such conditions. However, some of the features\\nwith lower scores were determinant in the detection of some\\nfaults, proving the need to include such features to provide\\naccurate diagnosis information. This information could be used\\nnot only to detect the fault automatically but also to guide\\nsubsequent inspection to conﬁrm the origin and extent of the\\nfault, which some industries may require before commission-\\ning replacement or repair. In order to improve the perfor-\\nmance of the proposed approach in the future investigations,\\nthe exploration of indicator combination and the comparison\\nof measurements with historic data and previous operations\\nfor building conﬁdence in diagnosis is suggested. ACKNOWLEDGMENT\\nThe authors would like to thank the Engineering and Phys-\\nical Sciences Research Council Centre for Through-life Engi-\\nneering Services, Rolls-Royce, BAE Systems, Bombardier\\nTransportation, Babcock, and the Ministry of Defence. REFERENCES\\n[1] The\\nNational\\nTransportation\\nSafety\\nBoard. Aviation\\nAccident\\nReport—Loss of Control and Impact with Paciﬁc Ocean, Alaska\\nAirlines\\nFlight\\n261,\\nMcDonnell\\nDouglas\\nMD-83,\\nN963AS,\\nAbout 2.7 Miles North of Anacapa Island, California. Accessed:\\nNov.',\n",
       " '15, 2016.',\n",
       " '[Online]. Available: http://www.ntsb.gov/investigations/\\naccidentreports/pages/AAR0201.aspx\\n[2] E. Balaban, A.',\n",
       " 'Saxena, P. Bansal, K. F. Goebel, P. Stoelting, and\\nS. Curran, “A diagnostic approach for electro-mechanical actuators in\\naerospace systems,” in Proc. IEEE Aerosp.',\n",
       " 'Conf., Mar. 2009, pp. 1–13. [3] P. Phillips, D.',\n",
       " 'Diston, and A. Starr, “Perspectives on the commercial\\ndevelopment of landing gear health monitoring systems,” Transp. Res.',\n",
       " 'C,\\nEmerg. Technol., vol. 19, no. 6, pp. 1339–1352, 2011.',\n",
       " '[4] P. Jänker et al., “New actuators for aircraft and space applications,” in\\nProc. 11th Int. Conf. New Actuators, 2008, pp. 346–354.',\n",
       " '[5] P.',\n",
       " 'Phillips and D. Diston, “A knowledge driven approach to aerospace\\ncondition monitoring,” Knowl.-Based Syst., vol. 24, no.',\n",
       " '6, pp. 915–927,\\nAug. 2011. [6] S. C. Jensen, G. D.',\n",
       " 'Jenney, and D. Dawson, “Flight test experience with\\nan electromechanical actuator on the F-18 systems research aircraft,” in\\nProc. 19th DASC.',\n",
       " '19th Digit. Avion. Syst. Conf., vol. 1. Oct. 2000,\\npp. 1–11.',\n",
       " '[7] G. Swerdon et al., “A systems engineering approach to electro-\\nmechanical actuator diagnostic and prognostic development,” in Proc. Conf.',\n",
       " 'Soc. Mach. Failure Prevention Technol. Failure Prevention,\\nImplement., Success Stories Lessons Learn., 2009, pp. 1–15.',\n",
       " '[8] C. S. Byington, M. Watson, D.',\n",
       " 'Edwards, and P. Stoelting, “A model-\\nbased approach to prognostics and health management for ﬂight con-\\ntrol actuators,” in Proc. IEEE Aerosp.',\n",
       " 'Conf., vol. 6. Mar. 2004,\\npp. 3551–3562. [9] L.',\n",
       " 'U. Gökdere, S. L. Chiu, K. J.',\n",
       " 'Keller, and J. Vian, “Lifetime control of\\nelectromechanical actuators,” in Proc. IEEE Aerosp. Conf., Mar. 2005,\\npp. 3523–3531. [10] M.',\n",
       " 'J. Smith et al., “Experimental and analytical development of health\\nmanagement for electro-mechanical actuators,” in Proc. IEEE Aerosp.',\n",
       " 'Conf., Mar. 2009, pp. 1–14.',\n",
       " '[11] E. Balaban et al., “Experimental data collection and modeling for\\nnominal and fault conditions on electro-mechanical actuators,” in Proc. Annu.',\n",
       " 'Conf. Prognostics Health Manage. Soc., 2009, pp.',\n",
       " '1–15. [12] R. Dixon, N. Gifford, C. Sewell, and M.',\n",
       " 'C. Spalton, “REACTS:\\nReliable electrical actuation systems,” in Proc. IEE Colloq.',\n",
       " 'Elect. Mach. Syst. More Electric Aircraft, London, U.K., 1999, pp. 5-1–5-16, doi:\\n10.1049/ic:19990834.',\n",
       " '[13] R. Dixon and A.',\n",
       " 'W. Pike, “Application of condition monitoring to an\\nelectromechanical actuator: A parameter estimation based approach,”\\nComput. Control Eng.',\n",
       " 'J., vol. 13, no. 2, pp. 71–81, 2002. [14] R. Dixon and A.',\n",
       " 'W. Pike, “Improving the control and reliability\\nof an electromechanical actuator,” IFAC Proc. Vols., vol.',\n",
       " '38, no. 1,\\npp. 329–334, 2005.',\n",
       " '[15] R. Dixon, “Observer-based FDIA: Application to an electromechanical\\npositioning system,” Control Eng. Pract., vol.',\n",
       " '12, no. 9, pp. 1113–1125,\\nSep. 2004. [16] A. J. Chirico, III, J. R.',\n",
       " 'Kolodziej, and L. Hall, “A data driven frequency\\nbased feature extraction and classiﬁcation method for EMA fault detec-\\ntion and isolation,” in Proc. ASME 5th Annu.',\n",
       " 'Dyn. Syst. Control Conf. Joint JSME 11th Motion Vibrat. Conf. (DSCC) MOVIC, vol. 2. 2012,\\npp. 751–760. [17] A. J. Chirico, III, and J.',\n",
       " 'R. Kolodziej, “A data-driven methodology\\nfor fault detection in electromechanical actuators,” J. Dyn.',\n",
       " 'Syst. Meas. Control. Trans. ASME, vol. 136, no. 4, p. 041025, 2014. [18] A.',\n",
       " 'Chirico and J. Kolodziej, “Fault detection and isolation for electro-\\nmechanical actuators using a data-driven Bayesian classiﬁcation,” SAE\\nInt. J.',\n",
       " 'Aerosp., vol. 5, no. 2, pp. 494–502, 2012. [Online]. Available:\\nhttps://doi.org/10.4271/2012-01-2215\\n[19] S. Nandi, H.',\n",
       " 'A.',\n",
       " 'Toliyat, and X. Li, “Condition monitoring and fault\\ndiagnosis of electrical motors—A review,” IEEE Trans. Energy Convers.,\\nvol.',\n",
       " '20, no. 4, pp. 719–729, Apr. 2005.',\n",
       " '[20] C. Ruiz-Carcel and A. Starr. Data set for ‘Data-Based Detection and\\nDiagnosis of Faults in Linear Actuators. Accessed: Feb.',\n",
       " '28, 2018. [Online]. Available: https://ﬁgshare.com/s/dac98f9c1bc46b7a2800\\n[21] C. Ruiz-Carcel and A. Starr, “Development of a novel condition monitor-\\ning tool for linear actuators,” in Proc. 12th Int. Conf. Condition Monitor. Mach. Failure Prevention Technol., 2015, pp. 1–12.',\n",
       " '[22] L. Xu et al., “Identiﬁcation of oil-water ﬂow patterns in a vertical well\\nusing a dual-ring conductance probe array,” IEEE Trans. Instrum.',\n",
       " 'Meas.,\\nvol. 65, no. 5, pp. 1249–1258, May 2016. [23] A. Malhi and R.',\n",
       " 'X. Gao, “PCA-based feature selection scheme for\\nmachine defect classiﬁcation,” IEEE Trans. Instrum.',\n",
       " 'Meas., vol. 53,\\nno. 6, pp. 1517–1525, Dec. 2004. [24] E. L. Russell, L. H. Chiang, and R. D. Braatz, Fault Detection\\nand Diagnosis in Industrial Systems, vol. 1.',\n",
       " 'London, U.K.: Springer,\\n2000. Authorized licensed use limited to: Cranfield University. Downloaded on July 10,2024 at 10:39:32 UTC from IEEE Xplore. Restrictions apply.']"
      ]
     },
     "execution_count": 19,
     "metadata": {},
     "output_type": "execute_result"
    }
   ],
   "source": [
    "clean_text_chunks = [chunk for chunk in text_chunks if len(chunk) > 0]\n",
    "clean_text_chunks"
   ]
  },
  {
   "cell_type": "code",
   "execution_count": 20,
   "metadata": {},
   "outputs": [],
   "source": [
    "import sys\n",
    "sys.path.append('..')\n",
    "from rocket_rag.node import TextNode"
   ]
  },
  {
   "cell_type": "code",
   "execution_count": 22,
   "metadata": {},
   "outputs": [
    {
     "data": {
      "text/plain": [
       "[TextNode(id_='68cd82d9-20a4-4adb-b81b-28500b75ffe0', embedding=None, metadata={'total_pages': 6, 'file_path': '../docs\\\\data_description.pdf', 'source': '1'}, excluded_embed_metadata_keys=[], excluded_llm_metadata_keys=[], hash=<property object at 0x0000013C3E89B6F0>, text='Data set for \"Data-based Detection and Diagnosis of Faults \\nin Linear Actuators\" \\n \\n1. Introduction \\nThe dataset presented here was acquired for the study of degradation in linear \\nactuators, particularly electro-mechanical actuators (EMA). The data was acquired \\nfrom an instrumented rig (described in section 2) where a ball-screw actuator moved \\nleft to right following a defined motion profile with a level of load selected by the user. Nut position and motor current measurements were acquired during the tests. Initially the rig was tested in normal conditions (absence of faults) under different \\nmotion and loading scenarios. Subsequently different mechanical faults, including lack \\nof lubrication, spalling and backlash, were seeded in the system. Position and motor \\ncurrent data were acquired under these conditions to study monitoring methods to \\ndetect faults and degradation in this particular type of systems. This document describes in detail the data files available in the repository.', mimetype='text/plain', start_char_idx=None, end_char_idx=None, text_template='{metadata_str}\\n\\n{content}', metadata_template='{key}: {value}', metadata_seperator='\\n'),\n",
       " TextNode(id_='fef02767-a345-43a1-9a66-06820cb52432', embedding=None, metadata={'total_pages': 6, 'file_path': '../docs\\\\data_description.pdf', 'source': '1'}, excluded_embed_metadata_keys=[], excluded_llm_metadata_keys=[], hash=<property object at 0x0000013C3E89B6F0>, text='Section 2 \\nshows the experimental set up. Section three describes the different cases studied \\nand finally the data structure is explained in section 4.', mimetype='text/plain', start_char_idx=None, end_char_idx=None, text_template='{metadata_str}\\n\\n{content}', metadata_template='{key}: {value}', metadata_seperator='\\n'),\n",
       " TextNode(id_='b5eacef5-c8ae-44fc-93b1-b25f65969860', embedding=None, metadata={'total_pages': 6, 'file_path': '../docs\\\\data_description.pdf', 'source': '1'}, excluded_embed_metadata_keys=[], excluded_llm_metadata_keys=[], hash=<property object at 0x0000013C3E89B6F0>, text='2. Experimental set up \\nA ball-screw mechanism where threaded shaft provides a helical raceway for ball \\nbearings housed inside a nut was selected for this study. This arrangement allows the \\ntransformation of shaft rotation into nut linear displacement with little friction and high \\nprecision. In order to simulate varying loading scenarios that represent realistic \\noperating conditions, a second actuator was used.', mimetype='text/plain', start_char_idx=None, end_char_idx=None, text_template='{metadata_str}\\n\\n{content}', metadata_template='{key}: {value}', metadata_seperator='\\n'),\n",
       " TextNode(id_='891603ee-4f6d-4de3-a651-5740fcd0464f', embedding=None, metadata={'total_pages': 6, 'file_path': '../docs\\\\data_description.pdf', 'source': '1'}, excluded_embed_metadata_keys=[], excluded_llm_metadata_keys=[], hash=<property object at 0x0000013C3E89B6F0>, text='Both actuators were connected \\nthrough a load cell, and the load measurements provided were fed back to the \\ncontroller of the second actuator. Using this configuration it is possible to send a load \\nset point command to the second actuator and take control of the external load in the \\nactuator being tested. Ball-screws with fitted anti backlash ball-nut model RM1605-C7 with 5 mm lead and \\nNema 34 stepper motors with 4.6 Nm holding torque were selected. The mechanical \\ncomponents were mounted on an aluminium profile structure.', mimetype='text/plain', start_char_idx=None, end_char_idx=None, text_template='{metadata_str}\\n\\n{content}', metadata_template='{key}: {value}', metadata_seperator='\\n'),\n",
       " TextNode(id_='94b7271b-d692-445e-8643-e1b5ec58dfa0', embedding=None, metadata={'total_pages': 6, 'file_path': '../docs\\\\data_description.pdf', 'source': '1'}, excluded_embed_metadata_keys=[], excluded_llm_metadata_keys=[], hash=<property object at 0x0000013C3E89B6F0>, text='The motors of both \\nactuators were controlled from a Labview interface, which was also responsible for the \\ndata collection. The rig was instrumented with a series of sensors for control and monitoring purposes. Position was measured with a Vishay REC 115L linear potentiometer. Current from \\nthe drive is measured by a Honeywell CSLA2CD Hall effect sensor. The load between \\nboth actuators was measured using a Tedea Huntleigh, S beam type model 614 load \\ncell. Load measurements were used only for controlling the load provided by the \\nsecond actuator, but never for monitoring purposes. All the data was acquired at 25 \\nHz.', mimetype='text/plain', start_char_idx=None, end_char_idx=None, text_template='{metadata_str}\\n\\n{content}', metadata_template='{key}: {value}', metadata_seperator='\\n')]"
      ]
     },
     "execution_count": 22,
     "metadata": {},
     "output_type": "execute_result"
    }
   ],
   "source": [
    "doc_nodes = []\n",
    "for idx, text_chunk in enumerate(text_chunks):\n",
    "    node = TextNode(\n",
    "        text=text_chunk,\n",
    "    )\n",
    "    src_doc = documents[doc_idxs[idx]]\n",
    "    node.metadata = src_doc.metadata\n",
    "    doc_nodes.append(node)\n",
    "\n",
    "doc_nodes[:5]"
   ]
  },
  {
   "cell_type": "code",
   "execution_count": 24,
   "metadata": {},
   "outputs": [
    {
     "data": {
      "application/vnd.jupyter.widget-view+json": {
       "model_id": "e8c18731cca149cdb7c037ba7758db30",
       "version_major": 2,
       "version_minor": 0
      },
      "text/plain": [
       "  0%|          | 0/166 [00:00<?, ?it/s]"
      ]
     },
     "metadata": {},
     "output_type": "display_data"
    }
   ],
   "source": [
    "STORE_DIR = '../store/doc_indexing'\n",
    "\n",
    "if os.path.exists(os.path.join(STORE_DIR, 'nodes.pkl')):\n",
    "    with open(os.path.join(STORE_DIR, 'nodes.pkl'), 'rb') as f:\n",
    "        doc_nodes = pickle.load(f)\n",
    "    loguru.logger.info(f'Successfully loaded doc_indexing.pkl!')\n",
    "else:\n",
    "    for node in tqdm(doc_nodes):\n",
    "        node_embeds = get_embedding(node.text)\n",
    "        node.embedding = node_embeds"
   ]
  },
  {
   "cell_type": "code",
   "execution_count": 27,
   "metadata": {},
   "outputs": [],
   "source": [
    "if not os.path.exists(os.path.join(STORE_DIR, 'nodes.pkl')):\n",
    "    with open(os.path.join(STORE_DIR, 'nodes.pkl'), 'wb') as f:\n",
    "        pickle.dump(doc_nodes, f)\n",
    "    loguru.logger.info(f'Successfully saved doc_indexing.pkl!')\n",
    "else:\n",
    "    pass"
   ]
  },
  {
   "cell_type": "code",
   "execution_count": null,
   "metadata": {},
   "outputs": [],
   "source": []
  }
 ],
 "metadata": {
  "kernelspec": {
   "display_name": "agent",
   "language": "python",
   "name": "python3"
  },
  "language_info": {
   "codemirror_mode": {
    "name": "ipython",
    "version": 3
   },
   "file_extension": ".py",
   "mimetype": "text/x-python",
   "name": "python",
   "nbconvert_exporter": "python",
   "pygments_lexer": "ipython3",
   "version": "3.11.5"
  }
 },
 "nbformat": 4,
 "nbformat_minor": 2
}
