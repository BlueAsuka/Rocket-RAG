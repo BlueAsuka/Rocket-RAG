{
 "cells": [
  {
   "cell_type": "code",
   "execution_count": 4,
   "metadata": {},
   "outputs": [],
   "source": [
    "import os\n",
    "import sys\n",
    "sys.path.append('..')\n",
    "\n",
    "import random\n",
    "import torch\n",
    "import pandas as pd\n",
    "import torch.nn as nn\n",
    "\n",
    "from rocket_rag.transform import smoothing"
   ]
  },
  {
   "cell_type": "code",
   "execution_count": 10,
   "metadata": {},
   "outputs": [],
   "source": [
    "RAW_DATA_DIR = '../data/raw/'\n",
    "INSTANCES_DIR = '../data/instances/'\n",
    "INFERENCE_DIR = '../data/inference/'\n",
    "STATES = ['normal', \n",
    "          'backlash1', 'backlash2',\n",
    "          'lackLubrication1', 'lackLubrication2',\n",
    "          'spalling1', 'spalling2', 'spalling3', 'spalling4',\n",
    "          'spalling5', 'spalling6', 'spalling7', 'spalling8']\n",
    "LOADS= ['20kg', '40kg', '-40kg']\n",
    "SMOOTHING_PE_WINDOW_SIZE = 20\n",
    "SMOOTHING_CUR_WINDOW_SIZE1 = 5\n",
    "SMOOTHING_CUR_WINDOW_SIZE2 = 10\n",
    "SMOOTHING_CUR_WINDOW_SIZE3 = 15\n",
    "\n",
    "all_instances = {str(load) + '_' + str(state): os.listdir(os.path.join(INSTANCES_DIR, load, state)) for state in STATES for load in LOADS}\n",
    "normal_20kg = all_instances['20kg_normal']\n",
    "rand_filename = os.path.join(INSTANCES_DIR, '20kg', 'normal', random.choice(normal_20kg))\n",
    "\n",
    "current = smoothing(ts_df=pd.read_csv(rand_filename), field='current')\n",
    "position_error = smoothing(ts_df=pd.read_csv(rand_filename), field='position_error')"
   ]
  },
  {
   "cell_type": "code",
   "execution_count": null,
   "metadata": {},
   "outputs": [],
   "source": [
    "class RocketConv(nn.Module):\n",
    "    "
   ]
  }
 ],
 "metadata": {
  "kernelspec": {
   "display_name": "agent",
   "language": "python",
   "name": "python3"
  },
  "language_info": {
   "codemirror_mode": {
    "name": "ipython",
    "version": 3
   },
   "file_extension": ".py",
   "mimetype": "text/x-python",
   "name": "python",
   "nbconvert_exporter": "python",
   "pygments_lexer": "ipython3",
   "version": "3.11.5"
  }
 },
 "nbformat": 4,
 "nbformat_minor": 2
}
