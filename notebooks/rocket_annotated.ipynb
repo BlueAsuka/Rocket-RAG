{
 "cells": [
  {
   "cell_type": "code",
   "execution_count": 2,
   "metadata": {},
   "outputs": [],
   "source": [
    "import os\n",
    "import math\n",
    "import sys\n",
    "sys.path.append('..')\n",
    "\n",
    "import random\n",
    "import torch\n",
    "import pandas as pd\n",
    "import torch.nn as nn\n",
    "\n",
    "from rocket_rag.transform import smoothing\n",
    "from rocket_rag.rocket import RocketConv, ChannelMix, PPVThresholds, Rocket"
   ]
  },
  {
   "cell_type": "code",
   "execution_count": 3,
   "metadata": {},
   "outputs": [],
   "source": [
    "RAW_DATA_DIR = '../data/raw/'\n",
    "INSTANCES_DIR = '../data/instances/'\n",
    "INFERENCE_DIR = '../data/inference/'\n",
    "STATES = ['normal', \n",
    "          'backlash1', 'backlash2',\n",
    "          'lackLubrication1', 'lackLubrication2',\n",
    "          'spalling1', 'spalling2', 'spalling3', 'spalling4',\n",
    "          'spalling5', 'spalling6', 'spalling7', 'spalling8']\n",
    "LOADS= ['20kg', '40kg', '-40kg']\n",
    "SMOOTHING_PE_WINDOW_SIZE = 20\n",
    "SMOOTHING_CUR_WINDOW_SIZE1 = 5\n",
    "SMOOTHING_CUR_WINDOW_SIZE2 = 10\n",
    "SMOOTHING_CUR_WINDOW_SIZE3 = 15\n",
    "\n",
    "all_instances = {str(load) + '_' + str(state): os.listdir(os.path.join(INSTANCES_DIR, load, state)) for state in STATES for load in LOADS}\n",
    "normal_20kg = all_instances['20kg_normal']\n",
    "rand_filename = os.path.join(INSTANCES_DIR, '20kg', 'normal', random.choice(normal_20kg))\n",
    "\n",
    "current = smoothing(ts_df=pd.read_csv(rand_filename), field='current')\n",
    "position_error = smoothing(ts_df=pd.read_csv(rand_filename), field='position_error')"
   ]
  },
  {
   "cell_type": "code",
   "execution_count": 25,
   "metadata": {},
   "outputs": [
    {
     "data": {
      "text/plain": [
       "tensor([[[ 4.1650e-01,  5.1959e-01,  6.0716e-01,  6.7921e-01,  7.3574e-01,\n",
       "           7.7675e-01,  8.0223e-01,  8.1220e-01,  7.8462e-01,  7.3169e-01,\n",
       "           6.8224e-01,  6.3332e-01,  6.0341e-01,  5.8432e-01,  5.8182e-01,\n",
       "           5.7233e-01,  5.8316e-01,  5.8411e-01,  5.9395e-01,  6.0774e-01,\n",
       "           6.1541e-01,  6.2331e-01,  6.3347e-01,  6.5628e-01,  6.7194e-01,\n",
       "           6.7914e-01,  6.9692e-01,  7.1386e-01,  7.3155e-01,  7.3499e-01,\n",
       "           7.6454e-01,  7.7365e-01,  7.9978e-01,  8.0688e-01,  8.1483e-01,\n",
       "           8.1427e-01,  8.2127e-01,  8.1752e-01,  8.0928e-01,  7.9311e-01,\n",
       "           7.8033e-01,  7.6026e-01,  7.4163e-01,  7.3495e-01,  7.4010e-01,\n",
       "           7.3702e-01,  7.4110e-01,  7.4101e-01,  7.4696e-01,  7.5239e-01,\n",
       "           7.6086e-01,  7.6598e-01,  7.6865e-01,  7.7724e-01,  7.8619e-01,\n",
       "           7.9110e-01,  7.9340e-01,  7.8837e-01,  7.7656e-01,  7.7221e-01,\n",
       "           7.6413e-01,  7.6241e-01,  7.6092e-01,  7.5861e-01,  7.5666e-01,\n",
       "           7.5517e-01,  7.4908e-01,  7.5385e-01,  7.5081e-01,  7.4301e-01,\n",
       "           7.3458e-01,  7.2575e-01,  7.2114e-01,  7.3264e-01,  7.3706e-01,\n",
       "           7.4712e-01,  7.5490e-01,  7.5926e-01,  7.6861e-01,  7.7221e-01,\n",
       "           7.7442e-01,  7.7834e-01,  7.7472e-01,  7.6873e-01,  7.7208e-01,\n",
       "           7.6703e-01,  7.6323e-01,  7.6073e-01,  7.5800e-01,  7.5286e-01,\n",
       "           7.5003e-01,  7.4241e-01,  7.4389e-01,  7.3963e-01,  7.4237e-01,\n",
       "           7.4837e-01,  7.4966e-01,  7.5090e-01,  7.6412e-01,  7.6764e-01,\n",
       "           7.7904e-01,  7.8395e-01,  7.9042e-01,  7.9057e-01,  7.9194e-01,\n",
       "           7.8873e-01,  7.8644e-01,  7.7498e-01,  7.6905e-01,  7.5893e-01,\n",
       "           7.5375e-01,  7.4521e-01,  7.5453e-01,  7.5334e-01,  7.5781e-01,\n",
       "           7.5654e-01,  7.5828e-01,  7.6207e-01,  7.6685e-01,  7.6199e-01,\n",
       "           7.6549e-01,  7.8715e-01,  8.1601e-01,  8.2720e-01,  8.1683e-01,\n",
       "           7.8273e-01,  7.3623e-01,  6.6914e-01,  6.0918e-01,  5.4620e-01,\n",
       "           5.0401e-01,  4.6544e-01,  4.5087e-01,  4.5532e-01,  4.9426e-01,\n",
       "           5.4599e-01,  5.8666e-01,  6.1067e-01,  6.1558e-01,  6.2197e-01,\n",
       "           6.0893e-01,  5.9650e-01,  5.7501e-01,  5.4364e-01,  5.1991e-01,\n",
       "           4.8452e-01,  4.6940e-01,  4.4807e-01,  4.3149e-01,  4.1080e-01,\n",
       "           4.0213e-01,  3.9934e-01,  3.8944e-01,  3.9415e-01,  3.8161e-01,\n",
       "           3.6221e-01,  3.4541e-01,  3.3274e-01,  3.2968e-01,  3.2513e-01,\n",
       "           3.2710e-01,  3.2456e-01,  3.3652e-01,  3.5419e-01,  3.7264e-01,\n",
       "           3.5583e-01,  3.4279e-01,  3.4403e-01,  3.2711e-01,  3.2135e-01,\n",
       "           3.1989e-01,  3.1481e-01,  3.2125e-01,  3.1223e-01,  3.0827e-01,\n",
       "           3.0628e-01,  3.1998e-01,  3.4398e-01,  3.5158e-01,  3.4545e-01,\n",
       "           3.6610e-01,  3.8895e-01,  3.9821e-01,  4.0305e-01,  4.0085e-01,\n",
       "           3.8825e-01,  3.7136e-01,  3.5297e-01,  3.3283e-01,  3.1939e-01,\n",
       "           3.2002e-01,  3.1416e-01,  3.0498e-01,  3.0724e-01,  3.1992e-01,\n",
       "           3.2475e-01,  3.1974e-01,  3.2315e-01,  3.5710e-01,  4.1296e-01,\n",
       "           4.9086e-01,  5.9422e-01,  6.8726e-01,  7.8080e-01,  8.6837e-01,\n",
       "           9.4176e-01,  9.9506e-01,  1.0258e+00,  1.0351e+00,  1.0095e+00,\n",
       "           9.7165e-01,  9.3102e-01,  9.0494e-01,  8.9642e-01,  8.8094e-01,\n",
       "           8.7890e-01,  8.7482e-01,  8.6506e-01,  8.6700e-01,  8.7414e-01,\n",
       "           8.7508e-01,  8.7994e-01,  8.8622e-01,  8.9289e-01,  8.9445e-01,\n",
       "           8.9700e-01,  8.9862e-01,  9.0025e-01,  9.0444e-01,  9.1218e-01,\n",
       "           9.1996e-01,  9.1316e-01,  9.1326e-01,  9.1995e-01,  9.2335e-01,\n",
       "           9.3124e-01,  9.3210e-01,  9.4030e-01,  9.4616e-01,  9.5775e-01,\n",
       "           9.6098e-01,  9.6544e-01,  9.6930e-01,  9.6868e-01,  9.6278e-01,\n",
       "           9.5483e-01,  9.5359e-01,  9.5471e-01,  9.4998e-01,  9.5229e-01,\n",
       "           9.5136e-01,  9.6255e-01,  9.7203e-01,  9.7638e-01,  9.7003e-01,\n",
       "           9.6316e-01,  9.7085e-01,  9.7850e-01,  9.7045e-01,  9.7399e-01,\n",
       "           9.8021e-01,  9.8621e-01,  9.9026e-01,  9.9848e-01,  1.0019e+00,\n",
       "           1.0037e+00,  9.9832e-01,  9.9159e-01,  9.7876e-01,  9.7413e-01,\n",
       "           9.7506e-01,  9.6937e-01,  9.5678e-01,  9.5567e-01,  9.6031e-01,\n",
       "           9.6979e-01,  9.6639e-01,  9.6387e-01,  9.6907e-01,  9.7164e-01,\n",
       "           9.7161e-01,  9.8196e-01,  9.8384e-01,  9.8377e-01,  9.7392e-01,\n",
       "           9.7532e-01,  9.7165e-01,  9.7128e-01,  9.7465e-01,  9.7257e-01,\n",
       "           9.6265e-01,  9.6408e-01,  9.7139e-01,  9.7018e-01,  9.7495e-01,\n",
       "           9.8477e-01,  9.8295e-01,  9.8481e-01,  9.7796e-01,  9.7940e-01,\n",
       "           9.8461e-01,  9.8661e-01,  9.8827e-01,  9.8601e-01,  9.8192e-01,\n",
       "           9.7894e-01,  9.7963e-01,  9.9009e-01,  9.9470e-01,  9.9971e-01,\n",
       "           9.8724e-01,  9.8904e-01,  9.8737e-01,  9.9533e-01,  1.0042e+00,\n",
       "           1.0010e+00,  9.9088e-01,  9.9626e-01,  1.0035e+00,  1.0127e+00,\n",
       "           1.0237e+00,  1.0366e+00,  1.0515e+00,  1.0682e+00],\n",
       "         [ 1.1210e+00,  1.9140e+00,  2.6051e+00,  3.1941e+00,  3.6810e+00,\n",
       "           4.0659e+00,  4.3487e+00,  4.5295e+00,  4.5169e+00,  4.4715e+00,\n",
       "           4.3126e+00,  4.1343e+00,  3.8528e+00,  3.5398e+00,  3.2010e+00,\n",
       "           2.8688e+00,  2.5224e+00,  2.1882e+00,  1.8673e+00,  1.6278e+00,\n",
       "           1.4062e+00,  1.1549e+00,  9.1848e-01,  7.2566e-01,  5.5971e-01,\n",
       "           4.2520e-01,  2.4923e-01,  1.3099e-01, -1.2330e-02, -1.0843e-01,\n",
       "          -2.8664e-01, -3.7246e-01, -4.5806e-01, -4.1743e-01, -3.9292e-01,\n",
       "          -3.4142e-01, -2.9680e-01, -1.9984e-01, -9.2098e-02,  3.6473e-02,\n",
       "           1.2175e-01,  1.9963e-01,  2.1546e-01,  1.9523e-01,  1.3521e-01,\n",
       "           1.1339e-01,  5.2552e-02,  1.7279e-02, -9.6073e-03, -4.8787e-02,\n",
       "          -9.7673e-02, -1.4208e-01, -1.4688e-01, -1.5380e-01, -1.7597e-01,\n",
       "          -1.8421e-01, -1.3979e-01, -5.6558e-02,  4.4069e-02,  4.7381e-02,\n",
       "           5.3625e-02,  5.5139e-02,  8.2660e-02,  6.7977e-02,  7.1355e-02,\n",
       "           5.5621e-02,  6.6016e-02,  4.1244e-02,  3.8103e-02,  6.1605e-02,\n",
       "           7.2792e-02,  6.4195e-02,  4.5762e-02, -2.8630e-02, -5.1247e-02,\n",
       "          -1.0516e-01, -1.0525e-01, -1.2836e-01, -1.4095e-01, -1.2472e-01,\n",
       "          -9.4327e-02, -6.6750e-02, -1.2423e-02,  2.8508e-02,  2.4110e-02,\n",
       "           2.2224e-02,  4.4211e-02,  7.0233e-02,  6.1472e-02,  4.5745e-02,\n",
       "           5.9292e-02,  5.6569e-02,  1.5432e-02,  1.0866e-02,  2.9586e-03,\n",
       "          -3.0616e-02, -2.9734e-02, -3.2343e-02, -9.7589e-02, -1.1046e-01,\n",
       "          -1.2258e-01, -1.0480e-01, -1.0327e-01, -1.0291e-01, -5.0751e-02,\n",
       "          -2.0862e-04,  9.4692e-03,  7.1710e-02,  9.4150e-02,  1.0599e-01,\n",
       "           1.1472e-01,  1.3314e-01,  4.0657e-02,  2.7878e-02, -3.3431e-03,\n",
       "           1.5619e-02, -2.4156e-02, -7.0185e-02, -1.1637e-02,  9.8779e-02,\n",
       "           1.6237e-01,  1.1099e-01, -1.8507e-01, -5.7768e-01, -1.0364e+00,\n",
       "          -1.6091e+00, -2.2649e+00, -2.8390e+00, -3.4710e+00, -3.9277e+00,\n",
       "          -4.3365e+00, -4.5377e+00, -4.5610e+00, -4.4033e+00, -4.1602e+00,\n",
       "          -3.9155e+00, -3.6774e+00, -3.3642e+00, -3.0199e+00, -2.7882e+00,\n",
       "          -2.4465e+00, -2.1555e+00, -1.9217e+00, -1.5868e+00, -1.3736e+00,\n",
       "          -1.1485e+00, -1.0303e+00, -8.3316e-01, -6.7362e-01, -5.8187e-01,\n",
       "          -5.1243e-01, -4.2920e-01, -3.4754e-01, -3.4929e-01, -2.0020e-01,\n",
       "          -2.6437e-02,  9.0326e-02,  1.8800e-01,  2.0814e-01,  2.2145e-01,\n",
       "           1.8959e-01,  2.0941e-01,  1.1470e-01,  1.2374e-03, -8.2664e-02,\n",
       "          -1.8284e-02,  1.3897e-02,  2.1082e-02,  1.4500e-01,  1.9342e-01,\n",
       "           1.9854e-01,  2.2893e-01,  2.2146e-01,  2.7977e-01,  2.5481e-01,\n",
       "           2.1560e-01,  6.0093e-02, -1.2236e-01, -1.7364e-01, -1.5540e-01,\n",
       "          -2.3688e-01, -3.0762e-01, -3.3044e-01, -3.1852e-01, -2.7082e-01,\n",
       "          -1.4722e-01,  1.7253e-02,  1.7574e-01,  3.0148e-01,  3.7173e-01,\n",
       "           3.4737e-01,  3.7985e-01,  4.1167e-01,  3.6914e-01,  2.3420e-01,\n",
       "           1.2355e-01,  5.5826e-03, -2.5223e-01, -6.4416e-01, -1.0496e+00,\n",
       "          -1.5120e+00, -2.0721e+00, -2.5691e+00, -3.0276e+00, -3.4224e+00,\n",
       "          -3.7263e+00, -3.9430e+00, -4.0094e+00, -4.0100e+00, -3.8355e+00,\n",
       "          -3.6762e+00, -3.4922e+00, -3.2949e+00, -3.1106e+00, -2.8923e+00,\n",
       "          -2.7165e+00, -2.5112e+00, -2.2338e+00, -2.0502e+00, -1.8704e+00,\n",
       "          -1.6673e+00, -1.4770e+00, -1.3178e+00, -1.1904e+00, -1.0606e+00,\n",
       "          -8.9560e-01, -7.6674e-01, -6.1896e-01, -5.3590e-01, -4.5456e-01,\n",
       "          -3.8003e-01, -2.4234e-01, -1.4583e-01, -5.9138e-02,  7.6482e-03,\n",
       "           3.7737e-02,  1.2902e-01,  1.7536e-01,  2.1142e-01,  2.1647e-01,\n",
       "           2.2806e-01,  2.0783e-01,  1.4425e-01,  1.1483e-01,  1.1341e-01,\n",
       "           1.3981e-01,  1.1437e-01,  7.5558e-02,  6.4510e-02,  7.2194e-02,\n",
       "           1.4285e-01,  1.1649e-01,  4.7456e-02,  3.1088e-02,  1.0130e-01,\n",
       "           2.1833e-01,  2.3451e-01,  2.2287e-01,  3.2867e-01,  3.8275e-01,\n",
       "           3.9096e-01,  3.6007e-01,  3.0714e-01,  2.2169e-01,  8.5236e-02,\n",
       "          -5.8468e-02, -1.7189e-01, -2.3009e-01, -2.1799e-01, -2.1054e-01,\n",
       "          -2.6697e-01, -2.4396e-01, -1.2618e-01, -3.5851e-02, -3.3854e-02,\n",
       "          -6.0285e-02,  6.8216e-03,  6.6124e-02,  6.0250e-02,  1.0076e-01,\n",
       "           1.1309e-01,  9.5515e-02,  7.9606e-02,  7.9525e-02,  1.0051e-01,\n",
       "           6.6685e-02,  9.9443e-03, -6.0742e-02, -1.7491e-01, -2.1288e-01,\n",
       "          -1.8077e-01, -2.0511e-01, -2.3718e-01, -1.9295e-01, -1.8512e-01,\n",
       "          -1.6233e-01, -1.0589e-01, -4.8059e-02,  3.3014e-02,  7.2616e-02,\n",
       "           5.6981e-02,  4.1695e-02,  3.4603e-02,  2.6580e-02,  3.7522e-02,\n",
       "           4.4383e-02,  1.1874e-02, -6.9820e-02, -1.3221e-01, -1.5236e-01,\n",
       "          -5.1817e-02,  1.3084e-02,  8.4368e-02,  9.7496e-02,  6.7781e-02,\n",
       "           1.2256e-01,  2.5376e-01,  2.4310e-01,  2.1301e-01,  1.6349e-01,\n",
       "           9.4545e-02,  6.1676e-03, -1.0164e-01, -2.2887e-01]]],\n",
       "       dtype=torch.float64)"
      ]
     },
     "execution_count": 25,
     "metadata": {},
     "output_type": "execute_result"
    }
   ],
   "source": [
    "input_tensor = torch.stack((torch.tensor(current), torch.tensor(position_error)))\n",
    "input_tensor = input_tensor.unsqueeze(dim=0)\n",
    "input_tensor"
   ]
  },
  {
   "cell_type": "code",
   "execution_count": 26,
   "metadata": {},
   "outputs": [],
   "source": [
    "def deduce_dilation_values(\n",
    "        max_kernel_span: int,\n",
    "        kernel_length: int,\n",
    "        max_dilations: int,\n",
    "    ) -> None:\n",
    "        \"\"\"Create dilation values following the scheme in the original paper.\n",
    "\n",
    "        Dilation values are chosen according to the number of observations\n",
    "        with the formula in the paper.\n",
    "        \"\"\"\n",
    "        max_exponent = math.log((max_kernel_span - 1) / (kernel_length - 1), 2)\n",
    "        integers = (\n",
    "            (2 ** torch.linspace(0, max_exponent, max_dilations)).to(dtype=int).tolist()\n",
    "        )\n",
    "        return list(set(integers))"
   ]
  },
  {
   "cell_type": "code",
   "execution_count": 27,
   "metadata": {},
   "outputs": [
    {
     "data": {
      "text/plain": [
       "[1, 2, 3, 4, 5, 6, 7, 8, 9, 10, 12, 13, 15, 17, 19, 22, 25, 28, 31, 35, 40]"
      ]
     },
     "execution_count": 27,
     "metadata": {},
     "output_type": "execute_result"
    }
   ],
   "source": [
    "dilations = deduce_dilation_values(max_kernel_span=input_tensor.shape[-1], kernel_length=9, max_dilations=32)\n",
    "dilations"
   ]
  },
  {
   "cell_type": "code",
   "execution_count": 28,
   "metadata": {},
   "outputs": [],
   "source": [
    "rocket_conv = RocketConv(in_channels=2, dilation=dilations[1])"
   ]
  },
  {
   "cell_type": "code",
   "execution_count": 29,
   "metadata": {},
   "outputs": [],
   "source": [
    "conv = rocket_conv(input_tensor.float())"
   ]
  },
  {
   "cell_type": "code",
   "execution_count": 30,
   "metadata": {},
   "outputs": [
    {
     "data": {
      "text/plain": [
       "tensor([[[[-3.3463, -3.5194, -4.0285,  ...,  2.8676,  3.9219,  3.9150],\n",
       "          [-3.3463, -3.5194, -2.7790,  ...,  2.9169,  3.9825,  3.9869]],\n",
       "\n",
       "         [[-2.0968, -1.9607, -2.2070,  ...,  2.9888,  4.0657,  4.0814],\n",
       "          [-1.5248, -1.4818, -1.8213,  ...,  3.0833,  0.9114,  0.8770]],\n",
       "\n",
       "         [[-1.1390, -1.1892, -1.6218,  ..., -0.1211,  0.9114,  0.8770],\n",
       "          [-0.9396, -1.0829, -1.6746,  ..., -0.1211,  0.9114,  0.8770]],\n",
       "\n",
       "         ...,\n",
       "\n",
       "         [[11.6839, 13.1794, 13.2138,  ..., -0.3854, -0.8324, -0.9931],\n",
       "          [13.6871, 14.5702, 13.7185,  ..., -0.3854, -0.8324, -0.9931]],\n",
       "\n",
       "         [[15.6317, 17.1932, 17.0546,  ..., -1.0906, -0.5275, -0.3064],\n",
       "          [16.1363, 17.0194, 16.4416,  ..., -1.0906, -0.5275, -0.3064]],\n",
       "\n",
       "         [[18.1394, 18.4103, 16.9462,  ..., -1.0906, -0.5275, -0.3064],\n",
       "          [21.3672, 21.0257, 18.9493,  ..., -0.4039, -0.5275, -0.3064]]]])"
      ]
     },
     "execution_count": 30,
     "metadata": {},
     "output_type": "execute_result"
    }
   ],
   "source": [
    "conv"
   ]
  },
  {
   "cell_type": "code",
   "execution_count": 31,
   "metadata": {},
   "outputs": [],
   "source": [
    "channel_mix = ChannelMix(in_channels=rocket_conv.in_channels, in_kernels=rocket_conv.num_kernels)"
   ]
  },
  {
   "cell_type": "code",
   "execution_count": 32,
   "metadata": {},
   "outputs": [],
   "source": [
    "chan_mix = channel_mix(conv)"
   ]
  },
  {
   "cell_type": "code",
   "execution_count": 33,
   "metadata": {},
   "outputs": [
    {
     "data": {
      "text/plain": [
       "tensor([[[[-3.3463, -3.5194, -4.0285,  ...,  2.8676,  3.9219,  3.9150],\n",
       "          [-3.3463, -3.5194, -2.7790,  ...,  2.9169,  3.9825,  3.9869]],\n",
       "\n",
       "         [[-2.0968, -1.9607, -2.2070,  ...,  2.9888,  4.0657,  4.0814],\n",
       "          [-1.5248, -1.4818, -1.8213,  ...,  3.0833,  0.9114,  0.8770]],\n",
       "\n",
       "         [[-1.1390, -1.1892, -1.6218,  ..., -0.1211,  0.9114,  0.8770],\n",
       "          [-0.9396, -1.0829, -1.6746,  ..., -0.1211,  0.9114,  0.8770]],\n",
       "\n",
       "         ...,\n",
       "\n",
       "         [[11.6839, 13.1794, 13.2138,  ..., -0.3854, -0.8324, -0.9931],\n",
       "          [13.6871, 14.5702, 13.7185,  ..., -0.3854, -0.8324, -0.9931]],\n",
       "\n",
       "         [[15.6317, 17.1932, 17.0546,  ..., -1.0906, -0.5275, -0.3064],\n",
       "          [16.1363, 17.0194, 16.4416,  ..., -1.0906, -0.5275, -0.3064]],\n",
       "\n",
       "         [[18.1394, 18.4103, 16.9462,  ..., -1.0906, -0.5275, -0.3064],\n",
       "          [21.3672, 21.0257, 18.9493,  ..., -0.4039, -0.5275, -0.3064]]]])"
      ]
     },
     "execution_count": 33,
     "metadata": {},
     "output_type": "execute_result"
    }
   ],
   "source": [
    "chan_mix"
   ]
  },
  {
   "cell_type": "code",
   "execution_count": 34,
   "metadata": {},
   "outputs": [],
   "source": [
    "ppv_thresholds = PPVThresholds(num_thresholds=1)"
   ]
  },
  {
   "cell_type": "code",
   "execution_count": 35,
   "metadata": {},
   "outputs": [],
   "source": [
    "ppv_thresholds.fit(chan_mix)"
   ]
  },
  {
   "cell_type": "code",
   "execution_count": 36,
   "metadata": {},
   "outputs": [
    {
     "data": {
      "text/plain": [
       "tensor([[[[0.3827],\n",
       "          [0.3827]],\n",
       "\n",
       "         [[0.3827],\n",
       "          [0.3827]],\n",
       "\n",
       "         [[0.3827],\n",
       "          [0.3827]],\n",
       "\n",
       "         [[0.3827],\n",
       "          [0.3827]],\n",
       "\n",
       "         [[0.3827],\n",
       "          [0.3827]],\n",
       "\n",
       "         [[0.3827],\n",
       "          [0.3827]],\n",
       "\n",
       "         [[0.3827],\n",
       "          [0.3827]],\n",
       "\n",
       "         [[0.3827],\n",
       "          [0.3827]],\n",
       "\n",
       "         [[0.3827],\n",
       "          [0.3827]],\n",
       "\n",
       "         [[0.3827],\n",
       "          [0.3827]],\n",
       "\n",
       "         [[0.3827],\n",
       "          [0.3827]],\n",
       "\n",
       "         [[0.3827],\n",
       "          [0.3827]],\n",
       "\n",
       "         [[0.3827],\n",
       "          [0.3827]],\n",
       "\n",
       "         [[0.3827],\n",
       "          [0.3827]],\n",
       "\n",
       "         [[0.3827],\n",
       "          [0.3827]],\n",
       "\n",
       "         [[0.3827],\n",
       "          [0.3827]],\n",
       "\n",
       "         [[0.3827],\n",
       "          [0.3827]],\n",
       "\n",
       "         [[0.3827],\n",
       "          [0.3827]],\n",
       "\n",
       "         [[0.3827],\n",
       "          [0.3827]],\n",
       "\n",
       "         [[0.3827],\n",
       "          [0.3827]],\n",
       "\n",
       "         [[0.3827],\n",
       "          [0.3827]],\n",
       "\n",
       "         [[0.3827],\n",
       "          [0.3827]],\n",
       "\n",
       "         [[0.3827],\n",
       "          [0.3827]],\n",
       "\n",
       "         [[0.3827],\n",
       "          [0.3827]],\n",
       "\n",
       "         [[0.3827],\n",
       "          [0.3827]],\n",
       "\n",
       "         [[0.3827],\n",
       "          [0.3827]],\n",
       "\n",
       "         [[0.3827],\n",
       "          [0.3827]],\n",
       "\n",
       "         [[0.3827],\n",
       "          [0.3827]],\n",
       "\n",
       "         [[0.3827],\n",
       "          [0.3827]],\n",
       "\n",
       "         [[0.3827],\n",
       "          [0.3827]],\n",
       "\n",
       "         [[0.3827],\n",
       "          [0.3827]],\n",
       "\n",
       "         [[0.3827],\n",
       "          [0.3827]],\n",
       "\n",
       "         [[0.3827],\n",
       "          [0.3827]],\n",
       "\n",
       "         [[0.3827],\n",
       "          [0.3827]],\n",
       "\n",
       "         [[0.3827],\n",
       "          [0.3827]],\n",
       "\n",
       "         [[0.3827],\n",
       "          [0.3827]],\n",
       "\n",
       "         [[0.3827],\n",
       "          [0.3827]],\n",
       "\n",
       "         [[0.3827],\n",
       "          [0.3827]],\n",
       "\n",
       "         [[0.3827],\n",
       "          [0.3827]],\n",
       "\n",
       "         [[0.3827],\n",
       "          [0.3827]],\n",
       "\n",
       "         [[0.3827],\n",
       "          [0.3827]],\n",
       "\n",
       "         [[0.3827],\n",
       "          [0.3827]],\n",
       "\n",
       "         [[0.3827],\n",
       "          [0.3827]],\n",
       "\n",
       "         [[0.3827],\n",
       "          [0.3827]],\n",
       "\n",
       "         [[0.3827],\n",
       "          [0.3827]],\n",
       "\n",
       "         [[0.3827],\n",
       "          [0.3827]],\n",
       "\n",
       "         [[0.3827],\n",
       "          [0.3827]],\n",
       "\n",
       "         [[0.3827],\n",
       "          [0.3827]],\n",
       "\n",
       "         [[0.3827],\n",
       "          [0.3827]],\n",
       "\n",
       "         [[0.3827],\n",
       "          [0.3827]],\n",
       "\n",
       "         [[0.3827],\n",
       "          [0.3827]],\n",
       "\n",
       "         [[0.3827],\n",
       "          [0.3827]],\n",
       "\n",
       "         [[0.3827],\n",
       "          [0.3827]],\n",
       "\n",
       "         [[0.3827],\n",
       "          [0.3827]],\n",
       "\n",
       "         [[0.3827],\n",
       "          [0.3827]],\n",
       "\n",
       "         [[0.3827],\n",
       "          [0.3827]],\n",
       "\n",
       "         [[0.3827],\n",
       "          [0.3827]],\n",
       "\n",
       "         [[0.3827],\n",
       "          [0.3827]],\n",
       "\n",
       "         [[0.3827],\n",
       "          [0.3827]],\n",
       "\n",
       "         [[0.3827],\n",
       "          [0.3827]],\n",
       "\n",
       "         [[0.3827],\n",
       "          [0.3827]],\n",
       "\n",
       "         [[0.3827],\n",
       "          [0.3827]],\n",
       "\n",
       "         [[0.3827],\n",
       "          [0.3827]],\n",
       "\n",
       "         [[0.3827],\n",
       "          [0.3827]],\n",
       "\n",
       "         [[0.3827],\n",
       "          [0.3827]],\n",
       "\n",
       "         [[0.3827],\n",
       "          [0.3827]],\n",
       "\n",
       "         [[0.3827],\n",
       "          [0.3827]],\n",
       "\n",
       "         [[0.3827],\n",
       "          [0.3827]],\n",
       "\n",
       "         [[0.3827],\n",
       "          [0.3827]],\n",
       "\n",
       "         [[0.3827],\n",
       "          [0.3827]],\n",
       "\n",
       "         [[0.3827],\n",
       "          [0.3827]],\n",
       "\n",
       "         [[0.3827],\n",
       "          [0.3827]],\n",
       "\n",
       "         [[0.3827],\n",
       "          [0.3827]],\n",
       "\n",
       "         [[0.3827],\n",
       "          [0.3827]],\n",
       "\n",
       "         [[0.3827],\n",
       "          [0.3827]],\n",
       "\n",
       "         [[0.3827],\n",
       "          [0.3827]],\n",
       "\n",
       "         [[0.3827],\n",
       "          [0.3827]],\n",
       "\n",
       "         [[0.3827],\n",
       "          [0.3827]],\n",
       "\n",
       "         [[0.3827],\n",
       "          [0.3827]],\n",
       "\n",
       "         [[0.3827],\n",
       "          [0.3827]],\n",
       "\n",
       "         [[0.3827],\n",
       "          [0.3827]],\n",
       "\n",
       "         [[0.3827],\n",
       "          [0.3827]],\n",
       "\n",
       "         [[0.3827],\n",
       "          [0.3827]],\n",
       "\n",
       "         [[0.3827],\n",
       "          [0.3827]]]])"
      ]
     },
     "execution_count": 36,
     "metadata": {},
     "output_type": "execute_result"
    }
   ],
   "source": [
    "thres = ppv_thresholds(chan_mix)\n",
    "thres"
   ]
  },
  {
   "cell_type": "code",
   "execution_count": null,
   "metadata": {},
   "outputs": [],
   "source": [
    "rocket = Rocket(in_channels=input_tensor.shape[1], max_kernel_span=20)"
   ]
  },
  {
   "cell_type": "code",
   "execution_count": null,
   "metadata": {},
   "outputs": [],
   "source": [
    "rocket.fit(input_tensor.float())\n",
    "emb = rocket(input_tensor.float())"
   ]
  },
  {
   "cell_type": "code",
   "execution_count": null,
   "metadata": {},
   "outputs": [
    {
     "data": {
      "text/plain": [
       "torch.Size([1, 9744])"
      ]
     },
     "execution_count": 102,
     "metadata": {},
     "output_type": "execute_result"
    }
   ],
   "source": [
    "emb.shape"
   ]
  },
  {
   "cell_type": "code",
   "execution_count": null,
   "metadata": {},
   "outputs": [
    {
     "data": {
      "text/plain": [
       "tensor([[0.3827, 0.7623, 0.1481,  ..., 0.3148, 0.6944, 0.0772]])"
      ]
     },
     "execution_count": 103,
     "metadata": {},
     "output_type": "execute_result"
    }
   ],
   "source": [
    "emb"
   ]
  },
  {
   "cell_type": "code",
   "execution_count": null,
   "metadata": {},
   "outputs": [
    {
     "data": {
      "text/plain": [
       "torch.Size([1, 1, 324])"
      ]
     },
     "execution_count": 104,
     "metadata": {},
     "output_type": "execute_result"
    }
   ],
   "source": [
    "current_tensor = torch.tensor(current).unsqueeze(dim=0).unsqueeze(dim=0)\n",
    "current_tensor.shape"
   ]
  },
  {
   "cell_type": "code",
   "execution_count": null,
   "metadata": {},
   "outputs": [],
   "source": [
    "rocket = Rocket(in_channels=current_tensor.shape[1], max_kernel_span=25)"
   ]
  },
  {
   "cell_type": "code",
   "execution_count": null,
   "metadata": {},
   "outputs": [],
   "source": [
    "rocket.fit(current_tensor.float())"
   ]
  },
  {
   "cell_type": "code",
   "execution_count": null,
   "metadata": {},
   "outputs": [
    {
     "data": {
      "text/plain": [
       "tensor([[0.3827, 0.7623, 0.1481,  ..., 0.1327, 0.5154, 0.8951]])"
      ]
     },
     "execution_count": 107,
     "metadata": {},
     "output_type": "execute_result"
    }
   ],
   "source": [
    "cur_emb = rocket(current_tensor.float())\n",
    "cur_emb.shape\n",
    "cur_emb"
   ]
  },
  {
   "cell_type": "code",
   "execution_count": null,
   "metadata": {},
   "outputs": [
    {
     "data": {
      "image/png": "[encoded data removed]",
      "text/plain": [
       "<Figure size 640x480 with 1 Axes>"
      ]
     },
     "metadata": {},
     "output_type": "display_data"
    }
   ],
   "source": [
    "import numpy as np\n",
    "import matplotlib.pyplot as plt\n",
    "\n",
    "cur_emb_features = cur_emb.squeeze().tolist()\n",
    "plt.scatter(np.arange(len(cur_emb_features)), cur_emb_features)\n",
    "plt.show()"
   ]
  },
  {
   "cell_type": "code",
   "execution_count": null,
   "metadata": {},
   "outputs": [],
   "source": [
    "from tsai.imports import default_device\n",
    "from tsai.models import MINIROCKET_Pytorch"
   ]
  },
  {
   "cell_type": "code",
   "execution_count": null,
   "metadata": {},
   "outputs": [],
   "source": [
    "mrf = MINIROCKET_Pytorch.MiniRocketFeatures(c_in=1, seq_len=len(current)).to(default_device())"
   ]
  },
  {
   "cell_type": "code",
   "execution_count": null,
   "metadata": {},
   "outputs": [],
   "source": [
    "mrf.fit(current_tensor.float().to(default_device()))"
   ]
  },
  {
   "cell_type": "code",
   "execution_count": null,
   "metadata": {},
   "outputs": [],
   "source": [
    "f = MINIROCKET_Pytorch.get_minirocket_features(current_tensor.float().to(default_device()), mrf)"
   ]
  },
  {
   "cell_type": "code",
   "execution_count": null,
   "metadata": {},
   "outputs": [
    {
     "data": {
      "text/plain": [
       "array([0.38271606, 0.7623457 , 0.14814815, ..., 1.        , 1.        ,\n",
       "       0.5       ], dtype=float32)"
      ]
     },
     "execution_count": 84,
     "metadata": {},
     "output_type": "execute_result"
    }
   ],
   "source": [
    "f.squeeze()"
   ]
  },
  {
   "cell_type": "code",
   "execution_count": null,
   "metadata": {},
   "outputs": [
    {
     "data": {
      "image/png": "[encoded data removed]",
      "text/plain": [
       "<Figure size 640x480 with 1 Axes>"
      ]
     },
     "metadata": {},
     "output_type": "display_data"
    }
   ],
   "source": [
    "plt.scatter(np.arange(len(f.squeeze())), f.squeeze())\n",
    "plt.show()"
   ]
  },
  {
   "cell_type": "code",
   "execution_count": 4,
   "metadata": {},
   "outputs": [],
   "source": [
    "import numpy as np\n",
    "from rocket_rag.transform import rocket_transform"
   ]
  },
  {
   "cell_type": "code",
   "execution_count": 5,
   "metadata": {},
   "outputs": [],
   "source": [
    "cur_array = np.expand_dims(np.array(current, dtype=np.float32), axis=(0, 1))"
   ]
  },
  {
   "cell_type": "code",
   "execution_count": 6,
   "metadata": {},
   "outputs": [
    {
     "data": {
      "text/plain": [
       "array([0.38271606, 0.7623457 , 0.14814815, ..., 1.        , 1.        ,\n",
       "       0.5       ], dtype=float32)"
      ]
     },
     "execution_count": 6,
     "metadata": {},
     "output_type": "execute_result"
    }
   ],
   "source": [
    "rocket_transform(cur_array)"
   ]
  },
  {
   "cell_type": "code",
   "execution_count": null,
   "metadata": {},
   "outputs": [],
   "source": []
  }
 ],
 "metadata": {
  "kernelspec": {
   "display_name": "agent",
   "language": "python",
   "name": "python3"
  },
  "language_info": {
   "codemirror_mode": {
    "name": "ipython",
    "version": 3
   },
   "file_extension": ".py",
   "mimetype": "text/x-python",
   "name": "python",
   "nbconvert_exporter": "python",
   "pygments_lexer": "ipython3",
   "version": "3.11.5"
  }
 },
 "nbformat": 4,
 "nbformat_minor": 2
}
