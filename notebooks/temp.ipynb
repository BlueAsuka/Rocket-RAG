{
 "cells": [
  {
   "cell_type": "code",
   "execution_count": 1,
   "metadata": {},
   "outputs": [],
   "source": [
    "import os\n",
    "import re\n",
    "import random\n",
    "import shutil"
   ]
  },
  {
   "cell_type": "code",
   "execution_count": 2,
   "metadata": {},
   "outputs": [],
   "source": [
    "load = '20kg'"
   ]
  },
  {
   "cell_type": "code",
   "execution_count": 3,
   "metadata": {},
   "outputs": [],
   "source": [
    "refined_state = ['no_obvious_fault', 'light_spalling', 'medium_spalling', 'heavy_spalling', 'backlash', 'lack_lubrication']"
   ]
  },
  {
   "cell_type": "code",
   "execution_count": 4,
   "metadata": {},
   "outputs": [],
   "source": [
    "if not os.path.exists(f'../data/re_instances/{load}'):\n",
    "    os.mkdir(f'../data/re_instances/{load}')\n",
    "\n",
    "for rf in refined_state:\n",
    "    if os.path.exists(f'../data/re_instances/{load}/{rf}'):\n",
    "        shutil.rmtree(f'../data/re_instances/{load}/{rf}')\n",
    "    if not os.path.exists(f'../data/re_instances/{load}/{rf}'):\n",
    "        os.mkdir(f'../data/re_instances/{load}/{rf}')"
   ]
  },
  {
   "cell_type": "code",
   "execution_count": 5,
   "metadata": {},
   "outputs": [
    {
     "name": "stdout",
     "output_type": "stream",
     "text": [
      "['backlash1', 'backlash2', 'lackLubrication1', 'lackLubrication2', 'normal', 'spalling1', 'spalling2', 'spalling3', 'spalling4', 'spalling5', 'spalling6', 'spalling7', 'spalling8']\n"
     ]
    }
   ],
   "source": [
    "states_dirs = os.listdir(f'../data/instances/{load}')\n",
    "print(states_dirs)"
   ]
  },
  {
   "cell_type": "code",
   "execution_count": 6,
   "metadata": {},
   "outputs": [
    {
     "name": "stdout",
     "output_type": "stream",
     "text": [
      "['backlash', 'heavy_spalling', 'lack_lubrication', 'light_spalling', 'medium_spalling', 'no_obvious_fault']\n"
     ]
    }
   ],
   "source": [
    "re_states_dir = os.listdir(f'../data/re_instances/{load}')\n",
    "print(re_states_dir)"
   ]
  },
  {
   "cell_type": "code",
   "execution_count": 7,
   "metadata": {},
   "outputs": [],
   "source": [
    "def get_refine_state(state):\n",
    "    if state == 'backlash2':\n",
    "        return 'backlash'\n",
    "    elif state == 'lackLubrication1' or state == 'lackLubrication2':\n",
    "        return 'lack_lubrication'\n",
    "    elif state == 'spalling7' or state == 'spalling8':\n",
    "        return 'heavy_spalling'\n",
    "    elif state == 'spalling5' or state == 'spalling6':\n",
    "        return 'medium_spalling'\n",
    "    elif state == 'spalling3' or state == 'spalling4':\n",
    "        return 'light_spalling'\n",
    "    else:\n",
    "        return 'no_obvious_fault'"
   ]
  },
  {
   "cell_type": "code",
   "execution_count": 9,
   "metadata": {},
   "outputs": [],
   "source": [
    "random.seed(42)\n",
    "for state in states_dirs:\n",
    "    src_dir = f'../data/instances/{load}/{state}'\n",
    "    re_state = get_refine_state(state)\n",
    "    dst_dir = f'../data/re_instances/{load}/{re_state}'\n",
    "    for file in os.listdir(src_dir):\n",
    "        if file.endswith('.csv'):\n",
    "            shutil.copy(os.path.join(src_dir, file), os.path.join(dst_dir, f'{re_state}_{random.randint(0, 10000)}.csv'))"
   ]
  },
  {
   "cell_type": "code",
   "execution_count": null,
   "metadata": {},
   "outputs": [],
   "source": []
  }
 ],
 "metadata": {
  "kernelspec": {
   "display_name": "agents2",
   "language": "python",
   "name": "python3"
  },
  "language_info": {
   "codemirror_mode": {
    "name": "ipython",
    "version": 3
   },
   "file_extension": ".py",
   "mimetype": "text/x-python",
   "name": "python",
   "nbconvert_exporter": "python",
   "pygments_lexer": "ipython3",
   "version": "3.11.5"
  }
 },
 "nbformat": 4,
 "nbformat_minor": 2
}
