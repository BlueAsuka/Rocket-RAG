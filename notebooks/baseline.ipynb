{
 "cells": [
  {
   "cell_type": "code",
   "execution_count": 108,
   "metadata": {},
   "outputs": [],
   "source": [
    "import os\n",
    "import ast\n",
    "import sys\n",
    "sys.path.append('../')\n",
    "\n",
    "import numpy as np\n",
    "import pandas as pd\n",
    "\n",
    "from rocket_rag.transform import *\n",
    "# Import necessary libraries\n",
    "from tsai.all import *\n",
    "from sklearn.metrics import accuracy_score"
   ]
  },
  {
   "cell_type": "code",
   "execution_count": 41,
   "metadata": {},
   "outputs": [],
   "source": [
    "cfg = json.load(open(\"../config/configs.json\"))\n",
    "ts_transform = TimeSeriesTransform(cfg)"
   ]
  },
  {
   "cell_type": "code",
   "execution_count": 54,
   "metadata": {},
   "outputs": [],
   "source": [
    "INSTANCES_DIR = '../data/instances/'\n",
    "INFERENCE_DIR = '../data/inference/'\n",
    "\n",
    "STATES = ['normal', \n",
    "            'backlash1', 'backlash2',\n",
    "            'lackLubrication1', 'lackLubrication2',\n",
    "            'spalling1', 'spalling2', 'spalling3', 'spalling4', 'spalling5', 'spalling6', 'spalling7', 'spalling8']\n",
    "LOADS= ['20kg', '40kg', '-40kg']"
   ]
  },
  {
   "cell_type": "code",
   "execution_count": 55,
   "metadata": {},
   "outputs": [],
   "source": [
    "load = '20kg'\n",
    "filenames = [os.listdir(os.path.join(INSTANCES_DIR, load, state)) for state in STATES]\n",
    "filenames = [filename for sublist in filenames for filename in sublist]"
   ]
  },
  {
   "cell_type": "code",
   "execution_count": 56,
   "metadata": {},
   "outputs": [],
   "source": [
    "test_filenames = [os.listdir(os.path.join(INFERENCE_DIR, load, state)) for state in STATES]\n",
    "test_filenames = [filename for sublist in test_filenames for filename in sublist]"
   ]
  },
  {
   "cell_type": "code",
   "execution_count": 57,
   "metadata": {},
   "outputs": [],
   "source": [
    "X, y = [], []\n",
    "for filename in filenames:\n",
    "    load_num = load[:2]\n",
    "    state = re.match(fr'(.*)_{load_num}', filename).group(1)\n",
    "    df = pd.read_csv(os.path.join(INSTANCES_DIR, load, state, filename))\n",
    "    tmp_cur = ts_transform.smoothing(ts_df=df, field='current')\n",
    "    # tmp_pos = ts_transform.smoothing(ts_df=df, field='position_error')\n",
    "    X.append(tmp_cur)\n",
    "    y.append(state)"
   ]
  },
  {
   "cell_type": "code",
   "execution_count": 58,
   "metadata": {},
   "outputs": [],
   "source": [
    "X_t, y_t = [], []\n",
    "for filename in test_filenames:\n",
    "    load_num = load[:2]\n",
    "    state = re.match(fr'(.*)_{load_num}', filename).group(1)\n",
    "    df = pd.read_csv(os.path.join(INFERENCE_DIR, load, state, filename))\n",
    "    tmp_cur = ts_transform.smoothing(ts_df=df, field='current')\n",
    "    # tmp_pos = ts_transform.smoothing(ts_df=df, field='position_error')\n",
    "    X_t.append(tmp_cur)\n",
    "    y_t.append(state)"
   ]
  },
  {
   "cell_type": "code",
   "execution_count": 59,
   "metadata": {},
   "outputs": [],
   "source": [
    "X = np.array(X)\n",
    "y = np.array(y)\n",
    "X_t = np.array(X_t)\n",
    "y_t = np.array(y_t)"
   ]
  },
  {
   "cell_type": "code",
   "execution_count": 60,
   "metadata": {},
   "outputs": [],
   "source": [
    "X, y, splits = combine_split_data([X], [y]) \n",
    "X_t, y_t, splits = combine_split_data([X_t], [y_t])"
   ]
  },
  {
   "cell_type": "code",
   "execution_count": 47,
   "metadata": {},
   "outputs": [],
   "source": [
    "tfms = [None, [Categorize()]]\n",
    "dls = get_ts_dls(X, y, splits=splits, tfms=tfms, bs=[64, 128])"
   ]
  },
  {
   "cell_type": "code",
   "execution_count": null,
   "metadata": {},
   "outputs": [],
   "source": [
    "# Create and train the model\n",
    "accuracy_list = []\n",
    "for i in range(1, 6):\n",
    "    print(f\"Model {i}\")\n",
    "    learn = ts_learner(dls, InceptionTime, metrics=accuracy, verbose=False)\n",
    "    learn.fit_one_cycle(300)\n",
    "    probas, targets, preds = learn.get_X_preds(X_t, y_t, with_decoded=True)\n",
    "    # Convert the string to a list\n",
    "    preditions = ast.literal_eval(preds)\n",
    "    # Calculate accuracy or other metrics as needed\n",
    "    accuracy_list.append(sum(preditions == y_t) / len(y_t)*100)"
   ]
  },
  {
   "cell_type": "code",
   "execution_count": 116,
   "metadata": {},
   "outputs": [
    {
     "data": {
      "text/plain": [
       "86.15384615384616"
      ]
     },
     "execution_count": 116,
     "metadata": {},
     "output_type": "execute_result"
    }
   ],
   "source": [
    "np.mean(accuracy_list)"
   ]
  },
  {
   "cell_type": "code",
   "execution_count": null,
   "metadata": {},
   "outputs": [],
   "source": []
  }
 ],
 "metadata": {
  "kernelspec": {
   "display_name": "agent",
   "language": "python",
   "name": "python3"
  },
  "language_info": {
   "codemirror_mode": {
    "name": "ipython",
    "version": 3
   },
   "file_extension": ".py",
   "mimetype": "text/x-python",
   "name": "python",
   "nbconvert_exporter": "python",
   "pygments_lexer": "ipython3",
   "version": "3.11.5"
  }
 },
 "nbformat": 4,
 "nbformat_minor": 2
}
