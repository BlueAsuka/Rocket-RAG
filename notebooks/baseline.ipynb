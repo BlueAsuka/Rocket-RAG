{
 "cells": [
  {
   "cell_type": "code",
   "execution_count": 36,
   "metadata": {},
   "outputs": [],
   "source": [
    "import os\n",
    "import ast\n",
    "import sys\n",
    "sys.path.append('../')\n",
    "\n",
    "import numpy as np\n",
    "import pandas as pd\n",
    "\n",
    "from rocket_rag.transform import *\n",
    "# Import necessary libraries\n",
    "from tsai.all import *\n",
    "from sklearn.metrics import accuracy_score"
   ]
  },
  {
   "cell_type": "code",
   "execution_count": 37,
   "metadata": {},
   "outputs": [],
   "source": [
    "cfg = json.load(open(\"../config/configs.json\"))\n",
    "ts_transform = TimeSeriesTransform(cfg)"
   ]
  },
  {
   "cell_type": "code",
   "execution_count": 38,
   "metadata": {},
   "outputs": [],
   "source": [
    "INSTANCES_DIR = '../data/instances/'\n",
    "INFERENCE_DIR = '../data/inference/'\n",
    "\n",
    "STATES = ['normal', \n",
    "            'backlash1', 'backlash2',\n",
    "            'lackLubrication1', 'lackLubrication2',\n",
    "            'spalling1', 'spalling2', 'spalling3', 'spalling4', 'spalling5', 'spalling6', 'spalling7', 'spalling8']\n",
    "LOADS= ['20kg', '40kg', '-40kg']"
   ]
  },
  {
   "cell_type": "code",
   "execution_count": 48,
   "metadata": {},
   "outputs": [],
   "source": [
    "load = '20kg'\n",
    "filenames = [os.listdir(os.path.join(INSTANCES_DIR, load, state)) for state in STATES]\n",
    "filenames = [filename for sublist in filenames for filename in sublist]\n",
    "\n",
    "X, y = [], []\n",
    "for filename in filenames:\n",
    "    load_num = load[:2]\n",
    "    state = re.match(fr'(.*)_{load_num}', filename).group(1)\n",
    "    df = pd.read_csv(os.path.join(INSTANCES_DIR, load, state, filename))\n",
    "    tmp_cur = ts_transform.smoothing(ts_df=df, field='current')\n",
    "    # tmp_pos = ts_transform.smoothing(ts_df=df, field='position_error')\n",
    "    X.append(tmp_cur)\n",
    "    y.append(state)\n",
    "\n",
    "X = np.array(X)\n",
    "y = np.array(y)\n",
    "\n",
    "X, y, splits = combine_split_data([X], [y]) "
   ]
  },
  {
   "cell_type": "code",
   "execution_count": 49,
   "metadata": {},
   "outputs": [],
   "source": [
    "tfms = [None, [Categorize()]]\n",
    "dls = get_ts_dls(X, y, splits=splits, tfms=tfms, bs=[64, 128])"
   ]
  },
  {
   "cell_type": "code",
   "execution_count": 56,
   "metadata": {},
   "outputs": [],
   "source": [
    "test_filenames = [os.listdir(os.path.join(INFERENCE_DIR, load, state)) for state in STATES]\n",
    "test_filenames = [filename for sublist in test_filenames for filename in sublist]\n",
    "\n",
    "X_t, y_t = [], []\n",
    "for filename in test_filenames:\n",
    "    load_num = load[:2]\n",
    "    state = re.match(fr'(.*)_{load_num}', filename).group(1)\n",
    "    df = pd.read_csv(os.path.join(INFERENCE_DIR, load, state, filename))\n",
    "    tmp_cur = ts_transform.smoothing(ts_df=df, field='current')\n",
    "    # tmp_pos = ts_transform.smoothing(ts_df=df, field='position_error')\n",
    "    X_t.append(tmp_cur)\n",
    "    y_t.append(state)\n",
    "\n",
    "X_t = np.array(X_t)\n",
    "y_t = np.array(y_t)\n",
    "\n",
    "X_t, y_t, splits = combine_split_data([X_t], [y_t])"
   ]
  },
  {
   "cell_type": "code",
   "execution_count": null,
   "metadata": {},
   "outputs": [],
   "source": [
    "# Create and train the InceptionTime model\n",
    "inceptiontime_accuracy_list = []\n",
    "for i in range(1, 6):\n",
    "    print(f\"Model {i}\")\n",
    "    learn = ts_learner(dls, InceptionTime, metrics=accuracy, verbose=False)\n",
    "    learn.fit_one_cycle(300)\n",
    "    probas, targets, preds = learn.get_X_preds(X_t, y_t, with_decoded=True)\n",
    "    # Convert the string to a list\n",
    "    preditions = ast.literal_eval(preds)\n",
    "    # Calculate accuracy or other metrics as needed\n",
    "    inceptiontime_accuracy_list.append(sum(preditions == y_t) / len(y_t)*100)"
   ]
  },
  {
   "cell_type": "code",
   "execution_count": 116,
   "metadata": {},
   "outputs": [
    {
     "data": {
      "text/plain": [
       "86.15384615384616"
      ]
     },
     "execution_count": 116,
     "metadata": {},
     "output_type": "execute_result"
    }
   ],
   "source": [
    "np.mean(inceptiontime_accuracy_list)"
   ]
  },
  {
   "cell_type": "code",
   "execution_count": null,
   "metadata": {},
   "outputs": [],
   "source": [
    "# Create and train the model\n",
    "lstm_fcn_accuracy_list = []\n",
    "for i in range(1, 6):\n",
    "    print(f\"Model {i}\")\n",
    "    learn = ts_learner(dls, LSTM_FCN, metrics=accuracy, verbose=False)\n",
    "    learn.fit_one_cycle(300)\n",
    "    probas, targets, preds = learn.get_X_preds(X_t, y_t, with_decoded=True)\n",
    "    # Convert the string to a list\n",
    "    preditions = ast.literal_eval(preds)\n",
    "    # Calculate accuracy or other metrics as needed\n",
    "    lstm_fcn_accuracy_list.append(sum(preditions == y_t) / len(y_t)*100)"
   ]
  },
  {
   "cell_type": "code",
   "execution_count": 66,
   "metadata": {},
   "outputs": [
    {
     "data": {
      "text/plain": [
       "77.07692307692308"
      ]
     },
     "execution_count": 66,
     "metadata": {},
     "output_type": "execute_result"
    }
   ],
   "source": [
    "np.mean(lstm_fcn_accuracy_list)"
   ]
  },
  {
   "cell_type": "code",
   "execution_count": null,
   "metadata": {},
   "outputs": [],
   "source": [
    "# Create and train the model\n",
    "tst_accuracy_list = []\n",
    "for i in range(1, 6):\n",
    "    print(f\"Model {i}\")\n",
    "    learn = ts_learner(dls, TST, metrics=accuracy, verbose=False)\n",
    "    learn.fit_one_cycle(300)\n",
    "    probas, targets, preds = learn.get_X_preds(X_t, y_t, with_decoded=True)\n",
    "    # Convert the string to a list\n",
    "    preditions = ast.literal_eval(preds)\n",
    "    # Calculate accuracy or other metrics as needed\n",
    "    tst_accuracy_list.append(sum(preditions == y_t) / len(y_t)*100)"
   ]
  },
  {
   "cell_type": "code",
   "execution_count": 73,
   "metadata": {},
   "outputs": [
    {
     "data": {
      "text/plain": [
       "69.07692307692307"
      ]
     },
     "execution_count": 73,
     "metadata": {},
     "output_type": "execute_result"
    }
   ],
   "source": [
    "np.mean(tst_accuracy_list)"
   ]
  },
  {
   "cell_type": "code",
   "execution_count": null,
   "metadata": {},
   "outputs": [],
   "source": [
    "# Create and train the model\n",
    "lstm_accuracy_list = []\n",
    "for i in range(1, 6):\n",
    "    print(f\"Model {i}\")\n",
    "    learn = ts_learner(dls, LSTM, metrics=accuracy, verbose=False)\n",
    "    learn.fit_one_cycle(300)\n",
    "    probas, targets, preds = learn.get_X_preds(X_t, y_t, with_decoded=True)\n",
    "    # Convert the string to a list\n",
    "    preditions = ast.literal_eval(preds)\n",
    "    # Calculate accuracy or other metrics as needed\n",
    "    lstm_accuracy_list.append(sum(preditions == y_t) / len(y_t)*100)"
   ]
  },
  {
   "cell_type": "code",
   "execution_count": 68,
   "metadata": {},
   "outputs": [
    {
     "data": {
      "text/plain": [
       "19.230769230769234"
      ]
     },
     "execution_count": 68,
     "metadata": {},
     "output_type": "execute_result"
    }
   ],
   "source": [
    "np.mean(lstm_accuracy_list)"
   ]
  },
  {
   "cell_type": "code",
   "execution_count": null,
   "metadata": {},
   "outputs": [],
   "source": [
    "# Create and train the model\n",
    "mwdn_accuracy_list = []\n",
    "for i in range(1, 6):\n",
    "    print(f\"Model {i}\")\n",
    "    learn = ts_learner(dls, mWDN, metrics=accuracy, verbose=False)\n",
    "    learn.fit_one_cycle(300)\n",
    "    probas, targets, preds = learn.get_X_preds(X_t, y_t, with_decoded=True)\n",
    "    # Convert the string to a list\n",
    "    preditions = ast.literal_eval(preds)\n",
    "    # Calculate accuracy or other metrics as needed\n",
    "    mwdn_accuracy_list.append(sum(preditions == y_t) / len(y_t)*100)"
   ]
  },
  {
   "cell_type": "code",
   "execution_count": 71,
   "metadata": {},
   "outputs": [
    {
     "data": {
      "text/plain": [
       "73.84615384615384"
      ]
     },
     "execution_count": 71,
     "metadata": {},
     "output_type": "execute_result"
    }
   ],
   "source": [
    "np.mean(mwdn_accuracy_list)"
   ]
  },
  {
   "cell_type": "code",
   "execution_count": null,
   "metadata": {},
   "outputs": [],
   "source": []
  }
 ],
 "metadata": {
  "kernelspec": {
   "display_name": "agents",
   "language": "python",
   "name": "python3"
  },
  "language_info": {
   "codemirror_mode": {
    "name": "ipython",
    "version": 3
   },
   "file_extension": ".py",
   "mimetype": "text/x-python",
   "name": "python",
   "nbconvert_exporter": "python",
   "pygments_lexer": "ipython3",
   "version": "3.11.5"
  }
 },
 "nbformat": 4,
 "nbformat_minor": 2
}
