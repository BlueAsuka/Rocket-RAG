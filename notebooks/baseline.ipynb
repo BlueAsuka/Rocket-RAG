{
 "cells": [
  {
   "cell_type": "code",
   "execution_count": 3,
   "metadata": {},
   "outputs": [],
   "source": [
    "import os\n",
    "import sys\n",
    "sys.path.append('../')\n",
    "import tsai\n",
    "import numpy as np\n",
    "import pandas as pd\n",
    "\n",
    "from rocket_rag.transform import *"
   ]
  },
  {
   "cell_type": "code",
   "execution_count": 4,
   "metadata": {},
   "outputs": [],
   "source": [
    "INFERENCE_DIR = '../data/inference/'\n",
    "STATES = ['normal', \n",
    "            'backlash1', 'backlash2',\n",
    "            'lackLubrication1', 'lackLubrication2',\n",
    "            'spalling1', 'spalling2', 'spalling3', 'spalling4', 'spalling5', 'spalling6', 'spalling7', 'spalling8']\n",
    "LOADS= ['20kg', '40kg', '-40kg']"
   ]
  }
 ],
 "metadata": {
  "kernelspec": {
   "display_name": "agent",
   "language": "python",
   "name": "python3"
  },
  "language_info": {
   "codemirror_mode": {
    "name": "ipython",
    "version": 3
   },
   "file_extension": ".py",
   "mimetype": "text/x-python",
   "name": "python",
   "nbconvert_exporter": "python",
   "pygments_lexer": "ipython3",
   "version": "3.11.5"
  }
 },
 "nbformat": 4,
 "nbformat_minor": 2
}
