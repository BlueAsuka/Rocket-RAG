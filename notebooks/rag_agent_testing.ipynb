{
 "cells": [
  {
   "cell_type": "code",
   "execution_count": 1,
   "metadata": {},
   "outputs": [],
   "source": [
    "import sys\n",
    "sys.path.append('../')\n",
    "\n",
    "from rocket_rag.utils import *\n",
    "from rocket_rag.agent import RagAgent"
   ]
  },
  {
   "cell_type": "code",
   "execution_count": 2,
   "metadata": {},
   "outputs": [],
   "source": [
    "load = '40kg'"
   ]
  },
  {
   "cell_type": "code",
   "execution_count": 3,
   "metadata": {},
   "outputs": [],
   "source": [
    "if_files_dict = parse_files(main_directory=INFERENCE_DIR)\n",
    "if_ts_files = if_files_dict[load]"
   ]
  },
  {
   "cell_type": "code",
   "execution_count": 8,
   "metadata": {},
   "outputs": [
    {
     "name": "stderr",
     "output_type": "stream",
     "text": [
      "\u001b[32m2024-05-29 21:51:23.903\u001b[0m | \u001b[34m\u001b[1mDEBUG   \u001b[0m | \u001b[36mrocket_rag.utils\u001b[0m:\u001b[36mfit_transform\u001b[0m:\u001b[36m149\u001b[0m - \u001b[34m\u001b[1mExtract the time series data points\u001b[0m\n",
      "\u001b[32m2024-05-29 21:51:23.927\u001b[0m | \u001b[1mINFO    \u001b[0m | \u001b[36mrocket_rag.utils\u001b[0m:\u001b[36mfit\u001b[0m:\u001b[36m125\u001b[0m - \u001b[1mtime series extracted SUCCESSFULLY.\u001b[0m\n",
      "\u001b[32m2024-05-29 21:51:23.928\u001b[0m | \u001b[34m\u001b[1mDEBUG   \u001b[0m | \u001b[36mrocket_rag.utils\u001b[0m:\u001b[36mfit_transform\u001b[0m:\u001b[36m161\u001b[0m - \u001b[34m\u001b[1mRocket transforming...\u001b[0m\n"
     ]
    },
    {
     "name": "stdout",
     "output_type": "stream",
     "text": [
      "Randomly selected file: ../data/inference/40kg\\spalling7\\spalling7_40_1_4.csv\n"
     ]
    }
   ],
   "source": [
    "# np.random.seed(37)\n",
    "rand_idx = np.random.randint(0, len(if_ts_files))\n",
    "if_ts_filename = if_ts_files[rand_idx]\n",
    "print(f'Randomly selected file: {if_ts_filename}')\n",
    "\n",
    "if_rocket_feature = fit_transform(ts_filename=[if_ts_filename],\n",
    "                                  field='current',\n",
    "                                  smooth=True,\n",
    "                                  smooth_ws=15,\n",
    "                                  tolist=False,\n",
    "                                  verbo=True)"
   ]
  },
  {
   "cell_type": "code",
   "execution_count": 9,
   "metadata": {},
   "outputs": [
    {
     "name": "stderr",
     "output_type": "stream",
     "text": [
      "\u001b[32m2024-05-29 21:51:25.590\u001b[0m | \u001b[34m\u001b[1mDEBUG   \u001b[0m | \u001b[36mrocket_rag.node_indexing\u001b[0m:\u001b[36mload_node_indexing\u001b[0m:\u001b[36m98\u001b[0m - \u001b[34m\u001b[1mLoading all nodes...\u001b[0m\n",
      "\u001b[32m2024-05-29 21:51:26.108\u001b[0m | \u001b[1mINFO    \u001b[0m | \u001b[36mrocket_rag.node_indexing\u001b[0m:\u001b[36mload_node_indexing\u001b[0m:\u001b[36m102\u001b[0m - \u001b[1mAll nodes are loaded.\u001b[0m\n",
      "\u001b[32m2024-05-29 21:51:26.482\u001b[0m | \u001b[1mINFO    \u001b[0m | \u001b[36mrocket_rag.agent\u001b[0m:\u001b[36m_init_openai_client\u001b[0m:\u001b[36m67\u001b[0m - \u001b[1mOpenAI API key found. OpenAI client Initialized.\u001b[0m\n",
      "\u001b[32m2024-05-29 21:51:26.483\u001b[0m | \u001b[1mINFO    \u001b[0m | \u001b[36mrocket_rag.agent\u001b[0m:\u001b[36m__init__\u001b[0m:\u001b[36m59\u001b[0m - \u001b[1mRAG agent initialized.\u001b[0m\n"
     ]
    }
   ],
   "source": [
    "agent = RagAgent(vs_dir=f'../store/nodes_{load}.pkl')"
   ]
  },
  {
   "cell_type": "code",
   "execution_count": 10,
   "metadata": {},
   "outputs": [
    {
     "name": "stderr",
     "output_type": "stream",
     "text": [
      "\u001b[32m2024-05-29 21:51:27.631\u001b[0m | \u001b[34m\u001b[1mDEBUG   \u001b[0m | \u001b[36mrocket_rag.utils\u001b[0m:\u001b[36mfit_transform\u001b[0m:\u001b[36m149\u001b[0m - \u001b[34m\u001b[1mExtract the time series data points\u001b[0m\n",
      "\u001b[32m2024-05-29 21:51:27.645\u001b[0m | \u001b[1mINFO    \u001b[0m | \u001b[36mrocket_rag.utils\u001b[0m:\u001b[36mfit\u001b[0m:\u001b[36m125\u001b[0m - \u001b[1mtime series extracted SUCCESSFULLY.\u001b[0m\n",
      "\u001b[32m2024-05-29 21:51:27.648\u001b[0m | \u001b[34m\u001b[1mDEBUG   \u001b[0m | \u001b[36mrocket_rag.utils\u001b[0m:\u001b[36mfit_transform\u001b[0m:\u001b[36m161\u001b[0m - \u001b[34m\u001b[1mRocket transforming...\u001b[0m\n"
     ]
    },
    {
     "name": "stdout",
     "output_type": "stream",
     "text": [
      "Rocket feature shape: (1, 20000)\n",
      "Fault prediction: ['spalling7_40_1_5'], Score: 1.0\n"
     ]
    }
   ],
   "source": [
    "rocket_feature = agent.get_rocket_feature(if_ts_filename)\n",
    "print(f'Rocket feature shape: {rocket_feature.shape}')\n",
    "fault_prediction, score = agent.get_fault_prediction()\n",
    "print(f'Fault prediction: {fault_prediction}, Score: {score}')"
   ]
  },
  {
   "cell_type": "code",
   "execution_count": 11,
   "metadata": {},
   "outputs": [
    {
     "name": "stdout",
     "output_type": "stream",
     "text": [
      "{'fault_type': 'spalling', 'degradation_level': 7, 'retrieval_result(s)': 'spalling7_40_1_5', 'score': '1.0', 'distances': [], 'description': 'The actuator is experiencing severe surface damage in the ball-screw mechanism, significantly affecting its smoothness and efficiency. This high level of degradation indicates a critical condition that requires immediate attention.'}\n"
     ]
    }
   ],
   "source": [
    "agent.generate_fault_diagnosis_statement()\n",
    "print(agent.fault_diagnosis_json)"
   ]
  },
  {
   "cell_type": "code",
   "execution_count": 12,
   "metadata": {},
   "outputs": [
    {
     "name": "stdout",
     "output_type": "stream",
     "text": [
      "{'fault_type': 'spalling', 'degradation_level': 7, 'refinement': 'Fault in obvious spalling'}\n"
     ]
    }
   ],
   "source": [
    "agent.refine_fault_diagnosis_statement()\n",
    "print(agent.refined_diagnosis_json)"
   ]
  },
  {
   "cell_type": "code",
   "execution_count": 13,
   "metadata": {},
   "outputs": [
    {
     "name": "stdout",
     "output_type": "stream",
     "text": [
      "['how to repair spalling in linear actuators', 'spalling damage recovery for ballscrew mechanisms', 'best practices for fixing severe surface damage in actuators', 'maintenance tips for actuators with spalling faults', 'diagnosing and treating spalling in linear actuator systems']\n"
     ]
    }
   ],
   "source": [
    "agent.generate_multi_queries()\n",
    "print(agent.generated_queries)"
   ]
  },
  {
   "cell_type": "code",
   "execution_count": 14,
   "metadata": {},
   "outputs": [
    {
     "name": "stdout",
     "output_type": "stream",
     "text": [
      "{'call_google': <function Tools.call_google at 0x0000020802EC65C0>, 'save_to_file': <function Tools.save_to_file at 0x0000020802EC6660>, 'get_available_tools': <function Tools.get_available_tools at 0x0000020802EC6700>}\n"
     ]
    }
   ],
   "source": [
    "print(agent.tools.get_available_tools())"
   ]
  },
  {
   "cell_type": "code",
   "execution_count": 15,
   "metadata": {},
   "outputs": [
    {
     "data": {
      "application/vnd.jupyter.widget-view+json": {
       "model_id": "5ff8df372d84453ba91f6cb3c8abf93f",
       "version_major": 2,
       "version_minor": 0
      },
      "text/plain": [
       "0it [00:00, ?it/s]"
      ]
     },
     "metadata": {},
     "output_type": "display_data"
    },
    {
     "name": "stderr",
     "output_type": "stream",
     "text": [
      "\u001b[32m2024-05-29 21:51:50.089\u001b[0m | \u001b[1mINFO    \u001b[0m | \u001b[36mrocket_rag.agent\u001b[0m:\u001b[36mcall_google_search\u001b[0m:\u001b[36m283\u001b[0m - \u001b[1mCalling Google search API for query 1/5\u001b[0m\n",
      "\u001b[32m2024-05-29 21:52:16.141\u001b[0m | \u001b[1mINFO    \u001b[0m | \u001b[36mrocket_rag.agent\u001b[0m:\u001b[36mcall_google_search\u001b[0m:\u001b[36m283\u001b[0m - \u001b[1mCalling Google search API for query 2/5\u001b[0m\n",
      "\u001b[32m2024-05-29 21:52:39.556\u001b[0m | \u001b[1mINFO    \u001b[0m | \u001b[36mrocket_rag.agent\u001b[0m:\u001b[36mcall_google_search\u001b[0m:\u001b[36m283\u001b[0m - \u001b[1mCalling Google search API for query 3/5\u001b[0m\n",
      "\u001b[32m2024-05-29 21:52:56.258\u001b[0m | \u001b[1mINFO    \u001b[0m | \u001b[36mrocket_rag.agent\u001b[0m:\u001b[36mcall_google_search\u001b[0m:\u001b[36m283\u001b[0m - \u001b[1mCalling Google search API for query 4/5\u001b[0m\n",
      "\u001b[32m2024-05-29 21:53:12.933\u001b[0m | \u001b[1mINFO    \u001b[0m | \u001b[36mrocket_rag.agent\u001b[0m:\u001b[36mcall_google_search\u001b[0m:\u001b[36m283\u001b[0m - \u001b[1mCalling Google search API for query 5/5\u001b[0m\n"
     ]
    },
    {
     "name": "stdout",
     "output_type": "stream",
     "text": [
      "[\"The search results for repairing spalling in linear actuators suggest various approaches and considerations, including:\\n\\n1. **Complete Rebuilds for Ball Screw Driven Linear Actuators**: Some services offer complete rebuilds of ball screw driven linear actuators, which might be necessary if spalling has significantly damaged the actuator.\\n\\n2. **Troubleshooting Linear Guides - Flaking**: The rolling contact surface of the rail, the ball slide, and the ball may flake away like scales, which is a related issue to spalling. This indicates the importance of regular maintenance and inspection.\\n\\n3. **Diagnosing Spalling and Lubrication Faults**: It's possible to diagnose spalling and lubrication faults to set up repair schedules, thus avoiding breakdowns and downtimes. This suggests that monitoring and maintenance are key to preventing spalling from worsening.\\n\\n4. **Flaking Damage Condition**: Similar to spalling, flaking is a damage condition that might occur in linear actuators, indicating the need for repair or maintenance.\\n\\n5. **Repair or Replacement**: In cases of significant damage (including linear scratches, pits, spalling, dents, or surface texture variations), repair or replacement of the affected parts is necessary.\\n\\n6. **Labor-Intensive Traditional Spalling Repair**: Traditional spalling repair, especially on concrete pavement roads, is labor-intensive and involves traffic blockages and manual calculation of repair areas. This highlights the complexity and effort required in some spalling repair processes.\\n\\n7. **Identifying and Replacing Motors**: Understanding the operation of servo motors and stepper motors, and detecting problems within a DC motor, can be part of the repair process, indicating that motor health is also a factor in the overall functioning of linear actuators.\\n\\n8. **Hybrid Modelling for Diagnosis**: Hybrid modelling can be used for the diagnosis of linear actuators in the absence of faulty data records, suggesting advanced techniques for maintenance and repair.\\n\\n9. **Structural Failures and Malfunctions**: Excess wear, cracking, backlash, spalling, and malfunctions such as ball return channel jamming are issues that require attention and repair to improve the lifespan and functionality of linear actuators.\\n\\nThese insights suggest that repairing spalling in linear actuators involves a combination of regular maintenance, accurate diagnosis, and potentially complex repairs or replacements. It's important to consult with professionals or refer to detailed guides specific to the type of linear actuator in question for precise repair methods.\", 'The search results for \"spalling damage recovery for ballscrew mechanisms\" include various aspects related to the issue, such as:\\n\\n1. **Improvement of Sealing Mechanisms**: To prevent rusting during non-running periods, enhancing the sealing mechanism is suggested. This is crucial for the inner ring of deep groove ball bearings, where symptoms like flaking can occur due to inadequate protection.\\n\\n2. **Impact of Inadequate Lubricant**: The importance of proper lubrication is highlighted with examples like deep groove ball bearing inner rings suffering spalling at ball pitch due to impact during mounting, and cylindrical roller bearing inner rings experiencing similar issues.\\n\\n3. **Identification of Spalled Bearing Races**: It\\'s possible to identify whether corrosion was the cause of spalling in bearing races by examining the spalled areas, provided the damage is not excessive.\\n\\n4. **Surface Damage - Smearing**: Smearing, a type of surface damage caused by small seizures between bearing components, is discussed along with troubleshooting tips.\\n\\n5. **Axial Contact Stiffness Model**: An axial contact stiffness model for position preloaded ball screw mechanisms based on Hertz contact theory is established, including dynamic analysis.\\n\\n6. **Bearing and Screw Damage**: The consequences of skidding and spalling on ball bearings, such as flats on the bearings and damage to the ball paths in the screw or nut, are mentioned. Misalignment issues are also noted.\\n\\n7. **Case Studies and Lessons Learned**: Specific instances, such as a case from May 14, 2014, involving recovery and lessons learned from handling damage to ballscrews, are cited.\\n\\n8. **Failure Mechanisms of Recirculating Ball Screw and Spline Nuts**: Similar to normal ball bearings, these components can suffer from abrasive wear due to foreign particles, among other failure mechanisms.\\n\\n9. **Severe Skidding Damage**: Instances of severe skidding damage leading to fused balls and spalling effects, along with mechanisms to protect against such damage, are discussed.\\n\\n10. **Failsafe Mechanisms and Redundancy**: The importance of failsafe mechanisms and redundancy to mitigate single points of failure, such as ballscrew jamming, is emphasized, along with the impact of spalling on ballscrews.\\n\\nThese results provide a comprehensive overview of the challenges and solutions associated with spalling damage in ballscrew mechanisms, including prevention, identification, and recovery strategies.', 'The search results for \"best practices for fixing severe surface damage in actuators\" include a variety of topics, but none of them directly address best practices for repairing severe surface damage in actuators. Here are some of the relevant points and sources found:\\n\\n- **Control Valve Selection**: A comprehensive guide to selecting the best control valve for an application, which might indirectly relate to understanding how actuators work and the importance of selecting the right components for repair and maintenance.\\n- **Repair Methods**: Discussion on two common methods traditionally used to repair damage, which might be applicable to actuators depending on the type of damage.\\n- **Hydraulic Systems Maintenance**: Emphasizes the importance of maintaining hydraulic systems, which often include actuators, to prevent injury and damage.\\n- **Preventing Surface Damage**: Advice on using designated eye bolts or lifting lugs on heavy valves to lift and align valves before installation to prevent surface damage.\\n- **Hydraulic System Contamination**: Notes on how contamination and wear can severely damage hydraulic systems, including actuators, over time.\\n- **Technical Manuals and Guides**: Mention of technical manuals that could include information on repairing damage to hydraulic systems or components like actuators.\\n\\nUnfortunately, there isn\\'t a direct answer or a specific guide on repairing severe surface damage in actuators from the search results. For detailed and specific repair techniques, consulting technical manuals for the specific type of actuator in question, or reaching out to a professional in hydraulic system repair, might be more beneficial.', \"The search results for maintenance tips for actuators with spalling faults include various sources discussing the issue, its analysis, and maintenance strategies. Here are some key points from the results:\\n\\n1. **Condition-Based Maintenance (CBM) for Electromechanical Actuators**: It's necessary to conduct CBM and fault diagnosis on electromechanical actuators (EMAs) to address spalling faults effectively. CBM involves monitoring the actual condition of the actuator to decide what maintenance needs to be done and when. This approach can diagnose spalling and lubrication faults, offering a proactive way to manage maintenance and prevent failures.\\n\\n2. **Advantages of CBM**: The advantages of condition-based maintenance over alternative maintenance strategies have been widely proven. This suggests that implementing a CBM strategy could significantly enhance the reliability and longevity of actuators experiencing spalling faults by ensuring timely maintenance actions are taken based on the actual condition of the equipment.\\n\\n3. **Prognostic Health-Management System**: Developing and testing a prognostic health-management system that diagnoses electromechanical actuator faults, including spalling, can help in addressing maintenance concerns. Such systems aim to predict the future health state of actuators, allowing for more effective planning of maintenance activities and reducing the risk of unexpected failures.\\n\\n4. **General Maintenance Tips**: While specific maintenance tips for actuators with spalling faults are not directly mentioned, the emphasis on condition-based maintenance and fault diagnosis suggests that regular inspections, monitoring for signs of wear or damage, and timely lubrication are critical components of an effective maintenance strategy.\\n\\nFor detailed maintenance strategies and tips, it would be beneficial to look into resources specifically focused on CBM techniques, prognostic health-management systems for actuators, and general maintenance practices for electromechanical systems.\", 'The search results for diagnosing and treating spalling in linear actuator systems include various sources and abstracts that mention:\\n\\n- The possibility of diagnosing spalling and lubrication faults with a high degree of accuracy in actuators without prior faulty records.\\n- Discussions on the limitations of certain diagnostic systems and test rigs for linear actuators, highlighting the challenge of adapting source and target domains.\\n- The use of motor current to diagnose ballscrew issues in linear direct drive Electromechanical Actuator (EMA) systems.\\n- The crucial role of linear actuators in various industries, including industrial automation, robotics, automotive systems, and aerospace.\\n- The importance of diagnostics and treatment in the context of linear motion systems, including the failure modes related to dynamic load exceeding.\\n- Experimental setups for improving confidence in overall system diagnostics, specifically mentioning the use of a ballscrew electromechanical actuator.\\n- Seal failure analysis as a method to identify other equipment, system, or operational deficiencies.\\n\\nThese results suggest that diagnosing and treating spalling in linear actuator systems involves a combination of advanced diagnostic techniques, understanding the role and operation of linear actuators in various applications, and addressing the root causes of failures, such as seal issues or dynamic load challenges.']\n"
     ]
    }
   ],
   "source": [
    "agent.call_google_search()\n",
    "print(agent.query_answers)"
   ]
  },
  {
   "cell_type": "code",
   "execution_count": null,
   "metadata": {},
   "outputs": [],
   "source": []
  }
 ],
 "metadata": {
  "kernelspec": {
   "display_name": "agents2",
   "language": "python",
   "name": "python3"
  },
  "language_info": {
   "codemirror_mode": {
    "name": "ipython",
    "version": 3
   },
   "file_extension": ".py",
   "mimetype": "text/x-python",
   "name": "python",
   "nbconvert_exporter": "python",
   "pygments_lexer": "ipython3",
   "version": "3.11.5"
  }
 },
 "nbformat": 4,
 "nbformat_minor": 2
}
