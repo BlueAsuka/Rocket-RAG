{
 "cells": [
  {
   "cell_type": "code",
   "execution_count": 1,
   "metadata": {},
   "outputs": [],
   "source": [
    "import sys\n",
    "sys.path.append('../')\n",
    "\n",
    "from rocket_rag.utils import *\n",
    "from rocket_rag.agent import RagAgent"
   ]
  },
  {
   "cell_type": "code",
   "execution_count": 2,
   "metadata": {},
   "outputs": [],
   "source": [
    "load = '40kg'"
   ]
  },
  {
   "cell_type": "code",
   "execution_count": 3,
   "metadata": {},
   "outputs": [],
   "source": [
    "if_files_dict = parse_files(main_directory=INFERENCE_DIR)\n",
    "if_ts_files = if_files_dict[load]"
   ]
  },
  {
   "cell_type": "code",
   "execution_count": 4,
   "metadata": {},
   "outputs": [
    {
     "name": "stderr",
     "output_type": "stream",
     "text": [
      "\u001b[32m2024-05-29 22:45:46.816\u001b[0m | \u001b[34m\u001b[1mDEBUG   \u001b[0m | \u001b[36mrocket_rag.utils\u001b[0m:\u001b[36mfit_transform\u001b[0m:\u001b[36m149\u001b[0m - \u001b[34m\u001b[1mExtract the time series data points\u001b[0m\n",
      "\u001b[32m2024-05-29 22:45:46.822\u001b[0m | \u001b[1mINFO    \u001b[0m | \u001b[36mrocket_rag.utils\u001b[0m:\u001b[36mfit\u001b[0m:\u001b[36m125\u001b[0m - \u001b[1mtime series extracted SUCCESSFULLY.\u001b[0m\n",
      "\u001b[32m2024-05-29 22:45:46.823\u001b[0m | \u001b[34m\u001b[1mDEBUG   \u001b[0m | \u001b[36mrocket_rag.utils\u001b[0m:\u001b[36mfit_transform\u001b[0m:\u001b[36m161\u001b[0m - \u001b[34m\u001b[1mRocket transforming...\u001b[0m\n"
     ]
    },
    {
     "name": "stdout",
     "output_type": "stream",
     "text": [
      "Randomly selected file: ../data/inference/40kg\\lackLubrication1\\lackLubrication1_40_9_2.csv\n"
     ]
    }
   ],
   "source": [
    "# np.random.seed(37)\n",
    "rand_idx = np.random.randint(0, len(if_ts_files))\n",
    "if_ts_filename = if_ts_files[rand_idx]\n",
    "print(f'Randomly selected file: {if_ts_filename}')\n",
    "\n",
    "if_rocket_feature = fit_transform(ts_filename=[if_ts_filename],\n",
    "                                  field='current',\n",
    "                                  smooth=True,\n",
    "                                  smooth_ws=15,\n",
    "                                  tolist=False,\n",
    "                                  verbo=True)"
   ]
  },
  {
   "cell_type": "code",
   "execution_count": 5,
   "metadata": {},
   "outputs": [
    {
     "name": "stderr",
     "output_type": "stream",
     "text": [
      "\u001b[32m2024-05-29 22:45:51.298\u001b[0m | \u001b[34m\u001b[1mDEBUG   \u001b[0m | \u001b[36mrocket_rag.node_indexing\u001b[0m:\u001b[36mload_node_indexing\u001b[0m:\u001b[36m98\u001b[0m - \u001b[34m\u001b[1mLoading all nodes...\u001b[0m\n",
      "\u001b[32m2024-05-29 22:45:51.863\u001b[0m | \u001b[1mINFO    \u001b[0m | \u001b[36mrocket_rag.node_indexing\u001b[0m:\u001b[36mload_node_indexing\u001b[0m:\u001b[36m102\u001b[0m - \u001b[1mAll nodes are loaded.\u001b[0m\n",
      "\u001b[32m2024-05-29 22:45:52.205\u001b[0m | \u001b[1mINFO    \u001b[0m | \u001b[36mrocket_rag.agent\u001b[0m:\u001b[36m_init_openai_client\u001b[0m:\u001b[36m67\u001b[0m - \u001b[1mOpenAI API key found. OpenAI client Initialized.\u001b[0m\n",
      "\u001b[32m2024-05-29 22:45:52.250\u001b[0m | \u001b[1mINFO    \u001b[0m | \u001b[36mrocket_rag.agent\u001b[0m:\u001b[36m__init__\u001b[0m:\u001b[36m59\u001b[0m - \u001b[1mRAG agent initialized.\u001b[0m\n"
     ]
    }
   ],
   "source": [
    "agent = RagAgent(vs_dir=f'../store/nodes_{load}.pkl')"
   ]
  },
  {
   "cell_type": "code",
   "execution_count": 6,
   "metadata": {},
   "outputs": [
    {
     "name": "stderr",
     "output_type": "stream",
     "text": [
      "\u001b[32m2024-05-29 22:45:52.259\u001b[0m | \u001b[34m\u001b[1mDEBUG   \u001b[0m | \u001b[36mrocket_rag.utils\u001b[0m:\u001b[36mfit_transform\u001b[0m:\u001b[36m149\u001b[0m - \u001b[34m\u001b[1mExtract the time series data points\u001b[0m\n",
      "\u001b[32m2024-05-29 22:45:52.271\u001b[0m | \u001b[1mINFO    \u001b[0m | \u001b[36mrocket_rag.utils\u001b[0m:\u001b[36mfit\u001b[0m:\u001b[36m125\u001b[0m - \u001b[1mtime series extracted SUCCESSFULLY.\u001b[0m\n",
      "\u001b[32m2024-05-29 22:45:52.272\u001b[0m | \u001b[34m\u001b[1mDEBUG   \u001b[0m | \u001b[36mrocket_rag.utils\u001b[0m:\u001b[36mfit_transform\u001b[0m:\u001b[36m161\u001b[0m - \u001b[34m\u001b[1mRocket transforming...\u001b[0m\n"
     ]
    },
    {
     "name": "stdout",
     "output_type": "stream",
     "text": [
      "Rocket feature shape: (1, 20000)\n",
      "Fault prediction: ['lackLubrication1_40_5_4'], Score: 1.0\n"
     ]
    }
   ],
   "source": [
    "rocket_feature = agent.get_rocket_feature(if_ts_filename)\n",
    "print(f'Rocket feature shape: {rocket_feature.shape}')\n",
    "fault_prediction, score = agent.get_fault_prediction()\n",
    "print(f'Fault prediction: {fault_prediction}, Score: {score}')"
   ]
  },
  {
   "cell_type": "code",
   "execution_count": 7,
   "metadata": {},
   "outputs": [
    {
     "name": "stdout",
     "output_type": "stream",
     "text": [
      "{'fault_type': 'lackLubrication', 'degradation_level': 1, 'retrieval_result(s)': 'lackLubrication1_40_5_4', 'score': 1.0, 'distances': [], 'description': 'The actuator is operating with insufficient lubrication, leading to increased friction and potential for wear and tear, impacting performance and longevity.'}\n"
     ]
    }
   ],
   "source": [
    "agent.generate_fault_diagnosis_statement()\n",
    "print(agent.fault_diagnosis_json)"
   ]
  },
  {
   "cell_type": "code",
   "execution_count": 8,
   "metadata": {},
   "outputs": [
    {
     "name": "stdout",
     "output_type": "stream",
     "text": [
      "{'fault_type': 'lackLubrication', 'degradation_level': 1, 'refinement': 'Fault in lacklubrication'}\n"
     ]
    }
   ],
   "source": [
    "agent.refine_fault_diagnosis_statement()\n",
    "print(agent.refined_diagnosis_json)"
   ]
  },
  {
   "cell_type": "code",
   "execution_count": 9,
   "metadata": {},
   "outputs": [
    {
     "name": "stdout",
     "output_type": "stream",
     "text": [
      "['lack of lubrication in linear actuators repair', 'how to fix lack of lubrication in linear actuators', 'linear actuator maintenance for lack of lubrication issue', 'recovery methods for lack of lubrication in linear actuators', 'troubleshooting lack of lubrication in linear actuators']\n"
     ]
    }
   ],
   "source": [
    "agent.generate_multi_queries()\n",
    "print(agent.generated_queries)"
   ]
  },
  {
   "cell_type": "code",
   "execution_count": 10,
   "metadata": {},
   "outputs": [
    {
     "name": "stdout",
     "output_type": "stream",
     "text": [
      "{'call_google': <function Tools.call_google at 0x000001F1F0AF77E0>, 'save_to_file': <function Tools.save_to_file at 0x000001F1F0AF7880>, 'get_available_tools': <function Tools.get_available_tools at 0x000001F1F0AF7920>}\n"
     ]
    }
   ],
   "source": [
    "print(agent.tools.get_available_tools())"
   ]
  },
  {
   "cell_type": "code",
   "execution_count": 11,
   "metadata": {},
   "outputs": [
    {
     "data": {
      "application/vnd.jupyter.widget-view+json": {
       "model_id": "eec66b9059cc49c8a8eb964f342e23df",
       "version_major": 2,
       "version_minor": 0
      },
      "text/plain": [
       "0it [00:00, ?it/s]"
      ]
     },
     "metadata": {},
     "output_type": "display_data"
    },
    {
     "name": "stderr",
     "output_type": "stream",
     "text": [
      "\u001b[32m2024-05-29 22:45:58.370\u001b[0m | \u001b[1mINFO    \u001b[0m | \u001b[36mrocket_rag.agent\u001b[0m:\u001b[36mcall_google_search\u001b[0m:\u001b[36m283\u001b[0m - \u001b[1mCalling Google search API for query 1/5\u001b[0m\n",
      "\u001b[32m2024-05-29 22:46:02.828\u001b[0m | \u001b[1mINFO    \u001b[0m | \u001b[36mrocket_rag.agent\u001b[0m:\u001b[36mcall_google_search\u001b[0m:\u001b[36m283\u001b[0m - \u001b[1mCalling Google search API for query 2/5\u001b[0m\n",
      "\u001b[32m2024-05-29 22:46:06.384\u001b[0m | \u001b[1mINFO    \u001b[0m | \u001b[36mrocket_rag.agent\u001b[0m:\u001b[36mcall_google_search\u001b[0m:\u001b[36m283\u001b[0m - \u001b[1mCalling Google search API for query 3/5\u001b[0m\n",
      "\u001b[32m2024-05-29 22:46:10.615\u001b[0m | \u001b[1mINFO    \u001b[0m | \u001b[36mrocket_rag.agent\u001b[0m:\u001b[36mcall_google_search\u001b[0m:\u001b[36m283\u001b[0m - \u001b[1mCalling Google search API for query 4/5\u001b[0m\n",
      "\u001b[32m2024-05-29 22:46:16.270\u001b[0m | \u001b[1mINFO    \u001b[0m | \u001b[36mrocket_rag.agent\u001b[0m:\u001b[36mcall_google_search\u001b[0m:\u001b[36m283\u001b[0m - \u001b[1mCalling Google search API for query 5/5\u001b[0m\n"
     ]
    },
    {
     "data": {
      "text/plain": [
       "[\"I found some relevant information regarding lack of lubrication in linear actuators repair. Here are a few snippets from the search results:\\n\\n1. Ensure the right type of lubricant is used depending on the actuator's construction.\\n2. Detect and classify states of a linear actuator: normal, backlash, lack of lubrication, and spalling.\\n3. Proper lubrication is crucial as lack of lubrication can cause strange noises.\\n4. Lack of appropriate lubrication is the number one failure mode in roller screws and roller screw actuators.\\n\\nIf you need more detailed information or specific instructions, please let me know!\",\n",
       " 'I found some information related to fixing the lack of lubrication in linear actuators. Here are some snippets from the search results:\\n\\n1. Make sure the actuator is properly lubricated as lack of lubrication can cause strange noises.\\n2. Detect and classify states of a linear actuator: normal, backlash, lack of lubrication, and spalling.\\n3. It may not be possible to spray lubricant on external parts of the linear actuator.\\n4. Proper lubrication is essential for efficient operation of bearings and guides in linear motion applications.\\n\\nIf you need more detailed information, feel free to ask!',\n",
       " 'I found some information related to linear actuator maintenance for the lack of lubrication issue. Here are some key points from the search results:\\n\\n1. Lack of appropriate or adequate lubrication is the number one failure mode in roller screws and roller screw actuators.\\n2. Lubrication is crucial for separating the various components of a machine and reducing equipment failure.\\n3. Establishing a maintenance schedule and avoiding overgreasing can help prevent problems related to lack of lubrication.\\n4. The primary cause of failure for linear actuators is the lack of lubrication.\\n\\nIf you need more detailed information or specific maintenance tips, feel free to ask!',\n",
       " 'I found some information related to recovery methods for lack of lubrication in linear actuators. Here are some snippets from the search results:\\n\\n1. Recovery methods for lack of lubrication in linear actuators.\\n2. Compact and Light-weight — For easier installation and maintenance, spring cylinder linear actuators.\\n3. Methods to flush away saltwater to prevent harm to motors and generators.\\n4. Chapter 3 covers valve and actuator types.\\n5. Lubricant depletion analysis for wet lubricants or lubricant.\\n6. Temperature returning to normal when lack of lubrication is the issue.\\n7. Design best practices for dry film lubrication use.\\n8. Lubrication fill procedure for linear clutch actuator.\\n9. Compliance methods for recovery and support elements.\\n10. Troubleshooting charts for common problems with actuators, filters, regulators, lubricators, and more.\\n\\nIf you need more detailed information on any specific point, feel free to ask!',\n",
       " 'I found some information related to troubleshooting lack of lubrication in linear actuators. Here are some snippets from the search results:\\n\\n1. \"Additionally, make sure that the actuator is properly lubricated as lack of lubrication can also cause strange noises.\"\\n2. \"Most troubles with the ZCA are due to lubrication, selection, and installation problems.\"\\n3. \"The goal was to detect and classify 4 states of a linear actuator: normal, backlash, lack of lubrication, and spalling.\"\\n4. \"Good morning guys, I salvaged a captive linear actuator, tried moving it with easy driver, but I have several problems.\"\\n\\nIf you need more detailed information or specific troubleshooting steps, please let me know.']"
      ]
     },
     "execution_count": 11,
     "metadata": {},
     "output_type": "execute_result"
    }
   ],
   "source": [
    "agent.call_google_search()\n",
    "# print(agent.query_answers)"
   ]
  },
  {
   "cell_type": "code",
   "execution_count": 12,
   "metadata": {},
   "outputs": [
    {
     "name": "stderr",
     "output_type": "stream",
     "text": [
      "\u001b[32m2024-05-29 22:46:20.262\u001b[0m | \u001b[1mINFO    \u001b[0m | \u001b[36mrocket_rag.agent\u001b[0m:\u001b[36mgather_query_answers\u001b[0m:\u001b[36m354\u001b[0m - \u001b[1mStart to generate the summerization for 2 nodes...\u001b[0m\n",
      "\u001b[32m2024-05-29 22:46:22.854\u001b[0m | \u001b[1mINFO    \u001b[0m | \u001b[36mrocket_rag.agent\u001b[0m:\u001b[36mgather_query_answers\u001b[0m:\u001b[36m363\u001b[0m - \u001b[1mCombined into 2 responses, keep combining\u001b[0m\n",
      "\u001b[32m2024-05-29 22:46:22.858\u001b[0m | \u001b[1mINFO    \u001b[0m | \u001b[36mrocket_rag.agent\u001b[0m:\u001b[36mgather_query_answers\u001b[0m:\u001b[36m354\u001b[0m - \u001b[1mStart to generate the summerization for 1 nodes...\u001b[0m\n",
      "\u001b[32m2024-05-29 22:46:27.116\u001b[0m | \u001b[1mINFO    \u001b[0m | \u001b[36mrocket_rag.agent\u001b[0m:\u001b[36mgather_query_answers\u001b[0m:\u001b[36m360\u001b[0m - \u001b[1mCombined all responses to one. Done\u001b[0m\n"
     ]
    },
    {
     "data": {
      "text/plain": [
       "\"The lack of lubrication in linear actuators is a critical issue that can lead to various problems such as strange noises and equipment failure. Proper lubrication is essential, and using the right type of lubricant based on the actuator's construction is crucial. Detecting and classifying the actuator's state, including lack of lubrication, is vital for maintenance. Lack of appropriate lubrication is the primary failure mode in roller screws and roller screw actuators. Establishing a maintenance schedule, avoiding overgreasing, and understanding the importance of lubrication in separating machine components are key steps to prevent lubrication-related issues.\\n\\nRecovery methods for lack of lubrication in linear actuators include troubleshooting steps. Topics covered include compact and light-weight spring cylinder linear actuators, flushing saltwater to prevent harm to motors, valve and actuator types, lubricant depletion analysis, temperature issues due to lack of lubrication, dry film lubrication best practices, lubrication fill procedures for linear clutch actuators, compliance methods, and troubleshooting charts for common actuator problems. Specific issues related to lack of lubrication in linear actuators include strange noises, troubles with selection and installation, detecting normal states, backlash, lack of lubrication, and spalling. Additional troubleshooting steps can be provided upon request.\""
      ]
     },
     "execution_count": 12,
     "metadata": {},
     "output_type": "execute_result"
    }
   ],
   "source": [
    "await agent.gather_query_answers()"
   ]
  },
  {
   "cell_type": "code",
   "execution_count": 13,
   "metadata": {},
   "outputs": [
    {
     "name": "stderr",
     "output_type": "stream",
     "text": [
      "\u001b[32m2024-05-29 22:46:27.140\u001b[0m | \u001b[34m\u001b[1mDEBUG   \u001b[0m | \u001b[36mrocket_rag.agent\u001b[0m:\u001b[36mparse_output_contents\u001b[0m:\u001b[36m402\u001b[0m - \u001b[34m\u001b[1mParsing the output file with provided format...\u001b[0m\n"
     ]
    },
    {
     "data": {
      "text/plain": [
       "'# FAULT DIAGNOSIS REPORT\\n\\n## SYSTEM INFORMATION\\n- Fault Type: Fault Type Diagnosis: lackLubrication\\n- Fault Level: 1\\n- Fault Refinement: Fault in lacklubrication\\n- Fault Description: The actuator is operating with insufficient lubrication, leading to increased friction and potential for wear and tear, impacting performance and longevity.\\n\\n## SEARCH QUERY\\n1. I found some relevant information regarding lack of lubrication in linear actuators repair. Here are a few snippets from the search results:\\n   - Ensure the right type of lubricant is used depending on the actuator\\'s construction.\\n   - Detect and classify states of a linear actuator: normal, backlash, lack of lubrication, and spalling.\\n   - Proper lubrication is crucial as lack of lubrication can cause strange noises.\\n   - Lack of appropriate lubrication is the number one failure mode in roller screws and roller screw actuators.\\n\\n2. I found some information related to fixing the lack of lubrication in linear actuators. Here are some snippets from the search results:\\n   - Make sure the actuator is properly lubricated as lack of lubrication can cause strange noises.\\n   - Detect and classify states of a linear actuator: normal, backlash, lack of lubrication, and spalling.\\n   - It may not be possible to spray lubricant on external parts of the linear actuator.\\n   - Proper lubrication is essential for efficient operation of bearings and guides in linear motion applications.\\n\\n3. I found some information related to linear actuator maintenance for the lack of lubrication issue. Here are some key points from the search results:\\n   - Lack of appropriate or adequate lubrication is the number one failure mode in roller screws and roller screw actuators.\\n   - Lubrication is crucial for separating the various components of a machine and reducing equipment failure.\\n   - Establishing a maintenance schedule and avoiding overgreasing can help prevent problems related to lack of lubrication.\\n   - The primary cause of failure for linear actuators is the lack of lubrication.\\n\\n4. I found some information related to recovery methods for lack of lubrication in linear actuators. Here are some snippets from the search results:\\n   - Recovery methods for lack of lubrication in linear actuators.\\n   - Compact and Light-weight — For easier installation and maintenance, spring cylinder linear actuators.\\n   - Methods to flush away saltwater to prevent harm to motors and generators.\\n   - Chapter 3 covers valve and actuator types.\\n   - Lubricant depletion analysis for wet lubricants or lubricant.\\n   - Temperature returning to normal when lack of lubrication is the issue.\\n   - Design best practices for dry film lubrication use.\\n   - Lubrication fill procedure for linear clutch actuator.\\n   - Compliance methods for recovery and support elements.\\n   - Troubleshooting charts for common problems with actuators, filters, regulators, lubricators, and more.\\n\\n5. I found some information related to troubleshooting lack of lubrication in linear actuors. Here are some snippets from the search results:\\n   - \"Additionally, make sure that the actuator is properly lubricated as lack of lubrication can also cause strange noises.\"\\n   - \"Most troubles with the ZCA are due to lubrication, selection, and installation problems.\"\\n   - \"The goal was to detect and classify 4 states of a linear actuator: normal, backlash, lack of lubrication, and spalling.\"\\n   - \"Good morning guys, I salvaged a captive linear actuator, tried moving it with easy driver, but I have several problems.\"\\n\\n## SEARCH RESULTS\\nThe search results provide detailed information on lack of lubrication in linear actuators, including the importance of proper lubrication, maintenance tips, recovery methods, and troubleshooting steps.\\n\\n## RECOMMENDATIONS \\nThe lack of lubrication in linear actuators is a critical issue that can lead to various problems such as strange noises and equipment failure. Proper lubrication is essential, and using the right type of lubricant based on the actuator\\'s construction is crucial. Detecting and classifying the actuator\\'s state, including lack of lubrication, is vital for maintenance. Lack of appropriate lubrication is the primary failure mode in roller screws and roller screw actuors. Establishing a maintenance schedule, avoiding overgreasing, and understanding the importance of lubrication in separating machine components are key steps to prevent lubrication-related issues.\\n\\nRecovery methods for lack of lubrication in linear actuators include troubleshooting steps. Topics covered include compact and light-weight spring cylinder linear actuators, flushing saltwater to prevent harm to motors, valve and actuator types, lubricant depletion analysis, temperature issues due to lack of lubrication, dry film lubrication best practices, lubrication fill procedures for linear clutch actuators, compliance methods, and troubleshooting charts for common actuator problems. Specific issues related to lack of lubrication in linear actuators include strange noises, troubles with selection and installation, detecting normal states, backlash, lack of lubrication, and spalling. Additional troubleshooting steps can be provided upon request.'"
      ]
     },
     "execution_count": 13,
     "metadata": {},
     "output_type": "execute_result"
    }
   ],
   "source": [
    "agent.parse_output_contents()"
   ]
  },
  {
   "cell_type": "code",
   "execution_count": 14,
   "metadata": {},
   "outputs": [
    {
     "name": "stderr",
     "output_type": "stream",
     "text": [
      "\u001b[32m2024-05-29 22:46:45.297\u001b[0m | \u001b[1mINFO    \u001b[0m | \u001b[36mrocket_rag.agent\u001b[0m:\u001b[36msave_output_contents\u001b[0m:\u001b[36m425\u001b[0m - \u001b[1mParse the file to the ../logs/fault-diagnosis-2024-05-29_22-46-45.md\u001b[0m\n",
      "\u001b[32m2024-05-29 22:46:45.298\u001b[0m | \u001b[1mINFO    \u001b[0m | \u001b[36mrocket_rag.agent\u001b[0m:\u001b[36msave_output_contents\u001b[0m:\u001b[36m431\u001b[0m - \u001b[1mFile fault-diagnosis is parsed and stored successfully.\u001b[0m\n"
     ]
    }
   ],
   "source": [
    "agent.save_output_contents(file_name='fault-diagnosis')"
   ]
  }
 ],
 "metadata": {
  "kernelspec": {
   "display_name": "agents2",
   "language": "python",
   "name": "python3"
  },
  "language_info": {
   "codemirror_mode": {
    "name": "ipython",
    "version": 3
   },
   "file_extension": ".py",
   "mimetype": "text/x-python",
   "name": "python",
   "nbconvert_exporter": "python",
   "pygments_lexer": "ipython3",
   "version": "3.11.5"
  }
 },
 "nbformat": 4,
 "nbformat_minor": 2
}
