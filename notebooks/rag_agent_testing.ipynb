{
 "cells": [
  {
   "cell_type": "code",
   "execution_count": 1,
   "metadata": {},
   "outputs": [],
   "source": [
    "import sys\n",
    "sys.path.append('../')\n",
    "\n",
    "from rocket_rag.utils import *\n",
    "from rocket_rag.agent import RagAgent"
   ]
  },
  {
   "cell_type": "code",
   "execution_count": 2,
   "metadata": {},
   "outputs": [],
   "source": [
    "load = '40kg'"
   ]
  },
  {
   "cell_type": "code",
   "execution_count": 3,
   "metadata": {},
   "outputs": [],
   "source": [
    "if_files_dict = parse_files(main_directory=INFERENCE_DIR)\n",
    "if_ts_files = if_files_dict[load]"
   ]
  },
  {
   "cell_type": "code",
   "execution_count": 4,
   "metadata": {},
   "outputs": [
    {
     "name": "stderr",
     "output_type": "stream",
     "text": [
      "\u001b[32m2024-05-29 22:30:22.712\u001b[0m | \u001b[34m\u001b[1mDEBUG   \u001b[0m | \u001b[36mrocket_rag.utils\u001b[0m:\u001b[36mfit_transform\u001b[0m:\u001b[36m149\u001b[0m - \u001b[34m\u001b[1mExtract the time series data points\u001b[0m\n",
      "\u001b[32m2024-05-29 22:30:22.719\u001b[0m | \u001b[1mINFO    \u001b[0m | \u001b[36mrocket_rag.utils\u001b[0m:\u001b[36mfit\u001b[0m:\u001b[36m125\u001b[0m - \u001b[1mtime series extracted SUCCESSFULLY.\u001b[0m\n",
      "\u001b[32m2024-05-29 22:30:22.719\u001b[0m | \u001b[34m\u001b[1mDEBUG   \u001b[0m | \u001b[36mrocket_rag.utils\u001b[0m:\u001b[36mfit_transform\u001b[0m:\u001b[36m161\u001b[0m - \u001b[34m\u001b[1mRocket transforming...\u001b[0m\n"
     ]
    },
    {
     "name": "stdout",
     "output_type": "stream",
     "text": [
      "Randomly selected file: ../data/inference/40kg\\spalling8\\spalling8_40_5_3.csv\n"
     ]
    }
   ],
   "source": [
    "# np.random.seed(37)\n",
    "rand_idx = np.random.randint(0, len(if_ts_files))\n",
    "if_ts_filename = if_ts_files[rand_idx]\n",
    "print(f'Randomly selected file: {if_ts_filename}')\n",
    "\n",
    "if_rocket_feature = fit_transform(ts_filename=[if_ts_filename],\n",
    "                                  field='current',\n",
    "                                  smooth=True,\n",
    "                                  smooth_ws=15,\n",
    "                                  tolist=False,\n",
    "                                  verbo=True)"
   ]
  },
  {
   "cell_type": "code",
   "execution_count": 5,
   "metadata": {},
   "outputs": [
    {
     "name": "stderr",
     "output_type": "stream",
     "text": [
      "\u001b[32m2024-05-29 22:30:28.215\u001b[0m | \u001b[34m\u001b[1mDEBUG   \u001b[0m | \u001b[36mrocket_rag.node_indexing\u001b[0m:\u001b[36mload_node_indexing\u001b[0m:\u001b[36m98\u001b[0m - \u001b[34m\u001b[1mLoading all nodes...\u001b[0m\n",
      "\u001b[32m2024-05-29 22:30:28.760\u001b[0m | \u001b[1mINFO    \u001b[0m | \u001b[36mrocket_rag.node_indexing\u001b[0m:\u001b[36mload_node_indexing\u001b[0m:\u001b[36m102\u001b[0m - \u001b[1mAll nodes are loaded.\u001b[0m\n",
      "\u001b[32m2024-05-29 22:30:29.145\u001b[0m | \u001b[1mINFO    \u001b[0m | \u001b[36mrocket_rag.agent\u001b[0m:\u001b[36m_init_openai_client\u001b[0m:\u001b[36m67\u001b[0m - \u001b[1mOpenAI API key found. OpenAI client Initialized.\u001b[0m\n",
      "\u001b[32m2024-05-29 22:30:29.146\u001b[0m | \u001b[1mINFO    \u001b[0m | \u001b[36mrocket_rag.agent\u001b[0m:\u001b[36m__init__\u001b[0m:\u001b[36m59\u001b[0m - \u001b[1mRAG agent initialized.\u001b[0m\n"
     ]
    }
   ],
   "source": [
    "agent = RagAgent(vs_dir=f'../store/nodes_{load}.pkl')"
   ]
  },
  {
   "cell_type": "code",
   "execution_count": 6,
   "metadata": {},
   "outputs": [
    {
     "name": "stderr",
     "output_type": "stream",
     "text": [
      "\u001b[32m2024-05-29 22:30:29.160\u001b[0m | \u001b[34m\u001b[1mDEBUG   \u001b[0m | \u001b[36mrocket_rag.utils\u001b[0m:\u001b[36mfit_transform\u001b[0m:\u001b[36m149\u001b[0m - \u001b[34m\u001b[1mExtract the time series data points\u001b[0m\n",
      "\u001b[32m2024-05-29 22:30:29.173\u001b[0m | \u001b[1mINFO    \u001b[0m | \u001b[36mrocket_rag.utils\u001b[0m:\u001b[36mfit\u001b[0m:\u001b[36m125\u001b[0m - \u001b[1mtime series extracted SUCCESSFULLY.\u001b[0m\n",
      "\u001b[32m2024-05-29 22:30:29.174\u001b[0m | \u001b[34m\u001b[1mDEBUG   \u001b[0m | \u001b[36mrocket_rag.utils\u001b[0m:\u001b[36mfit_transform\u001b[0m:\u001b[36m161\u001b[0m - \u001b[34m\u001b[1mRocket transforming...\u001b[0m\n"
     ]
    },
    {
     "name": "stdout",
     "output_type": "stream",
     "text": [
      "Rocket feature shape: (1, 20000)\n",
      "Fault prediction: ['normal_40_8_4'], Score: 1.0\n"
     ]
    }
   ],
   "source": [
    "rocket_feature = agent.get_rocket_feature(if_ts_filename)\n",
    "print(f'Rocket feature shape: {rocket_feature.shape}')\n",
    "fault_prediction, score = agent.get_fault_prediction()\n",
    "print(f'Fault prediction: {fault_prediction}, Score: {score}')"
   ]
  },
  {
   "cell_type": "code",
   "execution_count": 7,
   "metadata": {},
   "outputs": [
    {
     "name": "stdout",
     "output_type": "stream",
     "text": [
      "{'fault_type': 'normal', 'degradation_level': '', 'retrieval_result(s)': 'normal_40_8_4', 'score': '1.0', 'distances': [], 'description': 'The actuator operates under standard conditions without any faults. This state serves as a baseline for comparing the performance under fault conditions.'}\n"
     ]
    }
   ],
   "source": [
    "agent.generate_fault_diagnosis_statement()\n",
    "print(agent.fault_diagnosis_json)"
   ]
  },
  {
   "cell_type": "code",
   "execution_count": 8,
   "metadata": {},
   "outputs": [
    {
     "name": "stdout",
     "output_type": "stream",
     "text": [
      "{'fault_type': 'normal', 'degradation_level': '', 'refinement': 'No obvious fault detection'}\n"
     ]
    }
   ],
   "source": [
    "agent.refine_fault_diagnosis_statement()\n",
    "print(agent.refined_diagnosis_json)"
   ]
  },
  {
   "cell_type": "code",
   "execution_count": 9,
   "metadata": {},
   "outputs": [
    {
     "name": "stdout",
     "output_type": "stream",
     "text": [
      "['linear actuator maintenance best practices', 'linear actuator performance optimization techniques', 'how to ensure long lifespan for linear actuators', 'linear actuator routine inspection checklist', 'preventative maintenance for linear actuators']\n"
     ]
    }
   ],
   "source": [
    "agent.generate_multi_queries()\n",
    "print(agent.generated_queries)"
   ]
  },
  {
   "cell_type": "code",
   "execution_count": 10,
   "metadata": {},
   "outputs": [
    {
     "name": "stdout",
     "output_type": "stream",
     "text": [
      "{'call_google': <function Tools.call_google at 0x00000279830C65C0>, 'save_to_file': <function Tools.save_to_file at 0x00000279830C6660>, 'get_available_tools': <function Tools.get_available_tools at 0x00000279830C6700>}\n"
     ]
    }
   ],
   "source": [
    "print(agent.tools.get_available_tools())"
   ]
  },
  {
   "cell_type": "code",
   "execution_count": 11,
   "metadata": {},
   "outputs": [
    {
     "data": {
      "application/vnd.jupyter.widget-view+json": {
       "model_id": "9bcad497c9c44a6c9c8a49be6d99c91f",
       "version_major": 2,
       "version_minor": 0
      },
      "text/plain": [
       "0it [00:00, ?it/s]"
      ]
     },
     "metadata": {},
     "output_type": "display_data"
    },
    {
     "name": "stderr",
     "output_type": "stream",
     "text": [
      "\u001b[32m2024-05-29 22:30:44.045\u001b[0m | \u001b[1mINFO    \u001b[0m | \u001b[36mrocket_rag.agent\u001b[0m:\u001b[36mcall_google_search\u001b[0m:\u001b[36m283\u001b[0m - \u001b[1mCalling Google search API for query 1/5\u001b[0m\n",
      "\u001b[32m2024-05-29 22:31:01.041\u001b[0m | \u001b[1mINFO    \u001b[0m | \u001b[36mrocket_rag.agent\u001b[0m:\u001b[36mcall_google_search\u001b[0m:\u001b[36m283\u001b[0m - \u001b[1mCalling Google search API for query 2/5\u001b[0m\n"
     ]
    },
    {
     "ename": "KeyError",
     "evalue": "'snippet'",
     "output_type": "error",
     "traceback": [
      "\u001b[1;31m---------------------------------------------------------------------------\u001b[0m",
      "\u001b[1;31mKeyError\u001b[0m                                  Traceback (most recent call last)",
      "Cell \u001b[1;32mIn[11], line 1\u001b[0m\n\u001b[1;32m----> 1\u001b[0m \u001b[43magent\u001b[49m\u001b[38;5;241;43m.\u001b[39;49m\u001b[43mcall_google_search\u001b[49m\u001b[43m(\u001b[49m\u001b[43m)\u001b[49m\n\u001b[0;32m      2\u001b[0m \u001b[38;5;66;03m# print(agent.query_answers)\u001b[39;00m\n",
      "File \u001b[1;32mc:\\Users\\s381731\\OneDrive - Cranfield University\\Documents\\Projects\\Rocket-RAG\\notebooks\\..\\rocket_rag\\agent.py:290\u001b[0m, in \u001b[0;36mRagAgent.call_google_search\u001b[1;34m(self, verbose)\u001b[0m\n\u001b[0;32m    288\u001b[0m function_to_call \u001b[38;5;241m=\u001b[39m available_tools[function_name]\n\u001b[0;32m    289\u001b[0m function_args \u001b[38;5;241m=\u001b[39m json\u001b[38;5;241m.\u001b[39mloads(tool_call\u001b[38;5;241m.\u001b[39mfunction\u001b[38;5;241m.\u001b[39marguments)\n\u001b[1;32m--> 290\u001b[0m function_response \u001b[38;5;241m=\u001b[39m \u001b[43mfunction_to_call\u001b[49m\u001b[43m(\u001b[49m\u001b[38;5;241;43m*\u001b[39;49m\u001b[38;5;241;43m*\u001b[39;49m\u001b[43mfunction_args\u001b[49m\u001b[43m)\u001b[49m\n\u001b[0;32m    291\u001b[0m \u001b[38;5;28;01mif\u001b[39;00m verbose:\n\u001b[0;32m    292\u001b[0m     loguru\u001b[38;5;241m.\u001b[39mlogger\u001b[38;5;241m.\u001b[39mdebug(\u001b[38;5;124mf\u001b[39m\u001b[38;5;124m'\u001b[39m\u001b[38;5;124mObtained results from \u001b[39m\u001b[38;5;132;01m{\u001b[39;00mfunction_name\u001b[38;5;132;01m}\u001b[39;00m\u001b[38;5;124m'\u001b[39m)\n",
      "File \u001b[1;32mc:\\Users\\s381731\\OneDrive - Cranfield University\\Documents\\Projects\\Rocket-RAG\\notebooks\\..\\rocket_rag\\tools.py:83\u001b[0m, in \u001b[0;36mTools.call_google\u001b[1;34m(query, **kwargs)\u001b[0m\n\u001b[0;32m     81\u001b[0m res \u001b[38;5;241m=\u001b[39m service\u001b[38;5;241m.\u001b[39mcse()\u001b[38;5;241m.\u001b[39mlist(q\u001b[38;5;241m=\u001b[39mquery, cx\u001b[38;5;241m=\u001b[39mconfig[\u001b[38;5;124m\"\u001b[39m\u001b[38;5;124mgoogle_cse_id\u001b[39m\u001b[38;5;124m\"\u001b[39m], \u001b[38;5;241m*\u001b[39m\u001b[38;5;241m*\u001b[39mkwargs)\u001b[38;5;241m.\u001b[39mexecute()\n\u001b[0;32m     82\u001b[0m res_items \u001b[38;5;241m=\u001b[39m res[\u001b[38;5;124m\"\u001b[39m\u001b[38;5;124mitems\u001b[39m\u001b[38;5;124m\"\u001b[39m]\n\u001b[1;32m---> 83\u001b[0m res_snippets \u001b[38;5;241m=\u001b[39m \u001b[43m[\u001b[49m\u001b[43mr\u001b[49m\u001b[43m[\u001b[49m\u001b[38;5;124;43m'\u001b[39;49m\u001b[38;5;124;43msnippet\u001b[39;49m\u001b[38;5;124;43m'\u001b[39;49m\u001b[43m]\u001b[49m\u001b[43m \u001b[49m\u001b[38;5;28;43;01mfor\u001b[39;49;00m\u001b[43m \u001b[49m\u001b[43mr\u001b[49m\u001b[43m \u001b[49m\u001b[38;5;129;43;01min\u001b[39;49;00m\u001b[43m \u001b[49m\u001b[43mres_items\u001b[49m\u001b[43m]\u001b[49m\n\u001b[0;32m     84\u001b[0m \u001b[38;5;28;01mreturn\u001b[39;00m \u001b[38;5;28mstr\u001b[39m(res_snippets)\n",
      "File \u001b[1;32mc:\\Users\\s381731\\OneDrive - Cranfield University\\Documents\\Projects\\Rocket-RAG\\notebooks\\..\\rocket_rag\\tools.py:83\u001b[0m, in \u001b[0;36m<listcomp>\u001b[1;34m(.0)\u001b[0m\n\u001b[0;32m     81\u001b[0m res \u001b[38;5;241m=\u001b[39m service\u001b[38;5;241m.\u001b[39mcse()\u001b[38;5;241m.\u001b[39mlist(q\u001b[38;5;241m=\u001b[39mquery, cx\u001b[38;5;241m=\u001b[39mconfig[\u001b[38;5;124m\"\u001b[39m\u001b[38;5;124mgoogle_cse_id\u001b[39m\u001b[38;5;124m\"\u001b[39m], \u001b[38;5;241m*\u001b[39m\u001b[38;5;241m*\u001b[39mkwargs)\u001b[38;5;241m.\u001b[39mexecute()\n\u001b[0;32m     82\u001b[0m res_items \u001b[38;5;241m=\u001b[39m res[\u001b[38;5;124m\"\u001b[39m\u001b[38;5;124mitems\u001b[39m\u001b[38;5;124m\"\u001b[39m]\n\u001b[1;32m---> 83\u001b[0m res_snippets \u001b[38;5;241m=\u001b[39m [\u001b[43mr\u001b[49m\u001b[43m[\u001b[49m\u001b[38;5;124;43m'\u001b[39;49m\u001b[38;5;124;43msnippet\u001b[39;49m\u001b[38;5;124;43m'\u001b[39;49m\u001b[43m]\u001b[49m \u001b[38;5;28;01mfor\u001b[39;00m r \u001b[38;5;129;01min\u001b[39;00m res_items]\n\u001b[0;32m     84\u001b[0m \u001b[38;5;28;01mreturn\u001b[39;00m \u001b[38;5;28mstr\u001b[39m(res_snippets)\n",
      "\u001b[1;31mKeyError\u001b[0m: 'snippet'"
     ]
    }
   ],
   "source": [
    "agent.call_google_search()\n",
    "# print(agent.query_answers)"
   ]
  },
  {
   "cell_type": "code",
   "execution_count": null,
   "metadata": {},
   "outputs": [
    {
     "name": "stderr",
     "output_type": "stream",
     "text": [
      "\u001b[32m2024-05-29 22:27:50.835\u001b[0m | \u001b[1mINFO    \u001b[0m | \u001b[36mrocket_rag.agent\u001b[0m:\u001b[36mgather_query_answers\u001b[0m:\u001b[36m352\u001b[0m - \u001b[1mStart to generate the summerization for 2 nodes...\u001b[0m\n",
      "\u001b[32m2024-05-29 22:28:19.894\u001b[0m | \u001b[1mINFO    \u001b[0m | \u001b[36mrocket_rag.agent\u001b[0m:\u001b[36mgather_query_answers\u001b[0m:\u001b[36m361\u001b[0m - \u001b[1mCombined into 2 responses, keep combining\u001b[0m\n",
      "\u001b[32m2024-05-29 22:28:19.896\u001b[0m | \u001b[1mINFO    \u001b[0m | \u001b[36mrocket_rag.agent\u001b[0m:\u001b[36mgather_query_answers\u001b[0m:\u001b[36m352\u001b[0m - \u001b[1mStart to generate the summerization for 1 nodes...\u001b[0m\n",
      "\u001b[32m2024-05-29 22:28:41.286\u001b[0m | \u001b[1mINFO    \u001b[0m | \u001b[36mrocket_rag.agent\u001b[0m:\u001b[36mgather_query_answers\u001b[0m:\u001b[36m358\u001b[0m - \u001b[1mCombined all responses to one. Done\u001b[0m\n"
     ]
    },
    {
     "data": {
      "text/plain": [
       "\"The comprehensive search results provide an in-depth overview of approaches to repair spalling damage in linear actuators and ballscrew mechanisms, alongside recovery techniques for spalling in ball screw mechanisms. These findings emphasize the necessity of understanding the underlying causes of such mechanical issues, employing specific repair strategies, and considering the structural implications of the damage.\\n\\nFor linear actuators, repair strategies vary from complete rebuilds to address different forms of damage, including spalling, to the use of additive manufacturing for part repairs. The nature of spalling is explored through comparisons with concrete and asphaltic surfaces, offering a wide perspective on repair methodologies. This includes troubleshooting advice for related damage, such as flaking in bearings and linear guides, and highlights the importance of thorough repairs and structural considerations, especially when dealing with severe damage that may affect system performance.\\n\\nIn the realm of ballscrew mechanisms, the focus is on understanding surface-initiated fatigue, the accumulation of damage, its impact on fatigue life, and the symptoms and causes of surface damage. While repair and maintenance tips are provided, in some cases, replacement is noted as the only viable option. The need for detailed analysis and possibly consulting manufacturers' guidelines or professional services for repair is underscored.\\n\\nRecovery techniques for ballscrew mechanism spalling include a mix of theoretical analysis and practical recovery methods. This encompasses numerical analysis for understanding axial contact stiffness, identification of spalling fault characteristics, and the importance of load management. Operational best practices, systematic testing approaches, and research into vibration reduction and life estimation methods for bearings are suggested to prolong the life of ball screws and prevent faults like spalling.\\n\\nHowever, the search also reveals a gap in direct and specific online maintenance tips for preventing and addressing spalling in linear actuators. Despite various references to related topics, such as bearing damage and the importance of proper maintenance, concrete maintenance tips for linear actuators are lacking. It is recommended to consult technical manuals or guides from linear actuator manufacturers, or seek advice from professionals specializing in linear actuator maintenance and repair for detailed maintenance tips and best practices for restoring efficiency in spalled linear actuators. This approach indicates that the required information is more specialized and likely found in industry-specific publications or through expert consultation in the field of linear actuators and mechanical engineering.\""
      ]
     },
     "execution_count": 12,
     "metadata": {},
     "output_type": "execute_result"
    }
   ],
   "source": [
    "await agent.gather_query_answers()"
   ]
  },
  {
   "cell_type": "code",
   "execution_count": null,
   "metadata": {},
   "outputs": [
    {
     "ename": "KeyError",
     "evalue": "'refine_text'",
     "output_type": "error",
     "traceback": [
      "\u001b[1;31m---------------------------------------------------------------------------\u001b[0m",
      "\u001b[1;31mKeyError\u001b[0m                                  Traceback (most recent call last)",
      "Cell \u001b[1;32mIn[16], line 1\u001b[0m\n\u001b[1;32m----> 1\u001b[0m \u001b[43magent\u001b[49m\u001b[38;5;241;43m.\u001b[39;49m\u001b[43mparse_output_contents\u001b[49m\u001b[43m(\u001b[49m\u001b[43m)\u001b[49m\n",
      "File \u001b[1;32mc:\\Users\\s381731\\OneDrive - Cranfield University\\Documents\\Projects\\Rocket-RAG\\notebooks\\..\\rocket_rag\\agent.py:394\u001b[0m, in \u001b[0;36mparse_output_contents\u001b[1;34m(self, show_refinement)\u001b[0m\n\u001b[0;32m    390\u001b[0m answers_text \u001b[38;5;241m=\u001b[39m \u001b[38;5;124m\"\u001b[39m\u001b[38;5;130;01m\\n\u001b[39;00m\u001b[38;5;130;01m\\n\u001b[39;00m\u001b[38;5;124m\"\u001b[39m\u001b[38;5;241m.\u001b[39mjoin(answers)\n\u001b[0;32m    392\u001b[0m rec_text \u001b[38;5;241m=\u001b[39m \u001b[38;5;28mself\u001b[39m\u001b[38;5;241m.\u001b[39mtext_summarization[\u001b[38;5;241m0\u001b[39m]\n\u001b[1;32m--> 394\u001b[0m parse_output_messages \u001b[38;5;241m=\u001b[39m [\n\u001b[0;32m    395\u001b[0m     {\u001b[38;5;124m\"\u001b[39m\u001b[38;5;124mrole\u001b[39m\u001b[38;5;124m\"\u001b[39m: \u001b[38;5;124m\"\u001b[39m\u001b[38;5;124msystem\u001b[39m\u001b[38;5;124m\"\u001b[39m, \u001b[38;5;124m\"\u001b[39m\u001b[38;5;124mcontent\u001b[39m\u001b[38;5;124m\"\u001b[39m: parse_output_prompt\u001b[38;5;241m.\u001b[39msys_prompt},\n\u001b[0;32m    396\u001b[0m     {\u001b[38;5;124m\"\u001b[39m\u001b[38;5;124mrole\u001b[39m\u001b[38;5;124m\"\u001b[39m: \u001b[38;5;124m\"\u001b[39m\u001b[38;5;124muser\u001b[39m\u001b[38;5;124m\"\u001b[39m, \u001b[38;5;124m\"\u001b[39m\u001b[38;5;124mcontent\u001b[39m\u001b[38;5;124m\"\u001b[39m: parse_output_prompt\u001b[38;5;241m.\u001b[39muser_prompt\u001b[38;5;241m.\u001b[39mformat(fault_text\u001b[38;5;241m=\u001b[39mfault_text, \n\u001b[0;32m    397\u001b[0m                                                                        query_text\u001b[38;5;241m=\u001b[39mquerys_text, \n\u001b[0;32m    398\u001b[0m                                                                        answer_text\u001b[38;5;241m=\u001b[39manswers_text, \n\u001b[0;32m    399\u001b[0m                                                                        rec_text\u001b[38;5;241m=\u001b[39mrec_text)},\n\u001b[0;32m    400\u001b[0m ]\n\u001b[0;32m    402\u001b[0m loguru\u001b[38;5;241m.\u001b[39mlogger\u001b[38;5;241m.\u001b[39mdebug(\u001b[38;5;124m\"\u001b[39m\u001b[38;5;124mParsing the output file with provided format...\u001b[39m\u001b[38;5;124m\"\u001b[39m)\n\u001b[0;32m    403\u001b[0m response \u001b[38;5;241m=\u001b[39m \u001b[38;5;28mself\u001b[39m\u001b[38;5;241m.\u001b[39mgenerate_response(prompts\u001b[38;5;241m=\u001b[39mparse_output_messages, temperature\u001b[38;5;241m=\u001b[39m\u001b[38;5;241m0.1\u001b[39m)\n",
      "\u001b[1;31mKeyError\u001b[0m: 'refine_text'"
     ]
    }
   ],
   "source": [
    "agent.parse_output_contents()"
   ]
  },
  {
   "cell_type": "code",
   "execution_count": null,
   "metadata": {},
   "outputs": [],
   "source": [
    "agent.save_output_contents(file_name='fault-diagnosis')"
   ]
  }
 ],
 "metadata": {
  "kernelspec": {
   "display_name": "agents2",
   "language": "python",
   "name": "python3"
  },
  "language_info": {
   "codemirror_mode": {
    "name": "ipython",
    "version": 3
   },
   "file_extension": ".py",
   "mimetype": "text/x-python",
   "name": "python",
   "nbconvert_exporter": "python",
   "pygments_lexer": "ipython3",
   "version": "3.11.5"
  }
 },
 "nbformat": 4,
 "nbformat_minor": 2
}
