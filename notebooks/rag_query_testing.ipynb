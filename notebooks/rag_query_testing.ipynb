{
 "cells": [
  {
   "cell_type": "code",
   "execution_count": 1,
   "metadata": {},
   "outputs": [
    {
     "name": "stderr",
     "output_type": "stream",
     "text": [
      "c:\\Users\\HAOXUAN\\miniconda3\\envs\\agents\\lib\\site-packages\\tqdm\\auto.py:21: TqdmWarning: IProgress not found. Please update jupyter and ipywidgets. See https://ipywidgets.readthedocs.io/en/stable/user_install.html\n",
      "  from .autonotebook import tqdm as notebook_tqdm\n"
     ]
    }
   ],
   "source": [
    "import re\n",
    "import sys\n",
    "\n",
    "sys.path.append(\"..\")\n",
    "from rocket_rag.utils import *\n",
    "from rocket_rag.node import Node\n",
    "from rocket_rag.node_indexing import NodeIndexer\n",
    "\n",
    "from typing import List, Any, Dict, Tuple\n",
    "\n",
    "from pyts.transformation import ROCKET\n",
    "from sklearn.neighbors import KNeighborsClassifier\n",
    "from sklearn.svm import SVC\n",
    "from sklearn.linear_model import RidgeClassifier\n",
    "from sklearn.metrics import accuracy_score"
   ]
  },
  {
   "cell_type": "code",
   "execution_count": 2,
   "metadata": {},
   "outputs": [],
   "source": [
    "class BaseVectorStore():\n",
    "    \"\"\"Simple custom Vector Store.\n",
    "\n",
    "    Stores documents in a simple in-memory dict.\n",
    "\n",
    "    \"\"\"\n",
    "\n",
    "    stores_text: bool = True\n",
    "\n",
    "    def get(self, text_id: str) -> List[float]:\n",
    "        \"\"\"Get vector for a text ID.\"\"\"\n",
    "        pass\n",
    "\n",
    "    def add(self, nodes: List[Node]) -> List[str]:\n",
    "        \"\"\"Add nodes to index\"\"\"\n",
    "        pass\n",
    "\n",
    "    def delete(self, node_id: str, **delete_kwargs: Any) -> None:\n",
    "        \"\"\"Delete nodes using node_id.\"\"\"\n",
    "        pass\n",
    "\n",
    "    def query(self, query: str, **kwargs: Any):\n",
    "        \"\"\"Get nodes for response\"\"\"\n",
    "        pass "
   ]
  },
  {
   "cell_type": "code",
   "execution_count": 3,
   "metadata": {},
   "outputs": [],
   "source": [
    "class VectorStore(BaseVectorStore):\n",
    "    \"\"\"An updated version of above SimpleVectorStore\"\"\"\n",
    "\n",
    "    stores_text: bool = True\n",
    "\n",
    "    def __init__(self) -> None:\n",
    "        \"\"\"Init params\"\"\"\n",
    "        self.node_dict: Dict[str, Node] = {}\n",
    "        self.nodes = self.node_dict.values()\n",
    "        super().__init__()\n",
    "\n",
    "    def get(self, text_id: str) -> List[float]:\n",
    "        \"\"\"Get vector for a text ID.\"\"\"\n",
    "        return self.node_dict[text_id]\n",
    "    \n",
    "    def add(self, nodes: List[Node]) -> List[str]:\n",
    "        \"\"\"Add nodes to index\"\"\"\n",
    "        for node in nodes:\n",
    "            self.node_dict[node.node_id] = node\n",
    "    \n",
    "    def delete(self, node_id: str, **delete_kwargs: Any) -> None:\n",
    "        \"\"\"Delete nodes using node_id\"\"\"\n",
    "        del self.node_dict[node_id]"
   ]
  },
  {
   "cell_type": "code",
   "execution_count": 4,
   "metadata": {},
   "outputs": [
    {
     "name": "stderr",
     "output_type": "stream",
     "text": [
      "\u001b[32m2024-05-25 13:31:52.785\u001b[0m | \u001b[34m\u001b[1mDEBUG   \u001b[0m | \u001b[36m__main__\u001b[0m:\u001b[36m<module>\u001b[0m:\u001b[36m1\u001b[0m - \u001b[34m\u001b[1mTesting on vector store module...\u001b[0m\n",
      "\u001b[32m2024-05-25 13:31:52.786\u001b[0m | \u001b[34m\u001b[1mDEBUG   \u001b[0m | \u001b[36mrocket_rag.node_indexing\u001b[0m:\u001b[36mload_node_indexing\u001b[0m:\u001b[36m98\u001b[0m - \u001b[34m\u001b[1mLoading all nodes...\u001b[0m\n",
      "\u001b[32m2024-05-25 13:31:53.198\u001b[0m | \u001b[1mINFO    \u001b[0m | \u001b[36mrocket_rag.node_indexing\u001b[0m:\u001b[36mload_node_indexing\u001b[0m:\u001b[36m102\u001b[0m - \u001b[1mAll nodes are loaded.\u001b[0m\n"
     ]
    }
   ],
   "source": [
    "loguru.logger.debug(f'Testing on vector store module...')\n",
    "load = '-40kg'\n",
    "node_indexer = NodeIndexer()\n",
    "nodes = node_indexer.load_node_indexing(f'../store/nodes_{load}.pkl')"
   ]
  },
  {
   "cell_type": "code",
   "execution_count": 5,
   "metadata": {},
   "outputs": [
    {
     "name": "stderr",
     "output_type": "stream",
     "text": [
      "\u001b[32m2024-05-25 13:31:54.817\u001b[0m | \u001b[34m\u001b[1mDEBUG   \u001b[0m | \u001b[36m__main__\u001b[0m:\u001b[36m<module>\u001b[0m:\u001b[36m1\u001b[0m - \u001b[34m\u001b[1mInitializing vector store...\u001b[0m\n",
      "\u001b[32m2024-05-25 13:31:54.817\u001b[0m | \u001b[1mINFO    \u001b[0m | \u001b[36m__main__\u001b[0m:\u001b[36m<module>\u001b[0m:\u001b[36m4\u001b[0m - \u001b[1mLoaded nodes into the vector store.\u001b[0m\n"
     ]
    }
   ],
   "source": [
    "loguru.logger.debug(f'Initializing vector store...')\n",
    "vector_store = VectorStore()\n",
    "vector_store.add(nodes)\n",
    "loguru.logger.info(f'Loaded nodes into the vector store.')"
   ]
  },
  {
   "cell_type": "code",
   "execution_count": 6,
   "metadata": {},
   "outputs": [],
   "source": [
    "rocket_features = np.array([node.get_rocket_feature() for node in vector_store.nodes])\n",
    "doc_ids = np.array([node.id_ for node in vector_store.nodes])"
   ]
  },
  {
   "cell_type": "code",
   "execution_count": 7,
   "metadata": {},
   "outputs": [],
   "source": [
    "if_files_dict = parse_files(main_directory=INFERENCE_DIR)\n",
    "if_ts_files = if_files_dict[load]"
   ]
  },
  {
   "cell_type": "code",
   "execution_count": 43,
   "metadata": {},
   "outputs": [
    {
     "name": "stderr",
     "output_type": "stream",
     "text": [
      "\u001b[32m2024-05-25 14:24:23.633\u001b[0m | \u001b[34m\u001b[1mDEBUG   \u001b[0m | \u001b[36mrocket_rag.utils\u001b[0m:\u001b[36mfit_transform\u001b[0m:\u001b[36m149\u001b[0m - \u001b[34m\u001b[1mExtract the time series data points\u001b[0m\n",
      "\u001b[32m2024-05-25 14:24:23.657\u001b[0m | \u001b[1mINFO    \u001b[0m | \u001b[36mrocket_rag.utils\u001b[0m:\u001b[36mfit\u001b[0m:\u001b[36m125\u001b[0m - \u001b[1mtime series extracted SUCCESSFULLY.\u001b[0m\n",
      "\u001b[32m2024-05-25 14:24:23.658\u001b[0m | \u001b[34m\u001b[1mDEBUG   \u001b[0m | \u001b[36mrocket_rag.utils\u001b[0m:\u001b[36mfit_transform\u001b[0m:\u001b[36m161\u001b[0m - \u001b[34m\u001b[1mRocket transforming...\u001b[0m\n"
     ]
    },
    {
     "name": "stdout",
     "output_type": "stream",
     "text": [
      "Randomly selected file: ../data/inference/-40kg\\spalling5\\spalling5_-40_3_2.csv\n"
     ]
    }
   ],
   "source": [
    "# np.random.seed(42)\n",
    "rand_idx = np.random.randint(0, len(if_ts_files))\n",
    "if_ts_filename = if_ts_files[rand_idx]\n",
    "print(f'Randomly selected file: {if_ts_filename}')\n",
    "\n",
    "if_rocket_feature = fit_transform(ts_filename=[if_ts_filename],\n",
    "                                  field='current',\n",
    "                                  smooth=True,\n",
    "                                  smooth_ws=15,\n",
    "                                  tolist=False,\n",
    "                                  verbo=True)"
   ]
  },
  {
   "cell_type": "markdown",
   "metadata": {},
   "source": [
    "### Use sklearn to do the retrieval"
   ]
  },
  {
   "cell_type": "code",
   "execution_count": 23,
   "metadata": {},
   "outputs": [],
   "source": [
    "def parse_result(res: Union[List[Any], np.ndarray]):\n",
    "    tar_str = res.tolist()[0] if isinstance(res, np.ndarray) else res\n",
    "    return re.match(r'(.*?)_', tar_str).group(1)"
   ]
  },
  {
   "cell_type": "code",
   "execution_count": 95,
   "metadata": {},
   "outputs": [
    {
     "name": "stdout",
     "output_type": "stream",
     "text": [
      "[2.913731003851641, 3.2295925336847713, 3.265172098148915, 3.329911209755798, 3.5833409196557535]\n",
      "['spalling5_-40_3_4', 'spalling6_-40_4_3', 'spalling4_-40_5_4', 'spalling4_-40_2_1', 'spalling4_-40_6_2']\n"
     ]
    }
   ],
   "source": [
    "knn = KNeighborsClassifier(n_neighbors=1, weights='distance', metric='euclidean')\n",
    "knn.fit(rocket_features, doc_ids)\n",
    "knn_pred = knn.predict(if_rocket_feature)\n",
    "dist, ids = knn.kneighbors(if_rocket_feature, n_neighbors=5, return_distance=True)\n",
    "ids_to_doc = {i: doc_ids[i] for i in range(len(doc_ids))}\n",
    "print(dist.squeeze().tolist())\n",
    "# print(ids_to_doc[ids.squeeze().tolist()])\n",
    "print([ids_to_doc[i] for i in ids.tolist()[0]])\n",
    "# print(parse_result(knn_pred))"
   ]
  },
  {
   "cell_type": "code",
   "execution_count": 20,
   "metadata": {},
   "outputs": [
    {
     "name": "stdout",
     "output_type": "stream",
     "text": [
      "backlash2\n"
     ]
    }
   ],
   "source": [
    "ridge = RidgeClassifier()\n",
    "ridge.fit(rocket_features, doc_ids)\n",
    "ridge_pred = ridge.predict(if_rocket_feature)\n",
    "print(parse_result(ridge_pred))"
   ]
  },
  {
   "cell_type": "markdown",
   "metadata": {},
   "source": [
    "### Use handcraft coding for KNN retrieval"
   ]
  },
  {
   "cell_type": "code",
   "execution_count": 22,
   "metadata": {},
   "outputs": [],
   "source": [
    "euclidean = [np.linalg.norm(rf - if_rocket_feature.squeeze()) for rf in rocket_features]\n",
    "cosine = [np.dot(rf, if_rocket_feature.squeeze()) / (np.linalg.norm(rf) * np.linalg.norm(if_rocket_feature.squeeze())) for rf in rocket_features]"
   ]
  },
  {
   "cell_type": "code",
   "execution_count": 23,
   "metadata": {},
   "outputs": [
    {
     "data": {
      "text/plain": [
       "[(7.6432402002574165, 'backlash2_-40_8_4'),\n",
       " (9.13494425676515, 'backlash2_-40_7_2'),\n",
       " (9.529327858850607, 'backlash2_-40_9_5')]"
      ]
     },
     "execution_count": 23,
     "metadata": {},
     "output_type": "execute_result"
    }
   ],
   "source": [
    "sorted([(euclidean[i], doc_ids[i]) for i in range(len(doc_ids))], key=lambda x: x[0])[:3]"
   ]
  },
  {
   "cell_type": "code",
   "execution_count": 24,
   "metadata": {},
   "outputs": [
    {
     "data": {
      "text/plain": [
       "[(0.9988390402632548, 'backlash2_-40_8_4'),\n",
       " (0.9986860760662098, 'backlash2_-40_9_5'),\n",
       " (0.9985502045686941, 'backlash2_-40_7_2')]"
      ]
     },
     "execution_count": 24,
     "metadata": {},
     "output_type": "execute_result"
    }
   ],
   "source": [
    "sorted([(cosine[i], doc_ids[i]) for i in range(len(doc_ids))], key=lambda x: x[0], reverse=True)[:3]"
   ]
  },
  {
   "cell_type": "code",
   "execution_count": null,
   "metadata": {},
   "outputs": [],
   "source": []
  }
 ],
 "metadata": {
  "kernelspec": {
   "display_name": "agents",
   "language": "python",
   "name": "python3"
  },
  "language_info": {
   "codemirror_mode": {
    "name": "ipython",
    "version": 3
   },
   "file_extension": ".py",
   "mimetype": "text/x-python",
   "name": "python",
   "nbconvert_exporter": "python",
   "pygments_lexer": "ipython3",
   "version": "3.10.13"
  }
 },
 "nbformat": 4,
 "nbformat_minor": 2
}
