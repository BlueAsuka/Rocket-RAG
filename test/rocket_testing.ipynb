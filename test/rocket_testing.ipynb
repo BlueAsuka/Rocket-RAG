{
 "cells": [
  {
   "cell_type": "code",
   "execution_count": 1,
   "metadata": {},
   "outputs": [
    {
     "name": "stderr",
     "output_type": "stream",
     "text": [
      "c:\\Users\\s381731\\AppData\\Local\\miniconda3\\envs\\agents\\Lib\\site-packages\\tqdm\\auto.py:21: TqdmWarning: IProgress not found. Please update jupyter and ipywidgets. See https://ipywidgets.readthedocs.io/en/stable/user_install.html\n",
      "  from .autonotebook import tqdm as notebook_tqdm\n"
     ]
    }
   ],
   "source": [
    "import sys\n",
    "sys.path.append('../')\n",
    "from rocket_rag.utils import *\n",
    "from rocket_rag.data_processing import *"
   ]
  },
  {
   "cell_type": "code",
   "execution_count": 2,
   "metadata": {},
   "outputs": [],
   "source": [
    "def compute_top_5_accuracy(y_test, y_pred):\n",
    "    \"\"\"\n",
    "    \n",
    "    \"\"\"\n",
    "    sum = 0 \n",
    "    for i in range(len(y_pred)):\n",
    "        top_k = []\n",
    "        if y_test[i] == 0:\n",
    "            top_k.append(0)\n",
    "        elif y_test[i] in [1,2]:\n",
    "            top_k.extend([1,2])\n",
    "        elif y_test[i] in [3,4]:\n",
    "             top_k.extend([3,4])\n",
    "        elif y_test[i] > 4: \n",
    "             deb = y_test[i] - 2\n",
    "             fin = y_test[i] + 2\n",
    "             if fin >12:\n",
    "                 deb = deb - (fin-12)\n",
    "                 fin = 12\n",
    "             if deb < 5:\n",
    "                fin = fin + 5- deb\n",
    "                deb = 5\n",
    "             top_k.extend(list(range(deb,fin+1)))\n",
    "        if y_pred[i] in top_k:\n",
    "            sum = sum + 1\n",
    "    return sum/len(y_pred)"
   ]
  },
  {
   "cell_type": "markdown",
   "metadata": {},
   "source": [
    "### Load all data"
   ]
  },
  {
   "cell_type": "code",
   "execution_count": 3,
   "metadata": {},
   "outputs": [],
   "source": [
    "train_files_dict = parse_files(main_directory=INSTANCES_DIR)\n",
    "test_files_dict = parse_files(main_directory=INFERENCE_DIR)"
   ]
  },
  {
   "cell_type": "code",
   "execution_count": 4,
   "metadata": {},
   "outputs": [
    {
     "data": {
      "text/plain": [
       "['20kg', '40kg', '-40kg']"
      ]
     },
     "execution_count": 4,
     "metadata": {},
     "output_type": "execute_result"
    }
   ],
   "source": [
    "list(train_files_dict.keys())"
   ]
  },
  {
   "cell_type": "code",
   "execution_count": 5,
   "metadata": {},
   "outputs": [],
   "source": [
    "train_files_ls = [file for _, files in train_files_dict.items() for file in files]\n",
    "test_files_ls = [file for _, files in test_files_dict.items() for file in files]"
   ]
  },
  {
   "cell_type": "code",
   "execution_count": 17,
   "metadata": {},
   "outputs": [
    {
     "data": {
      "text/plain": [
       "['../data/instances/20kg\\\\normal\\\\normal_20_10_1.csv',\n",
       " '../data/instances/20kg\\\\normal\\\\normal_20_10_3.csv',\n",
       " '../data/instances/20kg\\\\normal\\\\normal_20_10_4.csv',\n",
       " '../data/instances/20kg\\\\normal\\\\normal_20_10_5.csv',\n",
       " '../data/instances/20kg\\\\normal\\\\normal_20_1_5.csv']"
      ]
     },
     "execution_count": 17,
     "metadata": {},
     "output_type": "execute_result"
    }
   ],
   "source": [
    "train_files_ls[:5]"
   ]
  },
  {
   "cell_type": "markdown",
   "metadata": {},
   "source": [
    "### Construct the dataset"
   ]
  },
  {
   "cell_type": "code",
   "execution_count": 7,
   "metadata": {},
   "outputs": [
    {
     "name": "stderr",
     "output_type": "stream",
     "text": [
      "  0%|          | 0/1556 [00:00<?, ?it/s]"
     ]
    },
    {
     "name": "stderr",
     "output_type": "stream",
     "text": [
      "100%|██████████| 1556/1556 [00:04<00:00, 364.83it/s]\n",
      "100%|██████████| 389/389 [00:00<00:00, 490.28it/s]\n"
     ]
    }
   ],
   "source": [
    "# X_train, y_train = construct_dataset(train_files_ls)\n",
    "# X_test, y_test = construct_dataset(test_files_ls)"
   ]
  },
  {
   "cell_type": "code",
   "execution_count": 69,
   "metadata": {},
   "outputs": [
    {
     "name": "stderr",
     "output_type": "stream",
     "text": [
      "100%|██████████| 516/516 [00:01<00:00, 475.34it/s]\n",
      "100%|██████████| 129/129 [00:00<00:00, 462.43it/s]\n"
     ]
    }
   ],
   "source": [
    "load = '40kg'\n",
    "X_train, y_train = construct_dataset(train_files_dict[load])\n",
    "X_test, y_test = construct_dataset(test_files_dict[load])"
   ]
  },
  {
   "cell_type": "markdown",
   "metadata": {},
   "source": [
    "### ROCKET with different classifiers (All run on i7-12700H @3.30Hz CPU)"
   ]
  },
  {
   "cell_type": "code",
   "execution_count": 70,
   "metadata": {},
   "outputs": [],
   "source": [
    "from pyts.transformation import ROCKET\n",
    "from sklearn.neighbors import KNeighborsClassifier\n",
    "from sklearn.linear_model import  RidgeClassifier\n",
    "from sklearn.svm import SVC\n",
    "from sklearn.metrics import accuracy_score\n",
    "import loguru"
   ]
  },
  {
   "cell_type": "code",
   "execution_count": 71,
   "metadata": {},
   "outputs": [],
   "source": [
    "# Use pyts to apply rocket\n",
    "rocket = ROCKET(n_kernels=10000, kernel_sizes=([9]), random_state=42)"
   ]
  },
  {
   "cell_type": "code",
   "execution_count": 72,
   "metadata": {},
   "outputs": [
    {
     "data": {
      "text/plain": [
       "array([[0.45917324, 0.42076224, 0.45927324, ..., 1.13041455, 1.13414574,\n",
       "        1.13033142],\n",
       "       [0.40745324, 0.43920424, 0.4426579 , ..., 1.11193705, 1.11597036,\n",
       "        1.12696261],\n",
       "       [0.54683224, 0.49195924, 0.48403524, ..., 1.12512224, 1.12742936,\n",
       "        1.13005592],\n",
       "       [0.31025579, 0.37336029, 0.46692612, ..., 1.1673241 , 1.16897517,\n",
       "        1.1659626 ],\n",
       "       [0.41402979, 0.31744179, 0.43803446, ..., 1.16804323, 1.1677121 ,\n",
       "        1.16676879]])"
      ]
     },
     "execution_count": 72,
     "metadata": {},
     "output_type": "execute_result"
    }
   ],
   "source": [
    "X_train[:5]"
   ]
  },
  {
   "cell_type": "code",
   "execution_count": 73,
   "metadata": {},
   "outputs": [
    {
     "name": "stderr",
     "output_type": "stream",
     "text": [
      "\u001b[32m2024-03-15 11:24:15.258\u001b[0m | \u001b[34m\u001b[1mDEBUG   \u001b[0m | \u001b[36m__main__\u001b[0m:\u001b[36m<module>\u001b[0m:\u001b[36m1\u001b[0m - \u001b[34m\u001b[1mFit the training data...\u001b[0m\n",
      "\u001b[32m2024-03-15 11:24:15.264\u001b[0m | \u001b[34m\u001b[1mDEBUG   \u001b[0m | \u001b[36m__main__\u001b[0m:\u001b[36m<module>\u001b[0m:\u001b[36m3\u001b[0m - \u001b[34m\u001b[1mTransform the training data...\u001b[0m\n",
      "\u001b[32m2024-03-15 11:24:29.517\u001b[0m | \u001b[34m\u001b[1mDEBUG   \u001b[0m | \u001b[36m__main__\u001b[0m:\u001b[36m<module>\u001b[0m:\u001b[36m5\u001b[0m - \u001b[34m\u001b[1mTransform the testing data...\u001b[0m\n",
      "\u001b[32m2024-03-15 11:24:32.558\u001b[0m | \u001b[1mINFO    \u001b[0m | \u001b[36m__main__\u001b[0m:\u001b[36m<module>\u001b[0m:\u001b[36m7\u001b[0m - \u001b[1mDONE!\u001b[0m\n"
     ]
    }
   ],
   "source": [
    "loguru.logger.debug(f'Fit the training data...')\n",
    "rocket_obj = rocket.fit(X_train)\n",
    "loguru.logger.debug(f'Transform the training data...')\n",
    "X_train_rocket = rocket_obj.transform(X_train)\n",
    "loguru.logger.debug(f'Transform the testing data...')\n",
    "X_test_rocket = rocket_obj.transform(X_test)\n",
    "loguru.logger.info(f'DONE!')\n",
    "# X_train_rocket"
   ]
  },
  {
   "cell_type": "code",
   "execution_count": 84,
   "metadata": {},
   "outputs": [
    {
     "name": "stdout",
     "output_type": "stream",
     "text": [
      "knn Accuracy: 0.7519\n"
     ]
    }
   ],
   "source": [
    "# KNN classification\n",
    "knn = KNeighborsClassifier(n_neighbors=1)\n",
    "knn.fit(X_train_rocket, y_train)\n",
    "knn_y_pred = knn.predict(X_test_rocket)\n",
    "accuracy = accuracy_score(y_test, knn_y_pred)\n",
    "print(f'knn Accuracy: {accuracy:.4f}')\n",
    "# knn_top5_accuracy = compute_top_5_accuracy(y_test, knn_y_pred)\n",
    "# print(f'knn top 5 Accuracy: {knn_top5_accuracy:.4f}')"
   ]
  },
  {
   "cell_type": "code",
   "execution_count": 75,
   "metadata": {},
   "outputs": [],
   "source": [
    "# SVM classification \n",
    "# svm = SVC(kernel='linear')\n",
    "# svm.fit(X_train_rocket, y_train)\n",
    "# svm_y_pred = svm.predict(X_test_rocket)\n",
    "# accuracy = accuracy_score(y_test, svm_y_pred)\n",
    "# print(f'SVM Accuracy: {accuracy:.4f}')\n",
    "# svm_top5_accuracy = compute_top_5_accuracy(y_test, svm_y_pred)\n",
    "# print(f'SVM top 5 Accuracy: {svm_top5_accuracy:.4f}')"
   ]
  },
  {
   "cell_type": "markdown",
   "metadata": {},
   "source": [
    "### Compute the ridge classifier accuracy\n",
    "\n",
    "20kg: 80.7692%\n",
    "\n",
    "40kg: 82.1705%\n",
    "\n",
    "-40kg: 83.0769%"
   ]
  },
  {
   "cell_type": "code",
   "execution_count": 83,
   "metadata": {},
   "outputs": [
    {
     "name": "stdout",
     "output_type": "stream",
     "text": [
      "Ridge Accuracy: 82.1705%\n"
     ]
    }
   ],
   "source": [
    "# Ridge classification\n",
    "ridge = RidgeClassifier()\n",
    "ridge.fit(X_train_rocket, y_train)\n",
    "ridge_y_pred = ridge.predict(X_test_rocket)\n",
    "accuracy = accuracy_score(y_test, ridge_y_pred)\n",
    "print(f'Ridge Accuracy: {accuracy*100:.4f}%')\n",
    "# ridge_top5_accuracy = compute_top_5_accuracy(y_test, ridge_y_pred)\n",
    "# print(f'Ridge top 5 Accuracy: {ridge_top5_accuracy*100:.4f}%')"
   ]
  },
  {
   "cell_type": "markdown",
   "metadata": {},
   "source": [
    "### Compare with InceptionTime (Run on NVIDIA GeForce RTX 3060 Laptop GPU)\n",
    "20kg: 83.8462%\n",
    "\n",
    "40kg: 86.0465%\n",
    "\n",
    "-40kg: 79.2308%"
   ]
  },
  {
   "cell_type": "code",
   "execution_count": 77,
   "metadata": {},
   "outputs": [],
   "source": [
    "from tsai.all import *"
   ]
  },
  {
   "cell_type": "code",
   "execution_count": 78,
   "metadata": {},
   "outputs": [],
   "source": [
    "X, y, splits = combine_split_data([X_train], [y_train])"
   ]
  },
  {
   "cell_type": "code",
   "execution_count": 79,
   "metadata": {},
   "outputs": [],
   "source": [
    "tfms = [None, [Categorize()]]\n",
    "dls = get_ts_dls(X_train, y_train, splits=splits, tfms=tfms, bs=[64, 128])"
   ]
  },
  {
   "cell_type": "code",
   "execution_count": 80,
   "metadata": {},
   "outputs": [
    {
     "data": {
      "text/html": [
       "\n",
       "<style>\n",
       "    /* Turns off some styling */\n",
       "    progress {\n",
       "        /* gets rid of default border in Firefox and Opera. */\n",
       "        border: none;\n",
       "        /* Needs to be in here for Safari polyfill so background images work as expected. */\n",
       "        background-size: auto;\n",
       "    }\n",
       "    progress:not([value]), progress:not([value])::-webkit-progress-bar {\n",
       "        background: repeating-linear-gradient(45deg, #7e7e7e, #7e7e7e 10px, #5c5c5c 10px, #5c5c5c 20px);\n",
       "    }\n",
       "    .progress-bar-interrupted, .progress-bar-interrupted::-webkit-progress-bar {\n",
       "        background: #F44336;\n",
       "    }\n",
       "</style>\n"
      ],
      "text/plain": [
       "<IPython.core.display.HTML object>"
      ]
     },
     "metadata": {},
     "output_type": "display_data"
    },
    {
     "data": {
      "text/html": [
       "\n",
       "    <div>\n",
       "      <progress value='0' class='' max='100' style='width:300px; height:20px; vertical-align: middle;'></progress>\n",
       "      0.00% [0/100 00:00&lt;?]\n",
       "    </div>\n",
       "    \n",
       "<table border=\"1\" class=\"dataframe\">\n",
       "  <thead>\n",
       "    <tr style=\"text-align: left;\">\n",
       "      <th>epoch</th>\n",
       "      <th>train_loss</th>\n",
       "      <th>accuracy</th>\n",
       "      <th>time</th>\n",
       "    </tr>\n",
       "  </thead>\n",
       "  <tbody>\n",
       "  </tbody>\n",
       "</table><p>\n",
       "\n",
       "    <div>\n",
       "      <progress value='0' class='' max='8' style='width:300px; height:20px; vertical-align: middle;'></progress>\n",
       "      0.00% [0/8 00:00&lt;?]\n",
       "    </div>\n",
       "    "
      ],
      "text/plain": [
       "<IPython.core.display.HTML object>"
      ]
     },
     "metadata": {},
     "output_type": "display_data"
    },
    {
     "data": {
      "image/png": "[encoded data removed]",
      "text/plain": [
       "<Figure size 600x400 with 1 Axes>"
      ]
     },
     "metadata": {},
     "output_type": "display_data"
    },
    {
     "data": {
      "image/png": "[encoded data removed]",
      "text/plain": [
       "<Figure size 1300x400 with 2 Axes>"
      ]
     },
     "metadata": {},
     "output_type": "display_data"
    }
   ],
   "source": [
    "learn = ts_learner(dls, InceptionTime, metrics=accuracy , cbs=ShowGraph())\n",
    "learn.fit_one_cycle(100)"
   ]
  },
  {
   "cell_type": "code",
   "execution_count": 81,
   "metadata": {},
   "outputs": [
    {
     "data": {
      "text/html": [
       "\n",
       "<style>\n",
       "    /* Turns off some styling */\n",
       "    progress {\n",
       "        /* gets rid of default border in Firefox and Opera. */\n",
       "        border: none;\n",
       "        /* Needs to be in here for Safari polyfill so background images work as expected. */\n",
       "        background-size: auto;\n",
       "    }\n",
       "    progress:not([value]), progress:not([value])::-webkit-progress-bar {\n",
       "        background: repeating-linear-gradient(45deg, #7e7e7e, #7e7e7e 10px, #5c5c5c 10px, #5c5c5c 20px);\n",
       "    }\n",
       "    .progress-bar-interrupted, .progress-bar-interrupted::-webkit-progress-bar {\n",
       "        background: #F44336;\n",
       "    }\n",
       "</style>\n"
      ],
      "text/plain": [
       "<IPython.core.display.HTML object>"
      ]
     },
     "metadata": {},
     "output_type": "display_data"
    },
    {
     "data": {
      "text/html": [
       "\n",
       "    <div>\n",
       "      <progress value='0' class='' max='3' style='width:300px; height:20px; vertical-align: middle;'></progress>\n",
       "      0.00% [0/3 00:00&lt;?]\n",
       "    </div>\n",
       "    "
      ],
      "text/plain": [
       "<IPython.core.display.HTML object>"
      ]
     },
     "metadata": {},
     "output_type": "display_data"
    }
   ],
   "source": [
    "X_t, y_t, splits = combine_split_data([X_test], [y_test])\n",
    "probas, targets, preds = learn.get_X_preds(X_t, y_t, with_decoded=True)"
   ]
  },
  {
   "cell_type": "code",
   "execution_count": 85,
   "metadata": {},
   "outputs": [
    {
     "name": "stdout",
     "output_type": "stream",
     "text": [
      "InceptionTime Accuracy: 86.0465%\n"
     ]
    }
   ],
   "source": [
    "it_y_preds = np.argmax(probas, axis=-1)\n",
    "accuracy = accuracy_score(y_t, it_y_preds)\n",
    "print(f\"InceptionTime Accuracy: {accuracy*100:.4f}%\")\n",
    "# top5_accuracy = compute_top_5_accuracy(y_test, it_y_preds)\n",
    "# print(f'InceptionTime top 5 Accuracy: {top5_accuracy*100:.4f}%')"
   ]
  },
  {
   "cell_type": "code",
   "execution_count": null,
   "metadata": {},
   "outputs": [],
   "source": []
  }
 ],
 "metadata": {
  "kernelspec": {
   "display_name": "agents",
   "language": "python",
   "name": "python3"
  },
  "language_info": {
   "codemirror_mode": {
    "name": "ipython",
    "version": 3
   },
   "file_extension": ".py",
   "mimetype": "text/x-python",
   "name": "python",
   "nbconvert_exporter": "python",
   "pygments_lexer": "ipython3",
   "version": "3.11.5"
  }
 },
 "nbformat": 4,
 "nbformat_minor": 2
}
